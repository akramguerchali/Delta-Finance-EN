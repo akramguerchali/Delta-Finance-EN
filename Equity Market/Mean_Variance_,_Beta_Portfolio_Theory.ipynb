{
  "nbformat": 4,
  "nbformat_minor": 0,
  "metadata": {
    "colab": {
      "provenance": []
    },
    "kernelspec": {
      "name": "python3",
      "display_name": "Python 3"
    },
    "language_info": {
      "name": "python"
    }
  },
  "cells": [
    {
      "cell_type": "code",
      "execution_count": 586,
      "metadata": {
        "id": "IAp2ies7iUFA"
      },
      "outputs": [],
      "source": [
        "import numpy as np\n",
        "import pandas as pd\n",
        "import matplotlib.pyplot as plt\n",
        "from scipy.optimize import minimize\n",
        "import yfinance as yf"
      ]
    },
    {
      "cell_type": "code",
      "source": [
        "symbols =['AAPL', 'TSLA']\n",
        "start = '2016-01-01'\n",
        "end = '2024-02-29'"
      ],
      "metadata": {
        "id": "-g6T9vOlinTx"
      },
      "execution_count": 587,
      "outputs": []
    },
    {
      "cell_type": "code",
      "source": [
        "data = yf.download(symbols, start, end)['Adj Close']"
      ],
      "metadata": {
        "colab": {
          "base_uri": "https://localhost:8080/"
        },
        "id": "1fzuP5rui0ZH",
        "outputId": "89ab733b-abd0-4053-f6b6-ee6536c4c314"
      },
      "execution_count": 588,
      "outputs": [
        {
          "output_type": "stream",
          "name": "stderr",
          "text": [
            "[*********************100%%**********************]  2 of 2 completed\n"
          ]
        }
      ]
    },
    {
      "cell_type": "code",
      "source": [
        "rets = np.log(data[symbols] / data[symbols].shift(1)).dropna()"
      ],
      "metadata": {
        "id": "jhPNsufCi-kv"
      },
      "execution_count": 589,
      "outputs": []
    },
    {
      "cell_type": "code",
      "source": [
        "rets"
      ],
      "metadata": {
        "colab": {
          "base_uri": "https://localhost:8080/",
          "height": 455
        },
        "id": "3gLjT0GJjQuH",
        "outputId": "2d4e593a-f467-4d45-b5f7-ee67c7540160"
      },
      "execution_count": 590,
      "outputs": [
        {
          "output_type": "execute_result",
          "data": {
            "text/plain": [
              "Ticker          AAPL      TSLA\n",
              "Date                          \n",
              "2016-01-05 -0.025379  0.000090\n",
              "2016-01-06 -0.019764 -0.019844\n",
              "2016-01-07 -0.043121 -0.015598\n",
              "2016-01-08  0.005274 -0.021799\n",
              "2016-01-11  0.016063 -0.015041\n",
              "...              ...       ...\n",
              "2024-02-16 -0.008466 -0.002498\n",
              "2024-02-20 -0.004122 -0.031447\n",
              "2024-02-21  0.004177  0.005199\n",
              "2024-02-22  0.011181  0.013463\n",
              "2024-02-23 -0.010085 -0.027944\n",
              "\n",
              "[2048 rows x 2 columns]"
            ],
            "text/html": [
              "\n",
              "  <div id=\"df-d4ca6251-a7f7-4ec5-aebb-f125e8f89283\" class=\"colab-df-container\">\n",
              "    <div>\n",
              "<style scoped>\n",
              "    .dataframe tbody tr th:only-of-type {\n",
              "        vertical-align: middle;\n",
              "    }\n",
              "\n",
              "    .dataframe tbody tr th {\n",
              "        vertical-align: top;\n",
              "    }\n",
              "\n",
              "    .dataframe thead th {\n",
              "        text-align: right;\n",
              "    }\n",
              "</style>\n",
              "<table border=\"1\" class=\"dataframe\">\n",
              "  <thead>\n",
              "    <tr style=\"text-align: right;\">\n",
              "      <th>Ticker</th>\n",
              "      <th>AAPL</th>\n",
              "      <th>TSLA</th>\n",
              "    </tr>\n",
              "    <tr>\n",
              "      <th>Date</th>\n",
              "      <th></th>\n",
              "      <th></th>\n",
              "    </tr>\n",
              "  </thead>\n",
              "  <tbody>\n",
              "    <tr>\n",
              "      <th>2016-01-05</th>\n",
              "      <td>-0.025379</td>\n",
              "      <td>0.000090</td>\n",
              "    </tr>\n",
              "    <tr>\n",
              "      <th>2016-01-06</th>\n",
              "      <td>-0.019764</td>\n",
              "      <td>-0.019844</td>\n",
              "    </tr>\n",
              "    <tr>\n",
              "      <th>2016-01-07</th>\n",
              "      <td>-0.043121</td>\n",
              "      <td>-0.015598</td>\n",
              "    </tr>\n",
              "    <tr>\n",
              "      <th>2016-01-08</th>\n",
              "      <td>0.005274</td>\n",
              "      <td>-0.021799</td>\n",
              "    </tr>\n",
              "    <tr>\n",
              "      <th>2016-01-11</th>\n",
              "      <td>0.016063</td>\n",
              "      <td>-0.015041</td>\n",
              "    </tr>\n",
              "    <tr>\n",
              "      <th>...</th>\n",
              "      <td>...</td>\n",
              "      <td>...</td>\n",
              "    </tr>\n",
              "    <tr>\n",
              "      <th>2024-02-16</th>\n",
              "      <td>-0.008466</td>\n",
              "      <td>-0.002498</td>\n",
              "    </tr>\n",
              "    <tr>\n",
              "      <th>2024-02-20</th>\n",
              "      <td>-0.004122</td>\n",
              "      <td>-0.031447</td>\n",
              "    </tr>\n",
              "    <tr>\n",
              "      <th>2024-02-21</th>\n",
              "      <td>0.004177</td>\n",
              "      <td>0.005199</td>\n",
              "    </tr>\n",
              "    <tr>\n",
              "      <th>2024-02-22</th>\n",
              "      <td>0.011181</td>\n",
              "      <td>0.013463</td>\n",
              "    </tr>\n",
              "    <tr>\n",
              "      <th>2024-02-23</th>\n",
              "      <td>-0.010085</td>\n",
              "      <td>-0.027944</td>\n",
              "    </tr>\n",
              "  </tbody>\n",
              "</table>\n",
              "<p>2048 rows × 2 columns</p>\n",
              "</div>\n",
              "    <div class=\"colab-df-buttons\">\n",
              "\n",
              "  <div class=\"colab-df-container\">\n",
              "    <button class=\"colab-df-convert\" onclick=\"convertToInteractive('df-d4ca6251-a7f7-4ec5-aebb-f125e8f89283')\"\n",
              "            title=\"Convert this dataframe to an interactive table.\"\n",
              "            style=\"display:none;\">\n",
              "\n",
              "  <svg xmlns=\"http://www.w3.org/2000/svg\" height=\"24px\" viewBox=\"0 -960 960 960\">\n",
              "    <path d=\"M120-120v-720h720v720H120Zm60-500h600v-160H180v160Zm220 220h160v-160H400v160Zm0 220h160v-160H400v160ZM180-400h160v-160H180v160Zm440 0h160v-160H620v160ZM180-180h160v-160H180v160Zm440 0h160v-160H620v160Z\"/>\n",
              "  </svg>\n",
              "    </button>\n",
              "\n",
              "  <style>\n",
              "    .colab-df-container {\n",
              "      display:flex;\n",
              "      gap: 12px;\n",
              "    }\n",
              "\n",
              "    .colab-df-convert {\n",
              "      background-color: #E8F0FE;\n",
              "      border: none;\n",
              "      border-radius: 50%;\n",
              "      cursor: pointer;\n",
              "      display: none;\n",
              "      fill: #1967D2;\n",
              "      height: 32px;\n",
              "      padding: 0 0 0 0;\n",
              "      width: 32px;\n",
              "    }\n",
              "\n",
              "    .colab-df-convert:hover {\n",
              "      background-color: #E2EBFA;\n",
              "      box-shadow: 0px 1px 2px rgba(60, 64, 67, 0.3), 0px 1px 3px 1px rgba(60, 64, 67, 0.15);\n",
              "      fill: #174EA6;\n",
              "    }\n",
              "\n",
              "    .colab-df-buttons div {\n",
              "      margin-bottom: 4px;\n",
              "    }\n",
              "\n",
              "    [theme=dark] .colab-df-convert {\n",
              "      background-color: #3B4455;\n",
              "      fill: #D2E3FC;\n",
              "    }\n",
              "\n",
              "    [theme=dark] .colab-df-convert:hover {\n",
              "      background-color: #434B5C;\n",
              "      box-shadow: 0px 1px 3px 1px rgba(0, 0, 0, 0.15);\n",
              "      filter: drop-shadow(0px 1px 2px rgba(0, 0, 0, 0.3));\n",
              "      fill: #FFFFFF;\n",
              "    }\n",
              "  </style>\n",
              "\n",
              "    <script>\n",
              "      const buttonEl =\n",
              "        document.querySelector('#df-d4ca6251-a7f7-4ec5-aebb-f125e8f89283 button.colab-df-convert');\n",
              "      buttonEl.style.display =\n",
              "        google.colab.kernel.accessAllowed ? 'block' : 'none';\n",
              "\n",
              "      async function convertToInteractive(key) {\n",
              "        const element = document.querySelector('#df-d4ca6251-a7f7-4ec5-aebb-f125e8f89283');\n",
              "        const dataTable =\n",
              "          await google.colab.kernel.invokeFunction('convertToInteractive',\n",
              "                                                    [key], {});\n",
              "        if (!dataTable) return;\n",
              "\n",
              "        const docLinkHtml = 'Like what you see? Visit the ' +\n",
              "          '<a target=\"_blank\" href=https://colab.research.google.com/notebooks/data_table.ipynb>data table notebook</a>'\n",
              "          + ' to learn more about interactive tables.';\n",
              "        element.innerHTML = '';\n",
              "        dataTable['output_type'] = 'display_data';\n",
              "        await google.colab.output.renderOutput(dataTable, element);\n",
              "        const docLink = document.createElement('div');\n",
              "        docLink.innerHTML = docLinkHtml;\n",
              "        element.appendChild(docLink);\n",
              "      }\n",
              "    </script>\n",
              "  </div>\n",
              "\n",
              "\n",
              "<div id=\"df-4cb0efcb-c175-42bf-abfe-6e70229f88e9\">\n",
              "  <button class=\"colab-df-quickchart\" onclick=\"quickchart('df-4cb0efcb-c175-42bf-abfe-6e70229f88e9')\"\n",
              "            title=\"Suggest charts\"\n",
              "            style=\"display:none;\">\n",
              "\n",
              "<svg xmlns=\"http://www.w3.org/2000/svg\" height=\"24px\"viewBox=\"0 0 24 24\"\n",
              "     width=\"24px\">\n",
              "    <g>\n",
              "        <path d=\"M19 3H5c-1.1 0-2 .9-2 2v14c0 1.1.9 2 2 2h14c1.1 0 2-.9 2-2V5c0-1.1-.9-2-2-2zM9 17H7v-7h2v7zm4 0h-2V7h2v10zm4 0h-2v-4h2v4z\"/>\n",
              "    </g>\n",
              "</svg>\n",
              "  </button>\n",
              "\n",
              "<style>\n",
              "  .colab-df-quickchart {\n",
              "      --bg-color: #E8F0FE;\n",
              "      --fill-color: #1967D2;\n",
              "      --hover-bg-color: #E2EBFA;\n",
              "      --hover-fill-color: #174EA6;\n",
              "      --disabled-fill-color: #AAA;\n",
              "      --disabled-bg-color: #DDD;\n",
              "  }\n",
              "\n",
              "  [theme=dark] .colab-df-quickchart {\n",
              "      --bg-color: #3B4455;\n",
              "      --fill-color: #D2E3FC;\n",
              "      --hover-bg-color: #434B5C;\n",
              "      --hover-fill-color: #FFFFFF;\n",
              "      --disabled-bg-color: #3B4455;\n",
              "      --disabled-fill-color: #666;\n",
              "  }\n",
              "\n",
              "  .colab-df-quickchart {\n",
              "    background-color: var(--bg-color);\n",
              "    border: none;\n",
              "    border-radius: 50%;\n",
              "    cursor: pointer;\n",
              "    display: none;\n",
              "    fill: var(--fill-color);\n",
              "    height: 32px;\n",
              "    padding: 0;\n",
              "    width: 32px;\n",
              "  }\n",
              "\n",
              "  .colab-df-quickchart:hover {\n",
              "    background-color: var(--hover-bg-color);\n",
              "    box-shadow: 0 1px 2px rgba(60, 64, 67, 0.3), 0 1px 3px 1px rgba(60, 64, 67, 0.15);\n",
              "    fill: var(--button-hover-fill-color);\n",
              "  }\n",
              "\n",
              "  .colab-df-quickchart-complete:disabled,\n",
              "  .colab-df-quickchart-complete:disabled:hover {\n",
              "    background-color: var(--disabled-bg-color);\n",
              "    fill: var(--disabled-fill-color);\n",
              "    box-shadow: none;\n",
              "  }\n",
              "\n",
              "  .colab-df-spinner {\n",
              "    border: 2px solid var(--fill-color);\n",
              "    border-color: transparent;\n",
              "    border-bottom-color: var(--fill-color);\n",
              "    animation:\n",
              "      spin 1s steps(1) infinite;\n",
              "  }\n",
              "\n",
              "  @keyframes spin {\n",
              "    0% {\n",
              "      border-color: transparent;\n",
              "      border-bottom-color: var(--fill-color);\n",
              "      border-left-color: var(--fill-color);\n",
              "    }\n",
              "    20% {\n",
              "      border-color: transparent;\n",
              "      border-left-color: var(--fill-color);\n",
              "      border-top-color: var(--fill-color);\n",
              "    }\n",
              "    30% {\n",
              "      border-color: transparent;\n",
              "      border-left-color: var(--fill-color);\n",
              "      border-top-color: var(--fill-color);\n",
              "      border-right-color: var(--fill-color);\n",
              "    }\n",
              "    40% {\n",
              "      border-color: transparent;\n",
              "      border-right-color: var(--fill-color);\n",
              "      border-top-color: var(--fill-color);\n",
              "    }\n",
              "    60% {\n",
              "      border-color: transparent;\n",
              "      border-right-color: var(--fill-color);\n",
              "    }\n",
              "    80% {\n",
              "      border-color: transparent;\n",
              "      border-right-color: var(--fill-color);\n",
              "      border-bottom-color: var(--fill-color);\n",
              "    }\n",
              "    90% {\n",
              "      border-color: transparent;\n",
              "      border-bottom-color: var(--fill-color);\n",
              "    }\n",
              "  }\n",
              "</style>\n",
              "\n",
              "  <script>\n",
              "    async function quickchart(key) {\n",
              "      const quickchartButtonEl =\n",
              "        document.querySelector('#' + key + ' button');\n",
              "      quickchartButtonEl.disabled = true;  // To prevent multiple clicks.\n",
              "      quickchartButtonEl.classList.add('colab-df-spinner');\n",
              "      try {\n",
              "        const charts = await google.colab.kernel.invokeFunction(\n",
              "            'suggestCharts', [key], {});\n",
              "      } catch (error) {\n",
              "        console.error('Error during call to suggestCharts:', error);\n",
              "      }\n",
              "      quickchartButtonEl.classList.remove('colab-df-spinner');\n",
              "      quickchartButtonEl.classList.add('colab-df-quickchart-complete');\n",
              "    }\n",
              "    (() => {\n",
              "      let quickchartButtonEl =\n",
              "        document.querySelector('#df-4cb0efcb-c175-42bf-abfe-6e70229f88e9 button');\n",
              "      quickchartButtonEl.style.display =\n",
              "        google.colab.kernel.accessAllowed ? 'block' : 'none';\n",
              "    })();\n",
              "  </script>\n",
              "</div>\n",
              "\n",
              "  <div id=\"id_4603926b-3a1c-4631-bbe4-cfe42d5858da\">\n",
              "    <style>\n",
              "      .colab-df-generate {\n",
              "        background-color: #E8F0FE;\n",
              "        border: none;\n",
              "        border-radius: 50%;\n",
              "        cursor: pointer;\n",
              "        display: none;\n",
              "        fill: #1967D2;\n",
              "        height: 32px;\n",
              "        padding: 0 0 0 0;\n",
              "        width: 32px;\n",
              "      }\n",
              "\n",
              "      .colab-df-generate:hover {\n",
              "        background-color: #E2EBFA;\n",
              "        box-shadow: 0px 1px 2px rgba(60, 64, 67, 0.3), 0px 1px 3px 1px rgba(60, 64, 67, 0.15);\n",
              "        fill: #174EA6;\n",
              "      }\n",
              "\n",
              "      [theme=dark] .colab-df-generate {\n",
              "        background-color: #3B4455;\n",
              "        fill: #D2E3FC;\n",
              "      }\n",
              "\n",
              "      [theme=dark] .colab-df-generate:hover {\n",
              "        background-color: #434B5C;\n",
              "        box-shadow: 0px 1px 3px 1px rgba(0, 0, 0, 0.15);\n",
              "        filter: drop-shadow(0px 1px 2px rgba(0, 0, 0, 0.3));\n",
              "        fill: #FFFFFF;\n",
              "      }\n",
              "    </style>\n",
              "    <button class=\"colab-df-generate\" onclick=\"generateWithVariable('rets')\"\n",
              "            title=\"Generate code using this dataframe.\"\n",
              "            style=\"display:none;\">\n",
              "\n",
              "  <svg xmlns=\"http://www.w3.org/2000/svg\" height=\"24px\"viewBox=\"0 0 24 24\"\n",
              "       width=\"24px\">\n",
              "    <path d=\"M7,19H8.4L18.45,9,17,7.55,7,17.6ZM5,21V16.75L18.45,3.32a2,2,0,0,1,2.83,0l1.4,1.43a1.91,1.91,0,0,1,.58,1.4,1.91,1.91,0,0,1-.58,1.4L9.25,21ZM18.45,9,17,7.55Zm-12,3A5.31,5.31,0,0,0,4.9,8.1,5.31,5.31,0,0,0,1,6.5,5.31,5.31,0,0,0,4.9,4.9,5.31,5.31,0,0,0,6.5,1,5.31,5.31,0,0,0,8.1,4.9,5.31,5.31,0,0,0,12,6.5,5.46,5.46,0,0,0,6.5,12Z\"/>\n",
              "  </svg>\n",
              "    </button>\n",
              "    <script>\n",
              "      (() => {\n",
              "      const buttonEl =\n",
              "        document.querySelector('#id_4603926b-3a1c-4631-bbe4-cfe42d5858da button.colab-df-generate');\n",
              "      buttonEl.style.display =\n",
              "        google.colab.kernel.accessAllowed ? 'block' : 'none';\n",
              "\n",
              "      buttonEl.onclick = () => {\n",
              "        google.colab.notebook.generateWithVariable('rets');\n",
              "      }\n",
              "      })();\n",
              "    </script>\n",
              "  </div>\n",
              "\n",
              "    </div>\n",
              "  </div>\n"
            ],
            "application/vnd.google.colaboratory.intrinsic+json": {
              "type": "dataframe",
              "variable_name": "rets",
              "summary": "{\n  \"name\": \"rets\",\n  \"rows\": 2048,\n  \"fields\": [\n    {\n      \"column\": \"AAPL\",\n      \"properties\": {\n        \"dtype\": \"number\",\n        \"std\": 0.018384437605115395,\n        \"min\": -0.13770811787705173,\n        \"max\": 0.11315735832163604,\n        \"num_unique_values\": 2044,\n        \"samples\": [\n          0.011235134880111986,\n          -0.0019224191964404018,\n          0.005912921098201867\n        ],\n        \"semantic_type\": \"\",\n        \"description\": \"\"\n      }\n    },\n    {\n      \"column\": \"TSLA\",\n      \"properties\": {\n        \"dtype\": \"number\",\n        \"std\": 0.03654077458189624,\n        \"min\": -0.23651789445767657,\n        \"max\": 0.18144500086765858,\n        \"num_unique_values\": 2047,\n        \"samples\": [\n          -0.0041661953768667185,\n          -0.020879570125520365,\n          -0.009282495150154764\n        ],\n        \"semantic_type\": \"\",\n        \"description\": \"\"\n      }\n    }\n  ]\n}"
            }
          },
          "metadata": {},
          "execution_count": 590
        }
      ]
    },
    {
      "cell_type": "code",
      "source": [
        "(data / data.iloc[0]).plot(figsize=(10, 6));"
      ],
      "metadata": {
        "colab": {
          "base_uri": "https://localhost:8080/",
          "height": 504
        },
        "id": "hCSeJ0qljZQf",
        "outputId": "3909ccbc-b91b-4d49-c2a0-5f86b9e958e0"
      },
      "execution_count": 591,
      "outputs": [
        {
          "output_type": "display_data",
          "data": {
            "text/plain": [
              "<Figure size 1000x600 with 1 Axes>"
            ],
            "image/png": "[encoded data removed]"
          },
          "metadata": {}
        }
      ]
    },
    {
      "cell_type": "code",
      "source": [
        "weights = len(rets.columns) * [1/ len(rets.columns)]"
      ],
      "metadata": {
        "id": "1t74WNT4jvjG"
      },
      "execution_count": 592,
      "outputs": []
    },
    {
      "cell_type": "code",
      "source": [
        "weights"
      ],
      "metadata": {
        "colab": {
          "base_uri": "https://localhost:8080/"
        },
        "id": "aBxFKNgCj8ex",
        "outputId": "271c8e7c-e1bc-4cd4-c3e5-e7a6a53dc95c"
      },
      "execution_count": 593,
      "outputs": [
        {
          "output_type": "execute_result",
          "data": {
            "text/plain": [
              "[0.5, 0.5]"
            ]
          },
          "metadata": {},
          "execution_count": 593
        }
      ]
    },
    {
      "cell_type": "code",
      "source": [
        "def port_return(rets, weights):\n",
        "    return np.dot(rets.mean(), weights) * 252"
      ],
      "metadata": {
        "id": "4QtanKcWj-a3"
      },
      "execution_count": 594,
      "outputs": []
    },
    {
      "cell_type": "code",
      "source": [
        "port_return(rets, weights)"
      ],
      "metadata": {
        "colab": {
          "base_uri": "https://localhost:8080/"
        },
        "id": "8X_ObPWKkKZ3",
        "outputId": "006c46a8-ac76-415d-abb8-29570463cb46"
      },
      "execution_count": 595,
      "outputs": [
        {
          "output_type": "execute_result",
          "data": {
            "text/plain": [
              "0.2822326611119429"
            ]
          },
          "metadata": {},
          "execution_count": 595
        }
      ]
    },
    {
      "cell_type": "code",
      "source": [
        "def port_volatility(rets, weights):\n",
        "    return np.dot(weights, np.dot(rets.cov() * 252, weights)) ** 0.5"
      ],
      "metadata": {
        "id": "_9y2iBjskSsA"
      },
      "execution_count": 596,
      "outputs": []
    },
    {
      "cell_type": "code",
      "source": [
        "port_volatility(rets, weights)"
      ],
      "metadata": {
        "colab": {
          "base_uri": "https://localhost:8080/"
        },
        "id": "pbX7ujcSkvX5",
        "outputId": "3c778e94-b07c-4d08-fab9-bd6f5bb0981b"
      },
      "execution_count": 597,
      "outputs": [
        {
          "output_type": "execute_result",
          "data": {
            "text/plain": [
              "0.3781867714326457"
            ]
          },
          "metadata": {},
          "execution_count": 597
        }
      ]
    },
    {
      "cell_type": "code",
      "source": [
        "def port_sharpe(rets, weights):\n",
        "    return port_return(rets, weights) / port_volatility(rets, weights)"
      ],
      "metadata": {
        "id": "t1__AVp3lGNo"
      },
      "execution_count": 598,
      "outputs": []
    },
    {
      "cell_type": "code",
      "source": [
        "port_sharpe(rets, weights)"
      ],
      "metadata": {
        "colab": {
          "base_uri": "https://localhost:8080/"
        },
        "id": "qetIBgEnlVUx",
        "outputId": "95a622b4-ca28-4638-bd8a-d4057a59371e"
      },
      "execution_count": 599,
      "outputs": [
        {
          "output_type": "execute_result",
          "data": {
            "text/plain": [
              "0.7462785121827245"
            ]
          },
          "metadata": {},
          "execution_count": 599
        }
      ]
    },
    {
      "cell_type": "code",
      "source": [
        "w = np.random.random((1000, len(symbols)))\n",
        "w = (w.T / w.sum(axis=1)).T"
      ],
      "metadata": {
        "id": "csSsjB7rlaXA"
      },
      "execution_count": 600,
      "outputs": []
    },
    {
      "cell_type": "code",
      "source": [
        "w"
      ],
      "metadata": {
        "colab": {
          "base_uri": "https://localhost:8080/"
        },
        "id": "JXEe5vSIl_sR",
        "outputId": "249fc933-fa57-492e-ac22-4ffc8cdef9a7"
      },
      "execution_count": 601,
      "outputs": [
        {
          "output_type": "execute_result",
          "data": {
            "text/plain": [
              "array([[0.64094019, 0.35905981],\n",
              "       [0.19759967, 0.80240033],\n",
              "       [0.70142154, 0.29857846],\n",
              "       ...,\n",
              "       [0.64650308, 0.35349692],\n",
              "       [0.11629062, 0.88370938],\n",
              "       [0.39132093, 0.60867907]])"
            ]
          },
          "metadata": {},
          "execution_count": 601
        }
      ]
    },
    {
      "cell_type": "code",
      "source": [
        "w[:5]"
      ],
      "metadata": {
        "colab": {
          "base_uri": "https://localhost:8080/"
        },
        "id": "C0DMdb11mA3Q",
        "outputId": "723e0bcf-d9c9-428c-98ce-05a301cce334"
      },
      "execution_count": 602,
      "outputs": [
        {
          "output_type": "execute_result",
          "data": {
            "text/plain": [
              "array([[0.64094019, 0.35905981],\n",
              "       [0.19759967, 0.80240033],\n",
              "       [0.70142154, 0.29857846],\n",
              "       [0.83926261, 0.16073739],\n",
              "       [0.76181227, 0.23818773]])"
            ]
          },
          "metadata": {},
          "execution_count": 602
        }
      ]
    },
    {
      "cell_type": "code",
      "source": [
        "pvr = [(port_volatility(rets[symbols], weights),\n",
        "        port_return(rets[symbols], weights))\n",
        "        for weights in w]\n",
        "pvr = np.array(pvr)"
      ],
      "metadata": {
        "id": "_0AHf4PdmGba"
      },
      "execution_count": 603,
      "outputs": []
    },
    {
      "cell_type": "code",
      "source": [
        "psr = pvr[:, 1] / pvr[:, 0]"
      ],
      "metadata": {
        "id": "smuC8kF_mjEb"
      },
      "execution_count": 604,
      "outputs": []
    },
    {
      "cell_type": "code",
      "source": [
        "psr"
      ],
      "metadata": {
        "colab": {
          "base_uri": "https://localhost:8080/"
        },
        "id": "wPHpB3d4mqkM",
        "outputId": "0f4f8924-bca8-48cb-b8ca-15d86421d9c1"
      },
      "execution_count": 605,
      "outputs": [
        {
          "output_type": "execute_result",
          "data": {
            "text/plain": [
              "array([0.81251165, 0.61116333, 0.83716967, 0.87262131, 0.85708128,\n",
              "       0.69941705, 0.83145777, 0.77285739, 0.62373827, 0.82465602,\n",
              "       0.8696323 , 0.57187386, 0.58433642, 0.87074533, 0.77724478,\n",
              "       0.84614589, 0.84806521, 0.83194652, 0.78588252, 0.57480223,\n",
              "       0.86396012, 0.80481596, 0.74833912, 0.73027827, 0.63015033,\n",
              "       0.7475427 , 0.70306288, 0.75723904, 0.79449072, 0.87315385,\n",
              "       0.55970767, 0.56289891, 0.70837487, 0.77370608, 0.76024358,\n",
              "       0.56836187, 0.62729514, 0.80571851, 0.67344687, 0.65419056,\n",
              "       0.75207478, 0.68800838, 0.71162927, 0.62040898, 0.64599344,\n",
              "       0.69285151, 0.82865735, 0.86989796, 0.87143756, 0.74611007,\n",
              "       0.6846187 , 0.76492715, 0.6909167 , 0.77917604, 0.67090907,\n",
              "       0.875031  , 0.76590868, 0.69334962, 0.57585469, 0.64445654,\n",
              "       0.87360626, 0.63341059, 0.81869715, 0.85529828, 0.86060937,\n",
              "       0.75175478, 0.74369063, 0.68809755, 0.75920447, 0.56541129,\n",
              "       0.64638864, 0.83347957, 0.60145914, 0.72816546, 0.66609684,\n",
              "       0.61168016, 0.58077557, 0.78037412, 0.54867874, 0.74996116,\n",
              "       0.73933936, 0.66224311, 0.78492285, 0.81611225, 0.87514332,\n",
              "       0.61965637, 0.84751698, 0.63429622, 0.76568928, 0.65352323,\n",
              "       0.77150341, 0.65237706, 0.87512737, 0.58962211, 0.80905275,\n",
              "       0.79764277, 0.79562104, 0.82823447, 0.68513224, 0.76446212,\n",
              "       0.84629136, 0.67069074, 0.63297741, 0.78519111, 0.8130962 ,\n",
              "       0.59916982, 0.80615729, 0.60712077, 0.87282407, 0.73267663,\n",
              "       0.57292759, 0.87496424, 0.54563687, 0.63003353, 0.67243884,\n",
              "       0.78232536, 0.87444912, 0.66295977, 0.7524425 , 0.63937651,\n",
              "       0.75561313, 0.85962923, 0.79216047, 0.72104246, 0.62825785,\n",
              "       0.80851939, 0.68109281, 0.7271367 , 0.72085399, 0.69688507,\n",
              "       0.59974326, 0.73267484, 0.86556671, 0.63194884, 0.71521018,\n",
              "       0.75999855, 0.87198241, 0.59504543, 0.7772924 , 0.87463506,\n",
              "       0.62010641, 0.74773943, 0.75384054, 0.73865451, 0.66144572,\n",
              "       0.85415473, 0.56358418, 0.58629447, 0.59630678, 0.7241359 ,\n",
              "       0.63476713, 0.60788504, 0.73175287, 0.72231941, 0.87509171,\n",
              "       0.68987845, 0.6932331 , 0.6890499 , 0.69464846, 0.75568051,\n",
              "       0.66373341, 0.56937334, 0.74270562, 0.84697057, 0.64611019,\n",
              "       0.81733721, 0.86127547, 0.87432912, 0.77789521, 0.63719093,\n",
              "       0.60734634, 0.81072338, 0.81900057, 0.78474111, 0.87465131,\n",
              "       0.80559692, 0.5546731 , 0.66505542, 0.72617626, 0.62952244,\n",
              "       0.82456235, 0.71593865, 0.8602896 , 0.87462569, 0.72268217,\n",
              "       0.74516427, 0.80364446, 0.64971106, 0.60429016, 0.69635962,\n",
              "       0.56953686, 0.87512462, 0.87454264, 0.72872372, 0.60394192,\n",
              "       0.81043741, 0.67333048, 0.85632873, 0.78886584, 0.83500742,\n",
              "       0.78712194, 0.87497416, 0.79219922, 0.71885628, 0.66396728,\n",
              "       0.79693411, 0.69725983, 0.67801141, 0.82258877, 0.68497382,\n",
              "       0.79836751, 0.68659018, 0.82014582, 0.87441583, 0.5519839 ,\n",
              "       0.76176178, 0.66835128, 0.87211984, 0.78400927, 0.80984363,\n",
              "       0.79877363, 0.70251993, 0.65296504, 0.58101929, 0.86582762,\n",
              "       0.84315102, 0.61555041, 0.62112035, 0.60732036, 0.84538475,\n",
              "       0.83711449, 0.66651905, 0.86000007, 0.69316299, 0.61400532,\n",
              "       0.76511413, 0.56350045, 0.7659829 , 0.72957202, 0.79083771,\n",
              "       0.75891836, 0.81078252, 0.79068703, 0.86848109, 0.86245274,\n",
              "       0.72524904, 0.86219529, 0.67628723, 0.62813672, 0.76136662,\n",
              "       0.81549647, 0.7212653 , 0.68250039, 0.63779776, 0.64755602,\n",
              "       0.54602421, 0.8495105 , 0.75856643, 0.59833385, 0.68572812,\n",
              "       0.64864634, 0.77750799, 0.84238534, 0.84156407, 0.83098783,\n",
              "       0.75183543, 0.72763192, 0.68044166, 0.77037841, 0.72396407,\n",
              "       0.73578206, 0.7323225 , 0.83433713, 0.7258669 , 0.84930981,\n",
              "       0.64103642, 0.59991487, 0.87482966, 0.75360937, 0.62092827,\n",
              "       0.63511997, 0.68761389, 0.76904868, 0.58388183, 0.75341148,\n",
              "       0.81645395, 0.76009741, 0.56403512, 0.73140107, 0.76002512,\n",
              "       0.71127196, 0.80413957, 0.81916333, 0.74922142, 0.64424783,\n",
              "       0.55491746, 0.6990429 , 0.73664727, 0.57879632, 0.57510704,\n",
              "       0.73274673, 0.63733428, 0.69574538, 0.61335655, 0.67677029,\n",
              "       0.68816876, 0.86703321, 0.57289655, 0.70410277, 0.81881249,\n",
              "       0.73728437, 0.72125971, 0.76575282, 0.76310487, 0.63435358,\n",
              "       0.61746744, 0.72591558, 0.80739161, 0.62164323, 0.87348973,\n",
              "       0.84344038, 0.87210779, 0.84517607, 0.74162317, 0.72465395,\n",
              "       0.61228293, 0.66996377, 0.55357949, 0.81486247, 0.77496016,\n",
              "       0.67353469, 0.84920108, 0.57490573, 0.7924579 , 0.61516991,\n",
              "       0.87372547, 0.71044812, 0.844972  , 0.86341822, 0.8669944 ,\n",
              "       0.86446626, 0.73055194, 0.8186863 , 0.84916767, 0.72901857,\n",
              "       0.85561634, 0.82497837, 0.86902933, 0.8750093 , 0.64950693,\n",
              "       0.55467916, 0.71727007, 0.82609971, 0.5768305 , 0.81750394,\n",
              "       0.72008503, 0.68659306, 0.70151541, 0.83455557, 0.63329337,\n",
              "       0.7384298 , 0.57090836, 0.87507677, 0.87443707, 0.86649698,\n",
              "       0.81912435, 0.6370632 , 0.73092748, 0.81517827, 0.87498222,\n",
              "       0.7629939 , 0.87147274, 0.56585525, 0.80690335, 0.80537741,\n",
              "       0.83932545, 0.71817499, 0.79488188, 0.70682077, 0.86188097,\n",
              "       0.7956545 , 0.75195284, 0.7091953 , 0.63321142, 0.84838737,\n",
              "       0.79661079, 0.85873143, 0.7394105 , 0.85899425, 0.62355492,\n",
              "       0.80974325, 0.8344797 , 0.55283297, 0.6958668 , 0.77049794,\n",
              "       0.8750693 , 0.80658168, 0.7560244 , 0.71324876, 0.7167507 ,\n",
              "       0.73051406, 0.74667867, 0.73146862, 0.84220469, 0.87479035,\n",
              "       0.62868428, 0.8175613 , 0.57735432, 0.87105115, 0.58339476,\n",
              "       0.86428411, 0.61272296, 0.87461395, 0.74836052, 0.66492347,\n",
              "       0.82053596, 0.71420888, 0.64765381, 0.62790929, 0.75696902,\n",
              "       0.76837741, 0.68929525, 0.79709915, 0.65405633, 0.73905318,\n",
              "       0.75322846, 0.87104117, 0.87178778, 0.73917466, 0.67385884,\n",
              "       0.7458651 , 0.58696533, 0.85705516, 0.57734449, 0.86895165,\n",
              "       0.60527552, 0.75659215, 0.57124428, 0.77200766, 0.61172351,\n",
              "       0.76819753, 0.8736307 , 0.85964502, 0.83612796, 0.8735196 ,\n",
              "       0.68250503, 0.78841886, 0.69165533, 0.77968685, 0.56162381,\n",
              "       0.77562626, 0.87415962, 0.72207299, 0.55334084, 0.60540416,\n",
              "       0.72484981, 0.65744867, 0.84978068, 0.75201381, 0.6603357 ,\n",
              "       0.75362863, 0.59565083, 0.65550793, 0.87508266, 0.81339376,\n",
              "       0.66104083, 0.76267687, 0.82814019, 0.83352699, 0.75432552,\n",
              "       0.78986555, 0.8623139 , 0.55213297, 0.67713335, 0.71547573,\n",
              "       0.86428929, 0.64274534, 0.73854785, 0.85850951, 0.65972147,\n",
              "       0.67317462, 0.56815411, 0.87512702, 0.80950911, 0.6078458 ,\n",
              "       0.69653592, 0.7590283 , 0.873633  , 0.86315974, 0.86675433,\n",
              "       0.86727348, 0.81727015, 0.74557021, 0.72358219, 0.75276875,\n",
              "       0.70411421, 0.60498703, 0.67726773, 0.74191943, 0.81633975,\n",
              "       0.56156652, 0.83573568, 0.58768635, 0.87514516, 0.61220389,\n",
              "       0.80192075, 0.83545078, 0.72072403, 0.71660673, 0.69158265,\n",
              "       0.80809372, 0.69524685, 0.56529286, 0.72730882, 0.7485657 ,\n",
              "       0.70070196, 0.59370667, 0.83812377, 0.61500755, 0.66752856,\n",
              "       0.87056631, 0.61692198, 0.83902352, 0.72853411, 0.6776982 ,\n",
              "       0.76890206, 0.7417732 , 0.70496235, 0.69016019, 0.77219973,\n",
              "       0.7613493 , 0.85804387, 0.56496185, 0.71762049, 0.85580227,\n",
              "       0.7989698 , 0.79217344, 0.69025268, 0.66119992, 0.85551468,\n",
              "       0.67617637, 0.71462554, 0.79626639, 0.61302976, 0.58196447,\n",
              "       0.6138828 , 0.85070848, 0.82799818, 0.85504695, 0.747869  ,\n",
              "       0.61281147, 0.72918932, 0.86846119, 0.75547388, 0.84133094,\n",
              "       0.7639001 , 0.85597138, 0.77955684, 0.58635086, 0.57936766,\n",
              "       0.71672886, 0.70492978, 0.76750558, 0.67373578, 0.64793778,\n",
              "       0.8447388 , 0.72833792, 0.86701548, 0.71627689, 0.79710497,\n",
              "       0.77849369, 0.82020492, 0.70935879, 0.77513055, 0.87514247,\n",
              "       0.8747823 , 0.8205347 , 0.8023203 , 0.69209061, 0.80459263,\n",
              "       0.85486645, 0.71166894, 0.82172327, 0.87460458, 0.7138381 ,\n",
              "       0.83141695, 0.57557818, 0.70552859, 0.57484617, 0.55296357,\n",
              "       0.83600995, 0.62850249, 0.87494103, 0.69870466, 0.73810931,\n",
              "       0.68935644, 0.60907115, 0.76785532, 0.86842577, 0.86866872,\n",
              "       0.86578489, 0.80957999, 0.59102009, 0.81222939, 0.62578089,\n",
              "       0.54648995, 0.84820548, 0.87228074, 0.61455908, 0.76902012,\n",
              "       0.61523757, 0.7602554 , 0.72400993, 0.61184488, 0.74663255,\n",
              "       0.86545429, 0.83851562, 0.87443178, 0.87130041, 0.6418031 ,\n",
              "       0.8175749 , 0.71854476, 0.72547421, 0.75053597, 0.73647557,\n",
              "       0.68034127, 0.78696971, 0.75793518, 0.75332492, 0.81923035,\n",
              "       0.57475924, 0.66160415, 0.7780511 , 0.58485462, 0.67860723,\n",
              "       0.85397034, 0.55222645, 0.56929559, 0.62535718, 0.70329463,\n",
              "       0.78690165, 0.81222134, 0.7087721 , 0.8599773 , 0.72019914,\n",
              "       0.62414061, 0.72499304, 0.86303064, 0.79241017, 0.76981251,\n",
              "       0.87198352, 0.86744232, 0.75005958, 0.7825328 , 0.8264433 ,\n",
              "       0.57417434, 0.62605153, 0.66526166, 0.58512199, 0.77171493,\n",
              "       0.78830475, 0.74872603, 0.78838086, 0.87067698, 0.86863837,\n",
              "       0.76948684, 0.66247382, 0.76006565, 0.70722694, 0.56706575,\n",
              "       0.59594797, 0.58058147, 0.65799908, 0.81265909, 0.79205607,\n",
              "       0.65799648, 0.65732659, 0.75118678, 0.87155599, 0.64724513,\n",
              "       0.58485643, 0.58397365, 0.5761907 , 0.75588496, 0.78813314,\n",
              "       0.816235  , 0.74471254, 0.87274115, 0.75091497, 0.72567839,\n",
              "       0.74040483, 0.76855048, 0.65228645, 0.79892712, 0.78383966,\n",
              "       0.60760383, 0.60238981, 0.75809628, 0.75954698, 0.60018455,\n",
              "       0.55958677, 0.54352647, 0.63537106, 0.57061074, 0.66019996,\n",
              "       0.78172535, 0.841927  , 0.87450775, 0.55967769, 0.70217467,\n",
              "       0.84243992, 0.86992425, 0.69898047, 0.71608851, 0.62777393,\n",
              "       0.73514328, 0.7434056 , 0.55403891, 0.54782923, 0.66800746,\n",
              "       0.59785272, 0.85634743, 0.84005943, 0.72957534, 0.70528039,\n",
              "       0.78937803, 0.7417003 , 0.71676142, 0.8073076 , 0.64786332,\n",
              "       0.85111011, 0.74056466, 0.56257018, 0.66937611, 0.86832005,\n",
              "       0.81432431, 0.5949965 , 0.57490886, 0.77846273, 0.63434153,\n",
              "       0.65690607, 0.87239159, 0.87412021, 0.72796455, 0.73919062,\n",
              "       0.70608328, 0.87426015, 0.87452457, 0.74144931, 0.71544633,\n",
              "       0.68356794, 0.87494449, 0.86047314, 0.77965753, 0.742424  ,\n",
              "       0.63931071, 0.71773986, 0.74593658, 0.73415331, 0.75365771,\n",
              "       0.86429337, 0.78834656, 0.83159828, 0.65107542, 0.80479866,\n",
              "       0.64866565, 0.64775408, 0.70223366, 0.75610994, 0.78615061,\n",
              "       0.82541335, 0.86382485, 0.85544981, 0.73393764, 0.86254951,\n",
              "       0.68306656, 0.87255588, 0.86356996, 0.6375581 , 0.60951605,\n",
              "       0.55548702, 0.56959045, 0.77216341, 0.57610845, 0.78899705,\n",
              "       0.85737748, 0.82137877, 0.67146562, 0.70408375, 0.82173191,\n",
              "       0.60569901, 0.63763286, 0.87513049, 0.71099062, 0.74322934,\n",
              "       0.60176464, 0.72372956, 0.8697202 , 0.70664503, 0.58563284,\n",
              "       0.57463804, 0.68488787, 0.7153277 , 0.81906921, 0.5835628 ,\n",
              "       0.82812171, 0.87479704, 0.77299967, 0.87499652, 0.69181234,\n",
              "       0.54266254, 0.86162016, 0.75209971, 0.69732188, 0.59445957,\n",
              "       0.54556827, 0.75488644, 0.63539158, 0.6661035 , 0.69995601,\n",
              "       0.82074985, 0.72194555, 0.57479189, 0.84882127, 0.55511934,\n",
              "       0.79597042, 0.62993032, 0.58655859, 0.81527927, 0.63158222,\n",
              "       0.75110005, 0.86668648, 0.55010829, 0.69008427, 0.8548698 ,\n",
              "       0.7863237 , 0.80350525, 0.7495099 , 0.74145623, 0.54247069,\n",
              "       0.65339643, 0.87498132, 0.60951895, 0.7307602 , 0.67196245,\n",
              "       0.86118836, 0.75334995, 0.75217926, 0.79094344, 0.68351377,\n",
              "       0.86075529, 0.54268216, 0.87264269, 0.85949457, 0.6303253 ,\n",
              "       0.59763579, 0.87512692, 0.66247515, 0.81951849, 0.7854789 ,\n",
              "       0.87071555, 0.75811929, 0.66424909, 0.78155195, 0.74612099,\n",
              "       0.75537688, 0.71542913, 0.8309302 , 0.73668936, 0.85956839,\n",
              "       0.68804937, 0.87306377, 0.69465348, 0.87355342, 0.7003462 ,\n",
              "       0.66778815, 0.67271575, 0.78712498, 0.68983353, 0.87491353,\n",
              "       0.61670228, 0.69186865, 0.62726995, 0.67417909, 0.86622277,\n",
              "       0.80749118, 0.84374691, 0.87344065, 0.6265757 , 0.77768148,\n",
              "       0.70159216, 0.61349227, 0.60324648, 0.61102065, 0.76723545,\n",
              "       0.73184638, 0.74826322, 0.83655595, 0.69119716, 0.73663952,\n",
              "       0.82908684, 0.56511747, 0.76179419, 0.71761051, 0.85433195,\n",
              "       0.87190175, 0.79519017, 0.81646188, 0.62115348, 0.70339684,\n",
              "       0.81759435, 0.7058377 , 0.67693207, 0.79744852, 0.7937121 ,\n",
              "       0.61823589, 0.71946325, 0.55714345, 0.72651506, 0.63426555,\n",
              "       0.69309374, 0.86740787, 0.59111847, 0.79887256, 0.75154275,\n",
              "       0.85901732, 0.8696836 , 0.61226757, 0.87468731, 0.79558568,\n",
              "       0.58431762, 0.85728651, 0.74474773, 0.54509046, 0.87500139,\n",
              "       0.57632548, 0.69823583, 0.86800552, 0.79151376, 0.64404434,\n",
              "       0.73353792, 0.78359657, 0.74087018, 0.74462848, 0.75596686,\n",
              "       0.8682504 , 0.69490178, 0.66351185, 0.76108093, 0.79896463,\n",
              "       0.80520737, 0.78403329, 0.79614555, 0.6169404 , 0.61253426,\n",
              "       0.82389087, 0.58638073, 0.7364825 , 0.67037364, 0.84215678,\n",
              "       0.71333202, 0.70303941, 0.87418755, 0.83549574, 0.79447161,\n",
              "       0.72818948, 0.87400612, 0.72147372, 0.59662014, 0.68616332,\n",
              "       0.72034589, 0.83088819, 0.78914886, 0.75846874, 0.86168666,\n",
              "       0.76308291, 0.73376273, 0.73998496, 0.61934546, 0.76369281,\n",
              "       0.86444214, 0.65487472, 0.70226591, 0.82756286, 0.79591619,\n",
              "       0.59922719, 0.69224283, 0.71522217, 0.60013534, 0.73831764,\n",
              "       0.64949437, 0.81250338, 0.71399231, 0.65664409, 0.75759116,\n",
              "       0.61870443, 0.61823027, 0.81492674, 0.58088636, 0.69436174])"
            ]
          },
          "metadata": {},
          "execution_count": 605
        }
      ]
    },
    {
      "cell_type": "code",
      "source": [
        "plt.figure(figsize=(10, 6))\n",
        "fig = plt.scatter(pvr[:, 0], pvr[:, 1],\n",
        "                  c=psr, cmap='coolwarm')\n",
        "cb = plt.colorbar(fig)\n",
        "cb.set_label('Sharpe Ratio')\n",
        "plt.xlabel('Expected Volatility')\n",
        "plt.ylabel('Expexted Returns')\n",
        "plt.title('|'.join(symbols));"
      ],
      "metadata": {
        "colab": {
          "base_uri": "https://localhost:8080/",
          "height": 564
        },
        "id": "aS9nw2xqmsSp",
        "outputId": "fc43e9c5-7133-4407-97e0-87690b78a4b1"
      },
      "execution_count": 606,
      "outputs": [
        {
          "output_type": "display_data",
          "data": {
            "text/plain": [
              "<Figure size 1000x600 with 2 Axes>"
            ],
            "image/png": "[encoded data removed]"
          },
          "metadata": {}
        }
      ]
    },
    {
      "cell_type": "code",
      "source": [
        "bns = len(symbols) * [(0, 1),]"
      ],
      "metadata": {
        "id": "rHwvflgansNu"
      },
      "execution_count": 607,
      "outputs": []
    },
    {
      "cell_type": "code",
      "source": [
        "bns"
      ],
      "metadata": {
        "colab": {
          "base_uri": "https://localhost:8080/"
        },
        "id": "A11hnQYUoZEk",
        "outputId": "05ece230-e907-45b3-d8f2-d78d0a3a2edd"
      },
      "execution_count": 608,
      "outputs": [
        {
          "output_type": "execute_result",
          "data": {
            "text/plain": [
              "[(0, 1), (0, 1)]"
            ]
          },
          "metadata": {},
          "execution_count": 608
        }
      ]
    },
    {
      "cell_type": "code",
      "source": [
        "cons = {'type': 'eq', 'fun': lambda weights: weights.sum() - 1}"
      ],
      "metadata": {
        "id": "aaYzInppoagb"
      },
      "execution_count": 609,
      "outputs": []
    },
    {
      "cell_type": "code",
      "source": [
        "opt_weights = {}\n",
        "for year in range(2016, 2024):\n",
        "    rets_ = rets[symbols].loc[f'{year}-01-01':f'{year}-12-31']\n",
        "    ow = minimize(lambda weights: -port_sharpe(rets, weights),\n",
        "                  len(symbols) * [1 / len(symbols)],\n",
        "                  bounds= bns,\n",
        "                  constraints=cons)['x']\n",
        "    opt_weights[year] = ow"
      ],
      "metadata": {
        "id": "J4mj8wdToyAg"
      },
      "execution_count": 610,
      "outputs": []
    },
    {
      "cell_type": "code",
      "source": [
        "opt_weights"
      ],
      "metadata": {
        "colab": {
          "base_uri": "https://localhost:8080/"
        },
        "id": "5uVloaCTpwbD",
        "outputId": "2023b0d4-7fdc-46f4-d45c-ccc0bc340a55"
      },
      "execution_count": 611,
      "outputs": [
        {
          "output_type": "execute_result",
          "data": {
            "text/plain": [
              "{2016: array([0.8831892, 0.1168108]),\n",
              " 2017: array([0.8831892, 0.1168108]),\n",
              " 2018: array([0.8831892, 0.1168108]),\n",
              " 2019: array([0.8831892, 0.1168108]),\n",
              " 2020: array([0.8831892, 0.1168108]),\n",
              " 2021: array([0.8831892, 0.1168108]),\n",
              " 2022: array([0.8831892, 0.1168108]),\n",
              " 2023: array([0.8831892, 0.1168108])}"
            ]
          },
          "metadata": {},
          "execution_count": 611
        }
      ]
    },
    {
      "cell_type": "code",
      "source": [
        "res = pd.DataFrame()\n",
        "for year in range(2016, 2024):\n",
        "    rets_ = rets[symbols].loc[f'{year}-01-01':f'{year}-12-31']\n",
        "    epv = port_volatility(rets_, opt_weights[year])\n",
        "    epr = port_return(rets_, opt_weights[year])\n",
        "    esr = epr / epv\n",
        "    rets_ = rets[symbols].loc[f'{year + 1}-01-01': f'{year + 1}-12-31']\n",
        "    rpv = port_volatility(rets_, opt_weights[year])\n",
        "    rpr = port_return(rets_, opt_weights[year])\n",
        "    rsr = rpr / rpv\n",
        "    res  = res.append(pd.DataFrame({'epv': epv, 'epr': epr, 'esr': esr,\n",
        "                                    'rpv': rpv, 'rpr': rpr, 'rsr': rsr},\n",
        "                                   index=[year + 1]))"
      ],
      "metadata": {
        "colab": {
          "base_uri": "https://localhost:8080/"
        },
        "id": "M_MXZNyHp8E8",
        "outputId": "5e261cf7-5f75-42d8-a1bd-86436017d9e6"
      },
      "execution_count": 612,
      "outputs": [
        {
          "output_type": "stream",
          "name": "stderr",
          "text": [
            "<ipython-input-612-0f3290066266>:11: FutureWarning: The frame.append method is deprecated and will be removed from pandas in a future version. Use pandas.concat instead.\n",
            "  res  = res.append(pd.DataFrame({'epv': epv, 'epr': epr, 'esr': esr,\n",
            "<ipython-input-612-0f3290066266>:11: FutureWarning: The frame.append method is deprecated and will be removed from pandas in a future version. Use pandas.concat instead.\n",
            "  res  = res.append(pd.DataFrame({'epv': epv, 'epr': epr, 'esr': esr,\n",
            "<ipython-input-612-0f3290066266>:11: FutureWarning: The frame.append method is deprecated and will be removed from pandas in a future version. Use pandas.concat instead.\n",
            "  res  = res.append(pd.DataFrame({'epv': epv, 'epr': epr, 'esr': esr,\n",
            "<ipython-input-612-0f3290066266>:11: FutureWarning: The frame.append method is deprecated and will be removed from pandas in a future version. Use pandas.concat instead.\n",
            "  res  = res.append(pd.DataFrame({'epv': epv, 'epr': epr, 'esr': esr,\n",
            "<ipython-input-612-0f3290066266>:11: FutureWarning: The frame.append method is deprecated and will be removed from pandas in a future version. Use pandas.concat instead.\n",
            "  res  = res.append(pd.DataFrame({'epv': epv, 'epr': epr, 'esr': esr,\n",
            "<ipython-input-612-0f3290066266>:11: FutureWarning: The frame.append method is deprecated and will be removed from pandas in a future version. Use pandas.concat instead.\n",
            "  res  = res.append(pd.DataFrame({'epv': epv, 'epr': epr, 'esr': esr,\n",
            "<ipython-input-612-0f3290066266>:11: FutureWarning: The frame.append method is deprecated and will be removed from pandas in a future version. Use pandas.concat instead.\n",
            "  res  = res.append(pd.DataFrame({'epv': epv, 'epr': epr, 'esr': esr,\n",
            "<ipython-input-612-0f3290066266>:11: FutureWarning: The frame.append method is deprecated and will be removed from pandas in a future version. Use pandas.concat instead.\n",
            "  res  = res.append(pd.DataFrame({'epv': epv, 'epr': epr, 'esr': esr,\n"
          ]
        }
      ]
    },
    {
      "cell_type": "code",
      "source": [
        "res"
      ],
      "metadata": {
        "colab": {
          "base_uri": "https://localhost:8080/",
          "height": 300
        },
        "id": "0XzXS9-pr2ZR",
        "outputId": "898c4d6e-21d5-4402-bf92-d7a8b60e718c"
      },
      "execution_count": 613,
      "outputs": [
        {
          "output_type": "execute_result",
          "data": {
            "text/plain": [
              "           epv       epr       esr       rpv       rpr       rsr\n",
              "2017  0.222662  0.098310  0.441522  0.170597  0.394546  2.312739\n",
              "2018  0.170597  0.394546  2.312739  0.283055 -0.041318 -0.145972\n",
              "2019  0.283055 -0.041318 -0.145972  0.257172  0.588739  2.289281\n",
              "2020  0.257172  0.588739  2.289281  0.472495  0.776370  1.643127\n",
              "2021  0.472495  0.776370  1.643127  0.256474  0.309917  1.208374\n",
              "2022  0.256474  0.309917  1.208374  0.369561 -0.395074 -1.069035\n",
              "2023  0.369561 -0.395074 -1.069035  0.216046  0.437684  2.025889\n",
              "2024  0.216046  0.437684  2.025889  0.187747 -0.518773 -2.763146"
            ],
            "text/html": [
              "\n",
              "  <div id=\"df-7a86f117-1d24-4fb0-ad2a-9958ee61eae3\" class=\"colab-df-container\">\n",
              "    <div>\n",
              "<style scoped>\n",
              "    .dataframe tbody tr th:only-of-type {\n",
              "        vertical-align: middle;\n",
              "    }\n",
              "\n",
              "    .dataframe tbody tr th {\n",
              "        vertical-align: top;\n",
              "    }\n",
              "\n",
              "    .dataframe thead th {\n",
              "        text-align: right;\n",
              "    }\n",
              "</style>\n",
              "<table border=\"1\" class=\"dataframe\">\n",
              "  <thead>\n",
              "    <tr style=\"text-align: right;\">\n",
              "      <th></th>\n",
              "      <th>epv</th>\n",
              "      <th>epr</th>\n",
              "      <th>esr</th>\n",
              "      <th>rpv</th>\n",
              "      <th>rpr</th>\n",
              "      <th>rsr</th>\n",
              "    </tr>\n",
              "  </thead>\n",
              "  <tbody>\n",
              "    <tr>\n",
              "      <th>2017</th>\n",
              "      <td>0.222662</td>\n",
              "      <td>0.098310</td>\n",
              "      <td>0.441522</td>\n",
              "      <td>0.170597</td>\n",
              "      <td>0.394546</td>\n",
              "      <td>2.312739</td>\n",
              "    </tr>\n",
              "    <tr>\n",
              "      <th>2018</th>\n",
              "      <td>0.170597</td>\n",
              "      <td>0.394546</td>\n",
              "      <td>2.312739</td>\n",
              "      <td>0.283055</td>\n",
              "      <td>-0.041318</td>\n",
              "      <td>-0.145972</td>\n",
              "    </tr>\n",
              "    <tr>\n",
              "      <th>2019</th>\n",
              "      <td>0.283055</td>\n",
              "      <td>-0.041318</td>\n",
              "      <td>-0.145972</td>\n",
              "      <td>0.257172</td>\n",
              "      <td>0.588739</td>\n",
              "      <td>2.289281</td>\n",
              "    </tr>\n",
              "    <tr>\n",
              "      <th>2020</th>\n",
              "      <td>0.257172</td>\n",
              "      <td>0.588739</td>\n",
              "      <td>2.289281</td>\n",
              "      <td>0.472495</td>\n",
              "      <td>0.776370</td>\n",
              "      <td>1.643127</td>\n",
              "    </tr>\n",
              "    <tr>\n",
              "      <th>2021</th>\n",
              "      <td>0.472495</td>\n",
              "      <td>0.776370</td>\n",
              "      <td>1.643127</td>\n",
              "      <td>0.256474</td>\n",
              "      <td>0.309917</td>\n",
              "      <td>1.208374</td>\n",
              "    </tr>\n",
              "    <tr>\n",
              "      <th>2022</th>\n",
              "      <td>0.256474</td>\n",
              "      <td>0.309917</td>\n",
              "      <td>1.208374</td>\n",
              "      <td>0.369561</td>\n",
              "      <td>-0.395074</td>\n",
              "      <td>-1.069035</td>\n",
              "    </tr>\n",
              "    <tr>\n",
              "      <th>2023</th>\n",
              "      <td>0.369561</td>\n",
              "      <td>-0.395074</td>\n",
              "      <td>-1.069035</td>\n",
              "      <td>0.216046</td>\n",
              "      <td>0.437684</td>\n",
              "      <td>2.025889</td>\n",
              "    </tr>\n",
              "    <tr>\n",
              "      <th>2024</th>\n",
              "      <td>0.216046</td>\n",
              "      <td>0.437684</td>\n",
              "      <td>2.025889</td>\n",
              "      <td>0.187747</td>\n",
              "      <td>-0.518773</td>\n",
              "      <td>-2.763146</td>\n",
              "    </tr>\n",
              "  </tbody>\n",
              "</table>\n",
              "</div>\n",
              "    <div class=\"colab-df-buttons\">\n",
              "\n",
              "  <div class=\"colab-df-container\">\n",
              "    <button class=\"colab-df-convert\" onclick=\"convertToInteractive('df-7a86f117-1d24-4fb0-ad2a-9958ee61eae3')\"\n",
              "            title=\"Convert this dataframe to an interactive table.\"\n",
              "            style=\"display:none;\">\n",
              "\n",
              "  <svg xmlns=\"http://www.w3.org/2000/svg\" height=\"24px\" viewBox=\"0 -960 960 960\">\n",
              "    <path d=\"M120-120v-720h720v720H120Zm60-500h600v-160H180v160Zm220 220h160v-160H400v160Zm0 220h160v-160H400v160ZM180-400h160v-160H180v160Zm440 0h160v-160H620v160ZM180-180h160v-160H180v160Zm440 0h160v-160H620v160Z\"/>\n",
              "  </svg>\n",
              "    </button>\n",
              "\n",
              "  <style>\n",
              "    .colab-df-container {\n",
              "      display:flex;\n",
              "      gap: 12px;\n",
              "    }\n",
              "\n",
              "    .colab-df-convert {\n",
              "      background-color: #E8F0FE;\n",
              "      border: none;\n",
              "      border-radius: 50%;\n",
              "      cursor: pointer;\n",
              "      display: none;\n",
              "      fill: #1967D2;\n",
              "      height: 32px;\n",
              "      padding: 0 0 0 0;\n",
              "      width: 32px;\n",
              "    }\n",
              "\n",
              "    .colab-df-convert:hover {\n",
              "      background-color: #E2EBFA;\n",
              "      box-shadow: 0px 1px 2px rgba(60, 64, 67, 0.3), 0px 1px 3px 1px rgba(60, 64, 67, 0.15);\n",
              "      fill: #174EA6;\n",
              "    }\n",
              "\n",
              "    .colab-df-buttons div {\n",
              "      margin-bottom: 4px;\n",
              "    }\n",
              "\n",
              "    [theme=dark] .colab-df-convert {\n",
              "      background-color: #3B4455;\n",
              "      fill: #D2E3FC;\n",
              "    }\n",
              "\n",
              "    [theme=dark] .colab-df-convert:hover {\n",
              "      background-color: #434B5C;\n",
              "      box-shadow: 0px 1px 3px 1px rgba(0, 0, 0, 0.15);\n",
              "      filter: drop-shadow(0px 1px 2px rgba(0, 0, 0, 0.3));\n",
              "      fill: #FFFFFF;\n",
              "    }\n",
              "  </style>\n",
              "\n",
              "    <script>\n",
              "      const buttonEl =\n",
              "        document.querySelector('#df-7a86f117-1d24-4fb0-ad2a-9958ee61eae3 button.colab-df-convert');\n",
              "      buttonEl.style.display =\n",
              "        google.colab.kernel.accessAllowed ? 'block' : 'none';\n",
              "\n",
              "      async function convertToInteractive(key) {\n",
              "        const element = document.querySelector('#df-7a86f117-1d24-4fb0-ad2a-9958ee61eae3');\n",
              "        const dataTable =\n",
              "          await google.colab.kernel.invokeFunction('convertToInteractive',\n",
              "                                                    [key], {});\n",
              "        if (!dataTable) return;\n",
              "\n",
              "        const docLinkHtml = 'Like what you see? Visit the ' +\n",
              "          '<a target=\"_blank\" href=https://colab.research.google.com/notebooks/data_table.ipynb>data table notebook</a>'\n",
              "          + ' to learn more about interactive tables.';\n",
              "        element.innerHTML = '';\n",
              "        dataTable['output_type'] = 'display_data';\n",
              "        await google.colab.output.renderOutput(dataTable, element);\n",
              "        const docLink = document.createElement('div');\n",
              "        docLink.innerHTML = docLinkHtml;\n",
              "        element.appendChild(docLink);\n",
              "      }\n",
              "    </script>\n",
              "  </div>\n",
              "\n",
              "\n",
              "<div id=\"df-863f090b-82c8-491f-ba5b-6b2cc09b6c55\">\n",
              "  <button class=\"colab-df-quickchart\" onclick=\"quickchart('df-863f090b-82c8-491f-ba5b-6b2cc09b6c55')\"\n",
              "            title=\"Suggest charts\"\n",
              "            style=\"display:none;\">\n",
              "\n",
              "<svg xmlns=\"http://www.w3.org/2000/svg\" height=\"24px\"viewBox=\"0 0 24 24\"\n",
              "     width=\"24px\">\n",
              "    <g>\n",
              "        <path d=\"M19 3H5c-1.1 0-2 .9-2 2v14c0 1.1.9 2 2 2h14c1.1 0 2-.9 2-2V5c0-1.1-.9-2-2-2zM9 17H7v-7h2v7zm4 0h-2V7h2v10zm4 0h-2v-4h2v4z\"/>\n",
              "    </g>\n",
              "</svg>\n",
              "  </button>\n",
              "\n",
              "<style>\n",
              "  .colab-df-quickchart {\n",
              "      --bg-color: #E8F0FE;\n",
              "      --fill-color: #1967D2;\n",
              "      --hover-bg-color: #E2EBFA;\n",
              "      --hover-fill-color: #174EA6;\n",
              "      --disabled-fill-color: #AAA;\n",
              "      --disabled-bg-color: #DDD;\n",
              "  }\n",
              "\n",
              "  [theme=dark] .colab-df-quickchart {\n",
              "      --bg-color: #3B4455;\n",
              "      --fill-color: #D2E3FC;\n",
              "      --hover-bg-color: #434B5C;\n",
              "      --hover-fill-color: #FFFFFF;\n",
              "      --disabled-bg-color: #3B4455;\n",
              "      --disabled-fill-color: #666;\n",
              "  }\n",
              "\n",
              "  .colab-df-quickchart {\n",
              "    background-color: var(--bg-color);\n",
              "    border: none;\n",
              "    border-radius: 50%;\n",
              "    cursor: pointer;\n",
              "    display: none;\n",
              "    fill: var(--fill-color);\n",
              "    height: 32px;\n",
              "    padding: 0;\n",
              "    width: 32px;\n",
              "  }\n",
              "\n",
              "  .colab-df-quickchart:hover {\n",
              "    background-color: var(--hover-bg-color);\n",
              "    box-shadow: 0 1px 2px rgba(60, 64, 67, 0.3), 0 1px 3px 1px rgba(60, 64, 67, 0.15);\n",
              "    fill: var(--button-hover-fill-color);\n",
              "  }\n",
              "\n",
              "  .colab-df-quickchart-complete:disabled,\n",
              "  .colab-df-quickchart-complete:disabled:hover {\n",
              "    background-color: var(--disabled-bg-color);\n",
              "    fill: var(--disabled-fill-color);\n",
              "    box-shadow: none;\n",
              "  }\n",
              "\n",
              "  .colab-df-spinner {\n",
              "    border: 2px solid var(--fill-color);\n",
              "    border-color: transparent;\n",
              "    border-bottom-color: var(--fill-color);\n",
              "    animation:\n",
              "      spin 1s steps(1) infinite;\n",
              "  }\n",
              "\n",
              "  @keyframes spin {\n",
              "    0% {\n",
              "      border-color: transparent;\n",
              "      border-bottom-color: var(--fill-color);\n",
              "      border-left-color: var(--fill-color);\n",
              "    }\n",
              "    20% {\n",
              "      border-color: transparent;\n",
              "      border-left-color: var(--fill-color);\n",
              "      border-top-color: var(--fill-color);\n",
              "    }\n",
              "    30% {\n",
              "      border-color: transparent;\n",
              "      border-left-color: var(--fill-color);\n",
              "      border-top-color: var(--fill-color);\n",
              "      border-right-color: var(--fill-color);\n",
              "    }\n",
              "    40% {\n",
              "      border-color: transparent;\n",
              "      border-right-color: var(--fill-color);\n",
              "      border-top-color: var(--fill-color);\n",
              "    }\n",
              "    60% {\n",
              "      border-color: transparent;\n",
              "      border-right-color: var(--fill-color);\n",
              "    }\n",
              "    80% {\n",
              "      border-color: transparent;\n",
              "      border-right-color: var(--fill-color);\n",
              "      border-bottom-color: var(--fill-color);\n",
              "    }\n",
              "    90% {\n",
              "      border-color: transparent;\n",
              "      border-bottom-color: var(--fill-color);\n",
              "    }\n",
              "  }\n",
              "</style>\n",
              "\n",
              "  <script>\n",
              "    async function quickchart(key) {\n",
              "      const quickchartButtonEl =\n",
              "        document.querySelector('#' + key + ' button');\n",
              "      quickchartButtonEl.disabled = true;  // To prevent multiple clicks.\n",
              "      quickchartButtonEl.classList.add('colab-df-spinner');\n",
              "      try {\n",
              "        const charts = await google.colab.kernel.invokeFunction(\n",
              "            'suggestCharts', [key], {});\n",
              "      } catch (error) {\n",
              "        console.error('Error during call to suggestCharts:', error);\n",
              "      }\n",
              "      quickchartButtonEl.classList.remove('colab-df-spinner');\n",
              "      quickchartButtonEl.classList.add('colab-df-quickchart-complete');\n",
              "    }\n",
              "    (() => {\n",
              "      let quickchartButtonEl =\n",
              "        document.querySelector('#df-863f090b-82c8-491f-ba5b-6b2cc09b6c55 button');\n",
              "      quickchartButtonEl.style.display =\n",
              "        google.colab.kernel.accessAllowed ? 'block' : 'none';\n",
              "    })();\n",
              "  </script>\n",
              "</div>\n",
              "\n",
              "  <div id=\"id_537ac424-4285-47ad-844f-cee79eb437ce\">\n",
              "    <style>\n",
              "      .colab-df-generate {\n",
              "        background-color: #E8F0FE;\n",
              "        border: none;\n",
              "        border-radius: 50%;\n",
              "        cursor: pointer;\n",
              "        display: none;\n",
              "        fill: #1967D2;\n",
              "        height: 32px;\n",
              "        padding: 0 0 0 0;\n",
              "        width: 32px;\n",
              "      }\n",
              "\n",
              "      .colab-df-generate:hover {\n",
              "        background-color: #E2EBFA;\n",
              "        box-shadow: 0px 1px 2px rgba(60, 64, 67, 0.3), 0px 1px 3px 1px rgba(60, 64, 67, 0.15);\n",
              "        fill: #174EA6;\n",
              "      }\n",
              "\n",
              "      [theme=dark] .colab-df-generate {\n",
              "        background-color: #3B4455;\n",
              "        fill: #D2E3FC;\n",
              "      }\n",
              "\n",
              "      [theme=dark] .colab-df-generate:hover {\n",
              "        background-color: #434B5C;\n",
              "        box-shadow: 0px 1px 3px 1px rgba(0, 0, 0, 0.15);\n",
              "        filter: drop-shadow(0px 1px 2px rgba(0, 0, 0, 0.3));\n",
              "        fill: #FFFFFF;\n",
              "      }\n",
              "    </style>\n",
              "    <button class=\"colab-df-generate\" onclick=\"generateWithVariable('res')\"\n",
              "            title=\"Generate code using this dataframe.\"\n",
              "            style=\"display:none;\">\n",
              "\n",
              "  <svg xmlns=\"http://www.w3.org/2000/svg\" height=\"24px\"viewBox=\"0 0 24 24\"\n",
              "       width=\"24px\">\n",
              "    <path d=\"M7,19H8.4L18.45,9,17,7.55,7,17.6ZM5,21V16.75L18.45,3.32a2,2,0,0,1,2.83,0l1.4,1.43a1.91,1.91,0,0,1,.58,1.4,1.91,1.91,0,0,1-.58,1.4L9.25,21ZM18.45,9,17,7.55Zm-12,3A5.31,5.31,0,0,0,4.9,8.1,5.31,5.31,0,0,0,1,6.5,5.31,5.31,0,0,0,4.9,4.9,5.31,5.31,0,0,0,6.5,1,5.31,5.31,0,0,0,8.1,4.9,5.31,5.31,0,0,0,12,6.5,5.46,5.46,0,0,0,6.5,12Z\"/>\n",
              "  </svg>\n",
              "    </button>\n",
              "    <script>\n",
              "      (() => {\n",
              "      const buttonEl =\n",
              "        document.querySelector('#id_537ac424-4285-47ad-844f-cee79eb437ce button.colab-df-generate');\n",
              "      buttonEl.style.display =\n",
              "        google.colab.kernel.accessAllowed ? 'block' : 'none';\n",
              "\n",
              "      buttonEl.onclick = () => {\n",
              "        google.colab.notebook.generateWithVariable('res');\n",
              "      }\n",
              "      })();\n",
              "    </script>\n",
              "  </div>\n",
              "\n",
              "    </div>\n",
              "  </div>\n"
            ],
            "application/vnd.google.colaboratory.intrinsic+json": {
              "type": "dataframe",
              "variable_name": "res",
              "summary": "{\n  \"name\": \"res\",\n  \"rows\": 8,\n  \"fields\": [\n    {\n      \"column\": \"epv\",\n      \"properties\": {\n        \"dtype\": \"number\",\n        \"std\": 0.09673104531410558,\n        \"min\": 0.17059692351811342,\n        \"max\": 0.4724953286112337,\n        \"num_unique_values\": 8,\n        \"samples\": [\n          0.17059692351811342,\n          0.25647416750264296,\n          0.22266203881167432\n        ],\n        \"semantic_type\": \"\",\n        \"description\": \"\"\n      }\n    },\n    {\n      \"column\": \"epr\",\n      \"properties\": {\n        \"dtype\": \"number\",\n        \"std\": 0.3726232161566326,\n        \"min\": -0.39507355783983683,\n        \"max\": 0.7763696237380986,\n        \"num_unique_values\": 8,\n        \"samples\": [\n          0.394546078161818,\n          0.30991675241212446,\n          0.09831027899167158\n        ],\n        \"semantic_type\": \"\",\n        \"description\": \"\"\n      }\n    },\n    {\n      \"column\": \"esr\",\n      \"properties\": {\n        \"dtype\": \"number\",\n        \"std\": 1.2385920649855708,\n        \"min\": -1.0690349136089465,\n        \"max\": 2.312738530246276,\n        \"num_unique_values\": 8,\n        \"samples\": [\n          2.312738530246276,\n          1.2083741432124184,\n          0.4415224055090126\n        ],\n        \"semantic_type\": \"\",\n        \"description\": \"\"\n      }\n    },\n    {\n      \"column\": \"rpv\",\n      \"properties\": {\n        \"dtype\": \"number\",\n        \"std\": 0.10045552870542424,\n        \"min\": 0.17059692351811342,\n        \"max\": 0.4724953286112337,\n        \"num_unique_values\": 8,\n        \"samples\": [\n          0.28305545587325204,\n          0.36956094961025276,\n          0.17059692351811342\n        ],\n        \"semantic_type\": \"\",\n        \"description\": \"\"\n      }\n    },\n    {\n      \"column\": \"rpr\",\n      \"properties\": {\n        \"dtype\": \"number\",\n        \"std\": 0.4657464402087773,\n        \"min\": -0.5187730223596689,\n        \"max\": 0.7763696237380986,\n        \"num_unique_values\": 8,\n        \"samples\": [\n          -0.041318299217373886,\n          -0.39507355783983683,\n          0.394546078161818\n        ],\n        \"semantic_type\": \"\",\n        \"description\": \"\"\n      }\n    },\n    {\n      \"column\": \"rsr\",\n      \"properties\": {\n        \"dtype\": \"number\",\n        \"std\": 1.846617387203609,\n        \"min\": -2.7631462799936366,\n        \"max\": 2.312738530246276,\n        \"num_unique_values\": 8,\n        \"samples\": [\n          -0.14597245295944974,\n          -1.0690349136089465,\n          2.312738530246276\n        ],\n        \"semantic_type\": \"\",\n        \"description\": \"\"\n      }\n    }\n  ]\n}"
            }
          },
          "metadata": {},
          "execution_count": 613
        }
      ]
    },
    {
      "cell_type": "code",
      "source": [
        "res.mean()"
      ],
      "metadata": {
        "id": "JJ4X1SKV6Ah7",
        "outputId": "c48755c6-e219-44c6-ab3d-959c7690b507",
        "colab": {
          "base_uri": "https://localhost:8080/"
        }
      },
      "execution_count": 614,
      "outputs": [
        {
          "output_type": "execute_result",
          "data": {
            "text/plain": [
              "epv    0.281008\n",
              "epr    0.271147\n",
              "esr    1.088241\n",
              "rpv    0.276643\n",
              "rpr    0.194011\n",
              "rsr    0.687657\n",
              "dtype: float64"
            ]
          },
          "metadata": {},
          "execution_count": 614
        }
      ]
    },
    {
      "cell_type": "code",
      "source": [
        "res[['epv', 'rpv']].corr()"
      ],
      "metadata": {
        "id": "w71uXBKs6Gkh",
        "outputId": "e3f2fac5-4ed0-4f7d-90cf-1cca3af116fa",
        "colab": {
          "base_uri": "https://localhost:8080/",
          "height": 112
        }
      },
      "execution_count": 615,
      "outputs": [
        {
          "output_type": "execute_result",
          "data": {
            "text/plain": [
              "          epv       rpv\n",
              "epv  1.000000 -0.072946\n",
              "rpv -0.072946  1.000000"
            ],
            "text/html": [
              "\n",
              "  <div id=\"df-dd9a7b60-fdc1-41b4-92f1-350ce2c2e1e5\" class=\"colab-df-container\">\n",
              "    <div>\n",
              "<style scoped>\n",
              "    .dataframe tbody tr th:only-of-type {\n",
              "        vertical-align: middle;\n",
              "    }\n",
              "\n",
              "    .dataframe tbody tr th {\n",
              "        vertical-align: top;\n",
              "    }\n",
              "\n",
              "    .dataframe thead th {\n",
              "        text-align: right;\n",
              "    }\n",
              "</style>\n",
              "<table border=\"1\" class=\"dataframe\">\n",
              "  <thead>\n",
              "    <tr style=\"text-align: right;\">\n",
              "      <th></th>\n",
              "      <th>epv</th>\n",
              "      <th>rpv</th>\n",
              "    </tr>\n",
              "  </thead>\n",
              "  <tbody>\n",
              "    <tr>\n",
              "      <th>epv</th>\n",
              "      <td>1.000000</td>\n",
              "      <td>-0.072946</td>\n",
              "    </tr>\n",
              "    <tr>\n",
              "      <th>rpv</th>\n",
              "      <td>-0.072946</td>\n",
              "      <td>1.000000</td>\n",
              "    </tr>\n",
              "  </tbody>\n",
              "</table>\n",
              "</div>\n",
              "    <div class=\"colab-df-buttons\">\n",
              "\n",
              "  <div class=\"colab-df-container\">\n",
              "    <button class=\"colab-df-convert\" onclick=\"convertToInteractive('df-dd9a7b60-fdc1-41b4-92f1-350ce2c2e1e5')\"\n",
              "            title=\"Convert this dataframe to an interactive table.\"\n",
              "            style=\"display:none;\">\n",
              "\n",
              "  <svg xmlns=\"http://www.w3.org/2000/svg\" height=\"24px\" viewBox=\"0 -960 960 960\">\n",
              "    <path d=\"M120-120v-720h720v720H120Zm60-500h600v-160H180v160Zm220 220h160v-160H400v160Zm0 220h160v-160H400v160ZM180-400h160v-160H180v160Zm440 0h160v-160H620v160ZM180-180h160v-160H180v160Zm440 0h160v-160H620v160Z\"/>\n",
              "  </svg>\n",
              "    </button>\n",
              "\n",
              "  <style>\n",
              "    .colab-df-container {\n",
              "      display:flex;\n",
              "      gap: 12px;\n",
              "    }\n",
              "\n",
              "    .colab-df-convert {\n",
              "      background-color: #E8F0FE;\n",
              "      border: none;\n",
              "      border-radius: 50%;\n",
              "      cursor: pointer;\n",
              "      display: none;\n",
              "      fill: #1967D2;\n",
              "      height: 32px;\n",
              "      padding: 0 0 0 0;\n",
              "      width: 32px;\n",
              "    }\n",
              "\n",
              "    .colab-df-convert:hover {\n",
              "      background-color: #E2EBFA;\n",
              "      box-shadow: 0px 1px 2px rgba(60, 64, 67, 0.3), 0px 1px 3px 1px rgba(60, 64, 67, 0.15);\n",
              "      fill: #174EA6;\n",
              "    }\n",
              "\n",
              "    .colab-df-buttons div {\n",
              "      margin-bottom: 4px;\n",
              "    }\n",
              "\n",
              "    [theme=dark] .colab-df-convert {\n",
              "      background-color: #3B4455;\n",
              "      fill: #D2E3FC;\n",
              "    }\n",
              "\n",
              "    [theme=dark] .colab-df-convert:hover {\n",
              "      background-color: #434B5C;\n",
              "      box-shadow: 0px 1px 3px 1px rgba(0, 0, 0, 0.15);\n",
              "      filter: drop-shadow(0px 1px 2px rgba(0, 0, 0, 0.3));\n",
              "      fill: #FFFFFF;\n",
              "    }\n",
              "  </style>\n",
              "\n",
              "    <script>\n",
              "      const buttonEl =\n",
              "        document.querySelector('#df-dd9a7b60-fdc1-41b4-92f1-350ce2c2e1e5 button.colab-df-convert');\n",
              "      buttonEl.style.display =\n",
              "        google.colab.kernel.accessAllowed ? 'block' : 'none';\n",
              "\n",
              "      async function convertToInteractive(key) {\n",
              "        const element = document.querySelector('#df-dd9a7b60-fdc1-41b4-92f1-350ce2c2e1e5');\n",
              "        const dataTable =\n",
              "          await google.colab.kernel.invokeFunction('convertToInteractive',\n",
              "                                                    [key], {});\n",
              "        if (!dataTable) return;\n",
              "\n",
              "        const docLinkHtml = 'Like what you see? Visit the ' +\n",
              "          '<a target=\"_blank\" href=https://colab.research.google.com/notebooks/data_table.ipynb>data table notebook</a>'\n",
              "          + ' to learn more about interactive tables.';\n",
              "        element.innerHTML = '';\n",
              "        dataTable['output_type'] = 'display_data';\n",
              "        await google.colab.output.renderOutput(dataTable, element);\n",
              "        const docLink = document.createElement('div');\n",
              "        docLink.innerHTML = docLinkHtml;\n",
              "        element.appendChild(docLink);\n",
              "      }\n",
              "    </script>\n",
              "  </div>\n",
              "\n",
              "\n",
              "<div id=\"df-e12bd299-d6f2-45cb-a82e-72d76bafb79a\">\n",
              "  <button class=\"colab-df-quickchart\" onclick=\"quickchart('df-e12bd299-d6f2-45cb-a82e-72d76bafb79a')\"\n",
              "            title=\"Suggest charts\"\n",
              "            style=\"display:none;\">\n",
              "\n",
              "<svg xmlns=\"http://www.w3.org/2000/svg\" height=\"24px\"viewBox=\"0 0 24 24\"\n",
              "     width=\"24px\">\n",
              "    <g>\n",
              "        <path d=\"M19 3H5c-1.1 0-2 .9-2 2v14c0 1.1.9 2 2 2h14c1.1 0 2-.9 2-2V5c0-1.1-.9-2-2-2zM9 17H7v-7h2v7zm4 0h-2V7h2v10zm4 0h-2v-4h2v4z\"/>\n",
              "    </g>\n",
              "</svg>\n",
              "  </button>\n",
              "\n",
              "<style>\n",
              "  .colab-df-quickchart {\n",
              "      --bg-color: #E8F0FE;\n",
              "      --fill-color: #1967D2;\n",
              "      --hover-bg-color: #E2EBFA;\n",
              "      --hover-fill-color: #174EA6;\n",
              "      --disabled-fill-color: #AAA;\n",
              "      --disabled-bg-color: #DDD;\n",
              "  }\n",
              "\n",
              "  [theme=dark] .colab-df-quickchart {\n",
              "      --bg-color: #3B4455;\n",
              "      --fill-color: #D2E3FC;\n",
              "      --hover-bg-color: #434B5C;\n",
              "      --hover-fill-color: #FFFFFF;\n",
              "      --disabled-bg-color: #3B4455;\n",
              "      --disabled-fill-color: #666;\n",
              "  }\n",
              "\n",
              "  .colab-df-quickchart {\n",
              "    background-color: var(--bg-color);\n",
              "    border: none;\n",
              "    border-radius: 50%;\n",
              "    cursor: pointer;\n",
              "    display: none;\n",
              "    fill: var(--fill-color);\n",
              "    height: 32px;\n",
              "    padding: 0;\n",
              "    width: 32px;\n",
              "  }\n",
              "\n",
              "  .colab-df-quickchart:hover {\n",
              "    background-color: var(--hover-bg-color);\n",
              "    box-shadow: 0 1px 2px rgba(60, 64, 67, 0.3), 0 1px 3px 1px rgba(60, 64, 67, 0.15);\n",
              "    fill: var(--button-hover-fill-color);\n",
              "  }\n",
              "\n",
              "  .colab-df-quickchart-complete:disabled,\n",
              "  .colab-df-quickchart-complete:disabled:hover {\n",
              "    background-color: var(--disabled-bg-color);\n",
              "    fill: var(--disabled-fill-color);\n",
              "    box-shadow: none;\n",
              "  }\n",
              "\n",
              "  .colab-df-spinner {\n",
              "    border: 2px solid var(--fill-color);\n",
              "    border-color: transparent;\n",
              "    border-bottom-color: var(--fill-color);\n",
              "    animation:\n",
              "      spin 1s steps(1) infinite;\n",
              "  }\n",
              "\n",
              "  @keyframes spin {\n",
              "    0% {\n",
              "      border-color: transparent;\n",
              "      border-bottom-color: var(--fill-color);\n",
              "      border-left-color: var(--fill-color);\n",
              "    }\n",
              "    20% {\n",
              "      border-color: transparent;\n",
              "      border-left-color: var(--fill-color);\n",
              "      border-top-color: var(--fill-color);\n",
              "    }\n",
              "    30% {\n",
              "      border-color: transparent;\n",
              "      border-left-color: var(--fill-color);\n",
              "      border-top-color: var(--fill-color);\n",
              "      border-right-color: var(--fill-color);\n",
              "    }\n",
              "    40% {\n",
              "      border-color: transparent;\n",
              "      border-right-color: var(--fill-color);\n",
              "      border-top-color: var(--fill-color);\n",
              "    }\n",
              "    60% {\n",
              "      border-color: transparent;\n",
              "      border-right-color: var(--fill-color);\n",
              "    }\n",
              "    80% {\n",
              "      border-color: transparent;\n",
              "      border-right-color: var(--fill-color);\n",
              "      border-bottom-color: var(--fill-color);\n",
              "    }\n",
              "    90% {\n",
              "      border-color: transparent;\n",
              "      border-bottom-color: var(--fill-color);\n",
              "    }\n",
              "  }\n",
              "</style>\n",
              "\n",
              "  <script>\n",
              "    async function quickchart(key) {\n",
              "      const quickchartButtonEl =\n",
              "        document.querySelector('#' + key + ' button');\n",
              "      quickchartButtonEl.disabled = true;  // To prevent multiple clicks.\n",
              "      quickchartButtonEl.classList.add('colab-df-spinner');\n",
              "      try {\n",
              "        const charts = await google.colab.kernel.invokeFunction(\n",
              "            'suggestCharts', [key], {});\n",
              "      } catch (error) {\n",
              "        console.error('Error during call to suggestCharts:', error);\n",
              "      }\n",
              "      quickchartButtonEl.classList.remove('colab-df-spinner');\n",
              "      quickchartButtonEl.classList.add('colab-df-quickchart-complete');\n",
              "    }\n",
              "    (() => {\n",
              "      let quickchartButtonEl =\n",
              "        document.querySelector('#df-e12bd299-d6f2-45cb-a82e-72d76bafb79a button');\n",
              "      quickchartButtonEl.style.display =\n",
              "        google.colab.kernel.accessAllowed ? 'block' : 'none';\n",
              "    })();\n",
              "  </script>\n",
              "</div>\n",
              "\n",
              "    </div>\n",
              "  </div>\n"
            ],
            "application/vnd.google.colaboratory.intrinsic+json": {
              "type": "dataframe",
              "summary": "{\n  \"name\": \"res[['epv', 'rpv']]\",\n  \"rows\": 2,\n  \"fields\": [\n    {\n      \"column\": \"epv\",\n      \"properties\": {\n        \"dtype\": \"number\",\n        \"std\": 0.7586871010799553,\n        \"min\": -0.07294558794480008,\n        \"max\": 1.0,\n        \"num_unique_values\": 2,\n        \"samples\": [\n          -0.07294558794480008,\n          1.0\n        ],\n        \"semantic_type\": \"\",\n        \"description\": \"\"\n      }\n    },\n    {\n      \"column\": \"rpv\",\n      \"properties\": {\n        \"dtype\": \"number\",\n        \"std\": 0.7586871010799553,\n        \"min\": -0.07294558794480008,\n        \"max\": 1.0,\n        \"num_unique_values\": 2,\n        \"samples\": [\n          1.0,\n          -0.07294558794480008\n        ],\n        \"semantic_type\": \"\",\n        \"description\": \"\"\n      }\n    }\n  ]\n}"
            }
          },
          "metadata": {},
          "execution_count": 615
        }
      ]
    },
    {
      "cell_type": "code",
      "source": [
        "res[['epv', 'rpv']].plot(kind='bar', figsize=(10, 6),\n",
        "                         title = 'Expected vs Realized Portfolio Volatitlity');"
      ],
      "metadata": {
        "id": "LB_tJl4n67dD",
        "outputId": "c2ff5a32-f964-43d8-d7cb-a51aed6f9839",
        "colab": {
          "base_uri": "https://localhost:8080/",
          "height": 566
        }
      },
      "execution_count": 616,
      "outputs": [
        {
          "output_type": "display_data",
          "data": {
            "text/plain": [
              "<Figure size 1000x600 with 1 Axes>"
            ],
            "image/png": "[encoded data removed]"
          },
          "metadata": {}
        }
      ]
    },
    {
      "cell_type": "code",
      "source": [
        "res[['epr', 'rpr']].corr()"
      ],
      "metadata": {
        "id": "4TvW08Hy6UWT",
        "outputId": "d0c5d9db-ad4a-4471-c94f-bf3631aeff82",
        "colab": {
          "base_uri": "https://localhost:8080/",
          "height": 112
        }
      },
      "execution_count": 617,
      "outputs": [
        {
          "output_type": "execute_result",
          "data": {
            "text/plain": [
              "          epr       rpr\n",
              "epr  1.000000 -0.203658\n",
              "rpr -0.203658  1.000000"
            ],
            "text/html": [
              "\n",
              "  <div id=\"df-1e31621c-c323-4e02-a271-2d709f76ef9f\" class=\"colab-df-container\">\n",
              "    <div>\n",
              "<style scoped>\n",
              "    .dataframe tbody tr th:only-of-type {\n",
              "        vertical-align: middle;\n",
              "    }\n",
              "\n",
              "    .dataframe tbody tr th {\n",
              "        vertical-align: top;\n",
              "    }\n",
              "\n",
              "    .dataframe thead th {\n",
              "        text-align: right;\n",
              "    }\n",
              "</style>\n",
              "<table border=\"1\" class=\"dataframe\">\n",
              "  <thead>\n",
              "    <tr style=\"text-align: right;\">\n",
              "      <th></th>\n",
              "      <th>epr</th>\n",
              "      <th>rpr</th>\n",
              "    </tr>\n",
              "  </thead>\n",
              "  <tbody>\n",
              "    <tr>\n",
              "      <th>epr</th>\n",
              "      <td>1.000000</td>\n",
              "      <td>-0.203658</td>\n",
              "    </tr>\n",
              "    <tr>\n",
              "      <th>rpr</th>\n",
              "      <td>-0.203658</td>\n",
              "      <td>1.000000</td>\n",
              "    </tr>\n",
              "  </tbody>\n",
              "</table>\n",
              "</div>\n",
              "    <div class=\"colab-df-buttons\">\n",
              "\n",
              "  <div class=\"colab-df-container\">\n",
              "    <button class=\"colab-df-convert\" onclick=\"convertToInteractive('df-1e31621c-c323-4e02-a271-2d709f76ef9f')\"\n",
              "            title=\"Convert this dataframe to an interactive table.\"\n",
              "            style=\"display:none;\">\n",
              "\n",
              "  <svg xmlns=\"http://www.w3.org/2000/svg\" height=\"24px\" viewBox=\"0 -960 960 960\">\n",
              "    <path d=\"M120-120v-720h720v720H120Zm60-500h600v-160H180v160Zm220 220h160v-160H400v160Zm0 220h160v-160H400v160ZM180-400h160v-160H180v160Zm440 0h160v-160H620v160ZM180-180h160v-160H180v160Zm440 0h160v-160H620v160Z\"/>\n",
              "  </svg>\n",
              "    </button>\n",
              "\n",
              "  <style>\n",
              "    .colab-df-container {\n",
              "      display:flex;\n",
              "      gap: 12px;\n",
              "    }\n",
              "\n",
              "    .colab-df-convert {\n",
              "      background-color: #E8F0FE;\n",
              "      border: none;\n",
              "      border-radius: 50%;\n",
              "      cursor: pointer;\n",
              "      display: none;\n",
              "      fill: #1967D2;\n",
              "      height: 32px;\n",
              "      padding: 0 0 0 0;\n",
              "      width: 32px;\n",
              "    }\n",
              "\n",
              "    .colab-df-convert:hover {\n",
              "      background-color: #E2EBFA;\n",
              "      box-shadow: 0px 1px 2px rgba(60, 64, 67, 0.3), 0px 1px 3px 1px rgba(60, 64, 67, 0.15);\n",
              "      fill: #174EA6;\n",
              "    }\n",
              "\n",
              "    .colab-df-buttons div {\n",
              "      margin-bottom: 4px;\n",
              "    }\n",
              "\n",
              "    [theme=dark] .colab-df-convert {\n",
              "      background-color: #3B4455;\n",
              "      fill: #D2E3FC;\n",
              "    }\n",
              "\n",
              "    [theme=dark] .colab-df-convert:hover {\n",
              "      background-color: #434B5C;\n",
              "      box-shadow: 0px 1px 3px 1px rgba(0, 0, 0, 0.15);\n",
              "      filter: drop-shadow(0px 1px 2px rgba(0, 0, 0, 0.3));\n",
              "      fill: #FFFFFF;\n",
              "    }\n",
              "  </style>\n",
              "\n",
              "    <script>\n",
              "      const buttonEl =\n",
              "        document.querySelector('#df-1e31621c-c323-4e02-a271-2d709f76ef9f button.colab-df-convert');\n",
              "      buttonEl.style.display =\n",
              "        google.colab.kernel.accessAllowed ? 'block' : 'none';\n",
              "\n",
              "      async function convertToInteractive(key) {\n",
              "        const element = document.querySelector('#df-1e31621c-c323-4e02-a271-2d709f76ef9f');\n",
              "        const dataTable =\n",
              "          await google.colab.kernel.invokeFunction('convertToInteractive',\n",
              "                                                    [key], {});\n",
              "        if (!dataTable) return;\n",
              "\n",
              "        const docLinkHtml = 'Like what you see? Visit the ' +\n",
              "          '<a target=\"_blank\" href=https://colab.research.google.com/notebooks/data_table.ipynb>data table notebook</a>'\n",
              "          + ' to learn more about interactive tables.';\n",
              "        element.innerHTML = '';\n",
              "        dataTable['output_type'] = 'display_data';\n",
              "        await google.colab.output.renderOutput(dataTable, element);\n",
              "        const docLink = document.createElement('div');\n",
              "        docLink.innerHTML = docLinkHtml;\n",
              "        element.appendChild(docLink);\n",
              "      }\n",
              "    </script>\n",
              "  </div>\n",
              "\n",
              "\n",
              "<div id=\"df-fa1cfc43-e218-4c57-b6d5-2d900bfe0bbf\">\n",
              "  <button class=\"colab-df-quickchart\" onclick=\"quickchart('df-fa1cfc43-e218-4c57-b6d5-2d900bfe0bbf')\"\n",
              "            title=\"Suggest charts\"\n",
              "            style=\"display:none;\">\n",
              "\n",
              "<svg xmlns=\"http://www.w3.org/2000/svg\" height=\"24px\"viewBox=\"0 0 24 24\"\n",
              "     width=\"24px\">\n",
              "    <g>\n",
              "        <path d=\"M19 3H5c-1.1 0-2 .9-2 2v14c0 1.1.9 2 2 2h14c1.1 0 2-.9 2-2V5c0-1.1-.9-2-2-2zM9 17H7v-7h2v7zm4 0h-2V7h2v10zm4 0h-2v-4h2v4z\"/>\n",
              "    </g>\n",
              "</svg>\n",
              "  </button>\n",
              "\n",
              "<style>\n",
              "  .colab-df-quickchart {\n",
              "      --bg-color: #E8F0FE;\n",
              "      --fill-color: #1967D2;\n",
              "      --hover-bg-color: #E2EBFA;\n",
              "      --hover-fill-color: #174EA6;\n",
              "      --disabled-fill-color: #AAA;\n",
              "      --disabled-bg-color: #DDD;\n",
              "  }\n",
              "\n",
              "  [theme=dark] .colab-df-quickchart {\n",
              "      --bg-color: #3B4455;\n",
              "      --fill-color: #D2E3FC;\n",
              "      --hover-bg-color: #434B5C;\n",
              "      --hover-fill-color: #FFFFFF;\n",
              "      --disabled-bg-color: #3B4455;\n",
              "      --disabled-fill-color: #666;\n",
              "  }\n",
              "\n",
              "  .colab-df-quickchart {\n",
              "    background-color: var(--bg-color);\n",
              "    border: none;\n",
              "    border-radius: 50%;\n",
              "    cursor: pointer;\n",
              "    display: none;\n",
              "    fill: var(--fill-color);\n",
              "    height: 32px;\n",
              "    padding: 0;\n",
              "    width: 32px;\n",
              "  }\n",
              "\n",
              "  .colab-df-quickchart:hover {\n",
              "    background-color: var(--hover-bg-color);\n",
              "    box-shadow: 0 1px 2px rgba(60, 64, 67, 0.3), 0 1px 3px 1px rgba(60, 64, 67, 0.15);\n",
              "    fill: var(--button-hover-fill-color);\n",
              "  }\n",
              "\n",
              "  .colab-df-quickchart-complete:disabled,\n",
              "  .colab-df-quickchart-complete:disabled:hover {\n",
              "    background-color: var(--disabled-bg-color);\n",
              "    fill: var(--disabled-fill-color);\n",
              "    box-shadow: none;\n",
              "  }\n",
              "\n",
              "  .colab-df-spinner {\n",
              "    border: 2px solid var(--fill-color);\n",
              "    border-color: transparent;\n",
              "    border-bottom-color: var(--fill-color);\n",
              "    animation:\n",
              "      spin 1s steps(1) infinite;\n",
              "  }\n",
              "\n",
              "  @keyframes spin {\n",
              "    0% {\n",
              "      border-color: transparent;\n",
              "      border-bottom-color: var(--fill-color);\n",
              "      border-left-color: var(--fill-color);\n",
              "    }\n",
              "    20% {\n",
              "      border-color: transparent;\n",
              "      border-left-color: var(--fill-color);\n",
              "      border-top-color: var(--fill-color);\n",
              "    }\n",
              "    30% {\n",
              "      border-color: transparent;\n",
              "      border-left-color: var(--fill-color);\n",
              "      border-top-color: var(--fill-color);\n",
              "      border-right-color: var(--fill-color);\n",
              "    }\n",
              "    40% {\n",
              "      border-color: transparent;\n",
              "      border-right-color: var(--fill-color);\n",
              "      border-top-color: var(--fill-color);\n",
              "    }\n",
              "    60% {\n",
              "      border-color: transparent;\n",
              "      border-right-color: var(--fill-color);\n",
              "    }\n",
              "    80% {\n",
              "      border-color: transparent;\n",
              "      border-right-color: var(--fill-color);\n",
              "      border-bottom-color: var(--fill-color);\n",
              "    }\n",
              "    90% {\n",
              "      border-color: transparent;\n",
              "      border-bottom-color: var(--fill-color);\n",
              "    }\n",
              "  }\n",
              "</style>\n",
              "\n",
              "  <script>\n",
              "    async function quickchart(key) {\n",
              "      const quickchartButtonEl =\n",
              "        document.querySelector('#' + key + ' button');\n",
              "      quickchartButtonEl.disabled = true;  // To prevent multiple clicks.\n",
              "      quickchartButtonEl.classList.add('colab-df-spinner');\n",
              "      try {\n",
              "        const charts = await google.colab.kernel.invokeFunction(\n",
              "            'suggestCharts', [key], {});\n",
              "      } catch (error) {\n",
              "        console.error('Error during call to suggestCharts:', error);\n",
              "      }\n",
              "      quickchartButtonEl.classList.remove('colab-df-spinner');\n",
              "      quickchartButtonEl.classList.add('colab-df-quickchart-complete');\n",
              "    }\n",
              "    (() => {\n",
              "      let quickchartButtonEl =\n",
              "        document.querySelector('#df-fa1cfc43-e218-4c57-b6d5-2d900bfe0bbf button');\n",
              "      quickchartButtonEl.style.display =\n",
              "        google.colab.kernel.accessAllowed ? 'block' : 'none';\n",
              "    })();\n",
              "  </script>\n",
              "</div>\n",
              "\n",
              "    </div>\n",
              "  </div>\n"
            ],
            "application/vnd.google.colaboratory.intrinsic+json": {
              "type": "dataframe",
              "summary": "{\n  \"name\": \"res[['epr', 'rpr']]\",\n  \"rows\": 2,\n  \"fields\": [\n    {\n      \"column\": \"epr\",\n      \"properties\": {\n        \"dtype\": \"number\",\n        \"std\": 0.8511148331342747,\n        \"min\": -0.203658140155405,\n        \"max\": 1.0,\n        \"num_unique_values\": 2,\n        \"samples\": [\n          -0.203658140155405,\n          1.0\n        ],\n        \"semantic_type\": \"\",\n        \"description\": \"\"\n      }\n    },\n    {\n      \"column\": \"rpr\",\n      \"properties\": {\n        \"dtype\": \"number\",\n        \"std\": 0.8511148331342747,\n        \"min\": -0.203658140155405,\n        \"max\": 1.0,\n        \"num_unique_values\": 2,\n        \"samples\": [\n          1.0,\n          -0.203658140155405\n        ],\n        \"semantic_type\": \"\",\n        \"description\": \"\"\n      }\n    }\n  ]\n}"
            }
          },
          "metadata": {},
          "execution_count": 617
        }
      ]
    },
    {
      "cell_type": "code",
      "source": [
        "res[['epr', 'rpr']].plot(kind='bar', figsize=(10, 6),\n",
        "                         title ='Expected VS Realized Portfolio Volatitltiy')"
      ],
      "metadata": {
        "id": "U-T3tzAO64fs",
        "outputId": "5810d629-6be5-410b-bb1e-3e7aee79c00f",
        "colab": {
          "base_uri": "https://localhost:8080/",
          "height": 583
        }
      },
      "execution_count": 618,
      "outputs": [
        {
          "output_type": "execute_result",
          "data": {
            "text/plain": [
              "<Axes: title={'center': 'Expected VS Realized Portfolio Volatitltiy'}>"
            ]
          },
          "metadata": {},
          "execution_count": 618
        },
        {
          "output_type": "display_data",
          "data": {
            "text/plain": [
              "<Figure size 1000x600 with 1 Axes>"
            ],
            "image/png": "[encoded data removed]"
          },
          "metadata": {}
        }
      ]
    },
    {
      "cell_type": "code",
      "source": [
        "market = '^GSPC'\n",
        "start_date  ='2016-01-01'\n",
        "end_date = '2024-02-29'"
      ],
      "metadata": {
        "id": "Ve5EoBs1dZzP"
      },
      "execution_count": 619,
      "outputs": []
    },
    {
      "cell_type": "code",
      "source": [
        "market_data = yf.download(market, start_date, end_date)['Adj Close']"
      ],
      "metadata": {
        "id": "pTe_REacd7kZ",
        "outputId": "1c06b3d6-a85b-402d-fe01-166fbbea026d",
        "colab": {
          "base_uri": "https://localhost:8080/"
        }
      },
      "execution_count": 620,
      "outputs": [
        {
          "output_type": "stream",
          "name": "stderr",
          "text": [
            "\r[*********************100%%**********************]  1 of 1 completed\n"
          ]
        }
      ]
    },
    {
      "cell_type": "code",
      "source": [
        "market_data"
      ],
      "metadata": {
        "id": "t8n19ltZeC0K",
        "outputId": "ba6e9801-fa16-4200-fc74-d6fa4c09b8e9",
        "colab": {
          "base_uri": "https://localhost:8080/"
        }
      },
      "execution_count": 621,
      "outputs": [
        {
          "output_type": "execute_result",
          "data": {
            "text/plain": [
              "Date\n",
              "2016-01-04    2012.660034\n",
              "2016-01-05    2016.709961\n",
              "2016-01-06    1990.260010\n",
              "2016-01-07    1943.089966\n",
              "2016-01-08    1922.030029\n",
              "                 ...     \n",
              "2024-02-16    5005.569824\n",
              "2024-02-20    4975.509766\n",
              "2024-02-21    4981.799805\n",
              "2024-02-22    5087.029785\n",
              "2024-02-23    5088.799805\n",
              "Name: Adj Close, Length: 2049, dtype: float64"
            ]
          },
          "metadata": {},
          "execution_count": 621
        }
      ]
    },
    {
      "cell_type": "code",
      "source": [
        "data_A = data['AAPL']"
      ],
      "metadata": {
        "id": "nU7ImaoEeJcx"
      },
      "execution_count": 622,
      "outputs": []
    },
    {
      "cell_type": "code",
      "source": [
        "data_A"
      ],
      "metadata": {
        "id": "Bfpf8rw2eRCx",
        "outputId": "a94e9d83-85fe-409d-fc40-1ea10286e6da",
        "colab": {
          "base_uri": "https://localhost:8080/"
        }
      },
      "execution_count": 623,
      "outputs": [
        {
          "output_type": "execute_result",
          "data": {
            "text/plain": [
              "Date\n",
              "2016-01-04     23.946920\n",
              "2016-01-05     23.346828\n",
              "2016-01-06     22.889940\n",
              "2016-01-07     21.923876\n",
              "2016-01-08     22.039803\n",
              "                 ...    \n",
              "2024-02-16    182.309998\n",
              "2024-02-20    181.559998\n",
              "2024-02-21    182.320007\n",
              "2024-02-22    184.369995\n",
              "2024-02-23    182.520004\n",
              "Name: AAPL, Length: 2049, dtype: float64"
            ]
          },
          "metadata": {},
          "execution_count": 623
        }
      ]
    },
    {
      "cell_type": "code",
      "source": [
        "data_1 = pd.concat([data_A, market_data], axis=1)"
      ],
      "metadata": {
        "id": "1voCGxrzeSlH"
      },
      "execution_count": 624,
      "outputs": []
    },
    {
      "cell_type": "code",
      "source": [
        "data_1.columns = ['Asset_APPL', 'Market']"
      ],
      "metadata": {
        "id": "pgYyIYhXeo-D"
      },
      "execution_count": 625,
      "outputs": []
    },
    {
      "cell_type": "code",
      "source": [
        "data_1"
      ],
      "metadata": {
        "id": "incaQTFje5KU",
        "outputId": "06fb5a27-4899-4868-eb7a-c5d63a785489",
        "colab": {
          "base_uri": "https://localhost:8080/",
          "height": 455
        }
      },
      "execution_count": 626,
      "outputs": [
        {
          "output_type": "execute_result",
          "data": {
            "text/plain": [
              "            Asset_APPL       Market\n",
              "Date                               \n",
              "2016-01-04   23.946920  2012.660034\n",
              "2016-01-05   23.346828  2016.709961\n",
              "2016-01-06   22.889940  1990.260010\n",
              "2016-01-07   21.923876  1943.089966\n",
              "2016-01-08   22.039803  1922.030029\n",
              "...                ...          ...\n",
              "2024-02-16  182.309998  5005.569824\n",
              "2024-02-20  181.559998  4975.509766\n",
              "2024-02-21  182.320007  4981.799805\n",
              "2024-02-22  184.369995  5087.029785\n",
              "2024-02-23  182.520004  5088.799805\n",
              "\n",
              "[2049 rows x 2 columns]"
            ],
            "text/html": [
              "\n",
              "  <div id=\"df-037b1b4c-3f58-4068-9c6f-bad2cf2ddb44\" class=\"colab-df-container\">\n",
              "    <div>\n",
              "<style scoped>\n",
              "    .dataframe tbody tr th:only-of-type {\n",
              "        vertical-align: middle;\n",
              "    }\n",
              "\n",
              "    .dataframe tbody tr th {\n",
              "        vertical-align: top;\n",
              "    }\n",
              "\n",
              "    .dataframe thead th {\n",
              "        text-align: right;\n",
              "    }\n",
              "</style>\n",
              "<table border=\"1\" class=\"dataframe\">\n",
              "  <thead>\n",
              "    <tr style=\"text-align: right;\">\n",
              "      <th></th>\n",
              "      <th>Asset_APPL</th>\n",
              "      <th>Market</th>\n",
              "    </tr>\n",
              "    <tr>\n",
              "      <th>Date</th>\n",
              "      <th></th>\n",
              "      <th></th>\n",
              "    </tr>\n",
              "  </thead>\n",
              "  <tbody>\n",
              "    <tr>\n",
              "      <th>2016-01-04</th>\n",
              "      <td>23.946920</td>\n",
              "      <td>2012.660034</td>\n",
              "    </tr>\n",
              "    <tr>\n",
              "      <th>2016-01-05</th>\n",
              "      <td>23.346828</td>\n",
              "      <td>2016.709961</td>\n",
              "    </tr>\n",
              "    <tr>\n",
              "      <th>2016-01-06</th>\n",
              "      <td>22.889940</td>\n",
              "      <td>1990.260010</td>\n",
              "    </tr>\n",
              "    <tr>\n",
              "      <th>2016-01-07</th>\n",
              "      <td>21.923876</td>\n",
              "      <td>1943.089966</td>\n",
              "    </tr>\n",
              "    <tr>\n",
              "      <th>2016-01-08</th>\n",
              "      <td>22.039803</td>\n",
              "      <td>1922.030029</td>\n",
              "    </tr>\n",
              "    <tr>\n",
              "      <th>...</th>\n",
              "      <td>...</td>\n",
              "      <td>...</td>\n",
              "    </tr>\n",
              "    <tr>\n",
              "      <th>2024-02-16</th>\n",
              "      <td>182.309998</td>\n",
              "      <td>5005.569824</td>\n",
              "    </tr>\n",
              "    <tr>\n",
              "      <th>2024-02-20</th>\n",
              "      <td>181.559998</td>\n",
              "      <td>4975.509766</td>\n",
              "    </tr>\n",
              "    <tr>\n",
              "      <th>2024-02-21</th>\n",
              "      <td>182.320007</td>\n",
              "      <td>4981.799805</td>\n",
              "    </tr>\n",
              "    <tr>\n",
              "      <th>2024-02-22</th>\n",
              "      <td>184.369995</td>\n",
              "      <td>5087.029785</td>\n",
              "    </tr>\n",
              "    <tr>\n",
              "      <th>2024-02-23</th>\n",
              "      <td>182.520004</td>\n",
              "      <td>5088.799805</td>\n",
              "    </tr>\n",
              "  </tbody>\n",
              "</table>\n",
              "<p>2049 rows × 2 columns</p>\n",
              "</div>\n",
              "    <div class=\"colab-df-buttons\">\n",
              "\n",
              "  <div class=\"colab-df-container\">\n",
              "    <button class=\"colab-df-convert\" onclick=\"convertToInteractive('df-037b1b4c-3f58-4068-9c6f-bad2cf2ddb44')\"\n",
              "            title=\"Convert this dataframe to an interactive table.\"\n",
              "            style=\"display:none;\">\n",
              "\n",
              "  <svg xmlns=\"http://www.w3.org/2000/svg\" height=\"24px\" viewBox=\"0 -960 960 960\">\n",
              "    <path d=\"M120-120v-720h720v720H120Zm60-500h600v-160H180v160Zm220 220h160v-160H400v160Zm0 220h160v-160H400v160ZM180-400h160v-160H180v160Zm440 0h160v-160H620v160ZM180-180h160v-160H180v160Zm440 0h160v-160H620v160Z\"/>\n",
              "  </svg>\n",
              "    </button>\n",
              "\n",
              "  <style>\n",
              "    .colab-df-container {\n",
              "      display:flex;\n",
              "      gap: 12px;\n",
              "    }\n",
              "\n",
              "    .colab-df-convert {\n",
              "      background-color: #E8F0FE;\n",
              "      border: none;\n",
              "      border-radius: 50%;\n",
              "      cursor: pointer;\n",
              "      display: none;\n",
              "      fill: #1967D2;\n",
              "      height: 32px;\n",
              "      padding: 0 0 0 0;\n",
              "      width: 32px;\n",
              "    }\n",
              "\n",
              "    .colab-df-convert:hover {\n",
              "      background-color: #E2EBFA;\n",
              "      box-shadow: 0px 1px 2px rgba(60, 64, 67, 0.3), 0px 1px 3px 1px rgba(60, 64, 67, 0.15);\n",
              "      fill: #174EA6;\n",
              "    }\n",
              "\n",
              "    .colab-df-buttons div {\n",
              "      margin-bottom: 4px;\n",
              "    }\n",
              "\n",
              "    [theme=dark] .colab-df-convert {\n",
              "      background-color: #3B4455;\n",
              "      fill: #D2E3FC;\n",
              "    }\n",
              "\n",
              "    [theme=dark] .colab-df-convert:hover {\n",
              "      background-color: #434B5C;\n",
              "      box-shadow: 0px 1px 3px 1px rgba(0, 0, 0, 0.15);\n",
              "      filter: drop-shadow(0px 1px 2px rgba(0, 0, 0, 0.3));\n",
              "      fill: #FFFFFF;\n",
              "    }\n",
              "  </style>\n",
              "\n",
              "    <script>\n",
              "      const buttonEl =\n",
              "        document.querySelector('#df-037b1b4c-3f58-4068-9c6f-bad2cf2ddb44 button.colab-df-convert');\n",
              "      buttonEl.style.display =\n",
              "        google.colab.kernel.accessAllowed ? 'block' : 'none';\n",
              "\n",
              "      async function convertToInteractive(key) {\n",
              "        const element = document.querySelector('#df-037b1b4c-3f58-4068-9c6f-bad2cf2ddb44');\n",
              "        const dataTable =\n",
              "          await google.colab.kernel.invokeFunction('convertToInteractive',\n",
              "                                                    [key], {});\n",
              "        if (!dataTable) return;\n",
              "\n",
              "        const docLinkHtml = 'Like what you see? Visit the ' +\n",
              "          '<a target=\"_blank\" href=https://colab.research.google.com/notebooks/data_table.ipynb>data table notebook</a>'\n",
              "          + ' to learn more about interactive tables.';\n",
              "        element.innerHTML = '';\n",
              "        dataTable['output_type'] = 'display_data';\n",
              "        await google.colab.output.renderOutput(dataTable, element);\n",
              "        const docLink = document.createElement('div');\n",
              "        docLink.innerHTML = docLinkHtml;\n",
              "        element.appendChild(docLink);\n",
              "      }\n",
              "    </script>\n",
              "  </div>\n",
              "\n",
              "\n",
              "<div id=\"df-5acaf43e-6fad-4747-9a6d-09f1015ccfe3\">\n",
              "  <button class=\"colab-df-quickchart\" onclick=\"quickchart('df-5acaf43e-6fad-4747-9a6d-09f1015ccfe3')\"\n",
              "            title=\"Suggest charts\"\n",
              "            style=\"display:none;\">\n",
              "\n",
              "<svg xmlns=\"http://www.w3.org/2000/svg\" height=\"24px\"viewBox=\"0 0 24 24\"\n",
              "     width=\"24px\">\n",
              "    <g>\n",
              "        <path d=\"M19 3H5c-1.1 0-2 .9-2 2v14c0 1.1.9 2 2 2h14c1.1 0 2-.9 2-2V5c0-1.1-.9-2-2-2zM9 17H7v-7h2v7zm4 0h-2V7h2v10zm4 0h-2v-4h2v4z\"/>\n",
              "    </g>\n",
              "</svg>\n",
              "  </button>\n",
              "\n",
              "<style>\n",
              "  .colab-df-quickchart {\n",
              "      --bg-color: #E8F0FE;\n",
              "      --fill-color: #1967D2;\n",
              "      --hover-bg-color: #E2EBFA;\n",
              "      --hover-fill-color: #174EA6;\n",
              "      --disabled-fill-color: #AAA;\n",
              "      --disabled-bg-color: #DDD;\n",
              "  }\n",
              "\n",
              "  [theme=dark] .colab-df-quickchart {\n",
              "      --bg-color: #3B4455;\n",
              "      --fill-color: #D2E3FC;\n",
              "      --hover-bg-color: #434B5C;\n",
              "      --hover-fill-color: #FFFFFF;\n",
              "      --disabled-bg-color: #3B4455;\n",
              "      --disabled-fill-color: #666;\n",
              "  }\n",
              "\n",
              "  .colab-df-quickchart {\n",
              "    background-color: var(--bg-color);\n",
              "    border: none;\n",
              "    border-radius: 50%;\n",
              "    cursor: pointer;\n",
              "    display: none;\n",
              "    fill: var(--fill-color);\n",
              "    height: 32px;\n",
              "    padding: 0;\n",
              "    width: 32px;\n",
              "  }\n",
              "\n",
              "  .colab-df-quickchart:hover {\n",
              "    background-color: var(--hover-bg-color);\n",
              "    box-shadow: 0 1px 2px rgba(60, 64, 67, 0.3), 0 1px 3px 1px rgba(60, 64, 67, 0.15);\n",
              "    fill: var(--button-hover-fill-color);\n",
              "  }\n",
              "\n",
              "  .colab-df-quickchart-complete:disabled,\n",
              "  .colab-df-quickchart-complete:disabled:hover {\n",
              "    background-color: var(--disabled-bg-color);\n",
              "    fill: var(--disabled-fill-color);\n",
              "    box-shadow: none;\n",
              "  }\n",
              "\n",
              "  .colab-df-spinner {\n",
              "    border: 2px solid var(--fill-color);\n",
              "    border-color: transparent;\n",
              "    border-bottom-color: var(--fill-color);\n",
              "    animation:\n",
              "      spin 1s steps(1) infinite;\n",
              "  }\n",
              "\n",
              "  @keyframes spin {\n",
              "    0% {\n",
              "      border-color: transparent;\n",
              "      border-bottom-color: var(--fill-color);\n",
              "      border-left-color: var(--fill-color);\n",
              "    }\n",
              "    20% {\n",
              "      border-color: transparent;\n",
              "      border-left-color: var(--fill-color);\n",
              "      border-top-color: var(--fill-color);\n",
              "    }\n",
              "    30% {\n",
              "      border-color: transparent;\n",
              "      border-left-color: var(--fill-color);\n",
              "      border-top-color: var(--fill-color);\n",
              "      border-right-color: var(--fill-color);\n",
              "    }\n",
              "    40% {\n",
              "      border-color: transparent;\n",
              "      border-right-color: var(--fill-color);\n",
              "      border-top-color: var(--fill-color);\n",
              "    }\n",
              "    60% {\n",
              "      border-color: transparent;\n",
              "      border-right-color: var(--fill-color);\n",
              "    }\n",
              "    80% {\n",
              "      border-color: transparent;\n",
              "      border-right-color: var(--fill-color);\n",
              "      border-bottom-color: var(--fill-color);\n",
              "    }\n",
              "    90% {\n",
              "      border-color: transparent;\n",
              "      border-bottom-color: var(--fill-color);\n",
              "    }\n",
              "  }\n",
              "</style>\n",
              "\n",
              "  <script>\n",
              "    async function quickchart(key) {\n",
              "      const quickchartButtonEl =\n",
              "        document.querySelector('#' + key + ' button');\n",
              "      quickchartButtonEl.disabled = true;  // To prevent multiple clicks.\n",
              "      quickchartButtonEl.classList.add('colab-df-spinner');\n",
              "      try {\n",
              "        const charts = await google.colab.kernel.invokeFunction(\n",
              "            'suggestCharts', [key], {});\n",
              "      } catch (error) {\n",
              "        console.error('Error during call to suggestCharts:', error);\n",
              "      }\n",
              "      quickchartButtonEl.classList.remove('colab-df-spinner');\n",
              "      quickchartButtonEl.classList.add('colab-df-quickchart-complete');\n",
              "    }\n",
              "    (() => {\n",
              "      let quickchartButtonEl =\n",
              "        document.querySelector('#df-5acaf43e-6fad-4747-9a6d-09f1015ccfe3 button');\n",
              "      quickchartButtonEl.style.display =\n",
              "        google.colab.kernel.accessAllowed ? 'block' : 'none';\n",
              "    })();\n",
              "  </script>\n",
              "</div>\n",
              "\n",
              "  <div id=\"id_25214e97-4486-4c65-b22e-b31fc4ca0534\">\n",
              "    <style>\n",
              "      .colab-df-generate {\n",
              "        background-color: #E8F0FE;\n",
              "        border: none;\n",
              "        border-radius: 50%;\n",
              "        cursor: pointer;\n",
              "        display: none;\n",
              "        fill: #1967D2;\n",
              "        height: 32px;\n",
              "        padding: 0 0 0 0;\n",
              "        width: 32px;\n",
              "      }\n",
              "\n",
              "      .colab-df-generate:hover {\n",
              "        background-color: #E2EBFA;\n",
              "        box-shadow: 0px 1px 2px rgba(60, 64, 67, 0.3), 0px 1px 3px 1px rgba(60, 64, 67, 0.15);\n",
              "        fill: #174EA6;\n",
              "      }\n",
              "\n",
              "      [theme=dark] .colab-df-generate {\n",
              "        background-color: #3B4455;\n",
              "        fill: #D2E3FC;\n",
              "      }\n",
              "\n",
              "      [theme=dark] .colab-df-generate:hover {\n",
              "        background-color: #434B5C;\n",
              "        box-shadow: 0px 1px 3px 1px rgba(0, 0, 0, 0.15);\n",
              "        filter: drop-shadow(0px 1px 2px rgba(0, 0, 0, 0.3));\n",
              "        fill: #FFFFFF;\n",
              "      }\n",
              "    </style>\n",
              "    <button class=\"colab-df-generate\" onclick=\"generateWithVariable('data_1')\"\n",
              "            title=\"Generate code using this dataframe.\"\n",
              "            style=\"display:none;\">\n",
              "\n",
              "  <svg xmlns=\"http://www.w3.org/2000/svg\" height=\"24px\"viewBox=\"0 0 24 24\"\n",
              "       width=\"24px\">\n",
              "    <path d=\"M7,19H8.4L18.45,9,17,7.55,7,17.6ZM5,21V16.75L18.45,3.32a2,2,0,0,1,2.83,0l1.4,1.43a1.91,1.91,0,0,1,.58,1.4,1.91,1.91,0,0,1-.58,1.4L9.25,21ZM18.45,9,17,7.55Zm-12,3A5.31,5.31,0,0,0,4.9,8.1,5.31,5.31,0,0,0,1,6.5,5.31,5.31,0,0,0,4.9,4.9,5.31,5.31,0,0,0,6.5,1,5.31,5.31,0,0,0,8.1,4.9,5.31,5.31,0,0,0,12,6.5,5.46,5.46,0,0,0,6.5,12Z\"/>\n",
              "  </svg>\n",
              "    </button>\n",
              "    <script>\n",
              "      (() => {\n",
              "      const buttonEl =\n",
              "        document.querySelector('#id_25214e97-4486-4c65-b22e-b31fc4ca0534 button.colab-df-generate');\n",
              "      buttonEl.style.display =\n",
              "        google.colab.kernel.accessAllowed ? 'block' : 'none';\n",
              "\n",
              "      buttonEl.onclick = () => {\n",
              "        google.colab.notebook.generateWithVariable('data_1');\n",
              "      }\n",
              "      })();\n",
              "    </script>\n",
              "  </div>\n",
              "\n",
              "    </div>\n",
              "  </div>\n"
            ],
            "application/vnd.google.colaboratory.intrinsic+json": {
              "type": "dataframe",
              "variable_name": "data_1",
              "summary": "{\n  \"name\": \"data_1\",\n  \"rows\": 2049,\n  \"fields\": [\n    {\n      \"column\": \"Asset_APPL\",\n      \"properties\": {\n        \"dtype\": \"number\",\n        \"std\": 57.19502299463753,\n        \"min\": 20.772157669067383,\n        \"max\": 197.85752868652344,\n        \"num_unique_values\": 2021,\n        \"samples\": [\n          52.639305114746094,\n          143.60342407226562,\n          44.291542053222656\n        ],\n        \"semantic_type\": \"\",\n        \"description\": \"\"\n      }\n    },\n    {\n      \"column\": \"Market\",\n      \"properties\": {\n        \"dtype\": \"number\",\n        \"std\": 853.8300713277048,\n        \"min\": 1829.0799560546875,\n        \"max\": 5088.7998046875,\n        \"num_unique_values\": 2041,\n        \"samples\": [\n          4079.949951171875,\n          3234.85009765625,\n          2761.6298828125\n        ],\n        \"semantic_type\": \"\",\n        \"description\": \"\"\n      }\n    }\n  ]\n}"
            }
          },
          "metadata": {},
          "execution_count": 626
        }
      ]
    },
    {
      "source": [
        "# @title Market\n",
        "\n",
        "from matplotlib import pyplot as plt\n",
        "data_1['Market'].plot(kind='line', figsize=(8, 4), title='Market')\n",
        "plt.gca().spines[['top', 'right']].set_visible(False)"
      ],
      "cell_type": "code",
      "execution_count": 627,
      "outputs": [
        {
          "output_type": "display_data",
          "data": {
            "text/plain": [
              "<Figure size 800x400 with 1 Axes>"
            ],
            "image/png": "[encoded data removed]"
          },
          "metadata": {}
        }
      ],
      "metadata": {
        "id": "ZAB7vxcDgt9p",
        "outputId": "48a06e4a-32b4-451d-b205-f020196598b8",
        "colab": {
          "base_uri": "https://localhost:8080/",
          "height": 390
        }
      }
    },
    {
      "source": [
        "# @title Asset_APPL\n",
        "\n",
        "from matplotlib import pyplot as plt\n",
        "data_1['Asset_APPL'].plot(kind='line', figsize=(8, 4), title='Asset_APPL')\n",
        "plt.gca().spines[['top', 'right']].set_visible(False)"
      ],
      "cell_type": "code",
      "execution_count": 628,
      "outputs": [
        {
          "output_type": "display_data",
          "data": {
            "text/plain": [
              "<Figure size 800x400 with 1 Axes>"
            ],
            "image/png": "[encoded data removed]"
          },
          "metadata": {}
        }
      ],
      "metadata": {
        "id": "VNGD_ZZ2gnSp",
        "outputId": "49fcaad4-3961-4b16-97bc-3fe7287cd64d",
        "colab": {
          "base_uri": "https://localhost:8080/",
          "height": 390
        }
      }
    },
    {
      "cell_type": "code",
      "source": [
        "returns_1 = np.log(data_1/ data_1.shift(1)).dropna()"
      ],
      "metadata": {
        "id": "3BuLkPRPfAhb"
      },
      "execution_count": 629,
      "outputs": []
    },
    {
      "cell_type": "code",
      "source": [
        "returns_1"
      ],
      "metadata": {
        "id": "nDH5IY9cfLbe",
        "outputId": "d715ce22-58ee-42c1-907c-fc4b4b61cb9a",
        "colab": {
          "base_uri": "https://localhost:8080/",
          "height": 455
        }
      },
      "execution_count": 630,
      "outputs": [
        {
          "output_type": "execute_result",
          "data": {
            "text/plain": [
              "            Asset_APPL    Market\n",
              "Date                            \n",
              "2016-01-05   -0.025379  0.002010\n",
              "2016-01-06   -0.019764 -0.013202\n",
              "2016-01-07   -0.043121 -0.023986\n",
              "2016-01-08    0.005274 -0.010898\n",
              "2016-01-11    0.016063  0.000853\n",
              "...                ...       ...\n",
              "2024-02-16   -0.008466 -0.004815\n",
              "2024-02-20   -0.004122 -0.006023\n",
              "2024-02-21    0.004177  0.001263\n",
              "2024-02-22    0.011181  0.020903\n",
              "2024-02-23   -0.010085  0.000348\n",
              "\n",
              "[2048 rows x 2 columns]"
            ],
            "text/html": [
              "\n",
              "  <div id=\"df-34e38f84-0831-4022-a422-18d57847c3aa\" class=\"colab-df-container\">\n",
              "    <div>\n",
              "<style scoped>\n",
              "    .dataframe tbody tr th:only-of-type {\n",
              "        vertical-align: middle;\n",
              "    }\n",
              "\n",
              "    .dataframe tbody tr th {\n",
              "        vertical-align: top;\n",
              "    }\n",
              "\n",
              "    .dataframe thead th {\n",
              "        text-align: right;\n",
              "    }\n",
              "</style>\n",
              "<table border=\"1\" class=\"dataframe\">\n",
              "  <thead>\n",
              "    <tr style=\"text-align: right;\">\n",
              "      <th></th>\n",
              "      <th>Asset_APPL</th>\n",
              "      <th>Market</th>\n",
              "    </tr>\n",
              "    <tr>\n",
              "      <th>Date</th>\n",
              "      <th></th>\n",
              "      <th></th>\n",
              "    </tr>\n",
              "  </thead>\n",
              "  <tbody>\n",
              "    <tr>\n",
              "      <th>2016-01-05</th>\n",
              "      <td>-0.025379</td>\n",
              "      <td>0.002010</td>\n",
              "    </tr>\n",
              "    <tr>\n",
              "      <th>2016-01-06</th>\n",
              "      <td>-0.019764</td>\n",
              "      <td>-0.013202</td>\n",
              "    </tr>\n",
              "    <tr>\n",
              "      <th>2016-01-07</th>\n",
              "      <td>-0.043121</td>\n",
              "      <td>-0.023986</td>\n",
              "    </tr>\n",
              "    <tr>\n",
              "      <th>2016-01-08</th>\n",
              "      <td>0.005274</td>\n",
              "      <td>-0.010898</td>\n",
              "    </tr>\n",
              "    <tr>\n",
              "      <th>2016-01-11</th>\n",
              "      <td>0.016063</td>\n",
              "      <td>0.000853</td>\n",
              "    </tr>\n",
              "    <tr>\n",
              "      <th>...</th>\n",
              "      <td>...</td>\n",
              "      <td>...</td>\n",
              "    </tr>\n",
              "    <tr>\n",
              "      <th>2024-02-16</th>\n",
              "      <td>-0.008466</td>\n",
              "      <td>-0.004815</td>\n",
              "    </tr>\n",
              "    <tr>\n",
              "      <th>2024-02-20</th>\n",
              "      <td>-0.004122</td>\n",
              "      <td>-0.006023</td>\n",
              "    </tr>\n",
              "    <tr>\n",
              "      <th>2024-02-21</th>\n",
              "      <td>0.004177</td>\n",
              "      <td>0.001263</td>\n",
              "    </tr>\n",
              "    <tr>\n",
              "      <th>2024-02-22</th>\n",
              "      <td>0.011181</td>\n",
              "      <td>0.020903</td>\n",
              "    </tr>\n",
              "    <tr>\n",
              "      <th>2024-02-23</th>\n",
              "      <td>-0.010085</td>\n",
              "      <td>0.000348</td>\n",
              "    </tr>\n",
              "  </tbody>\n",
              "</table>\n",
              "<p>2048 rows × 2 columns</p>\n",
              "</div>\n",
              "    <div class=\"colab-df-buttons\">\n",
              "\n",
              "  <div class=\"colab-df-container\">\n",
              "    <button class=\"colab-df-convert\" onclick=\"convertToInteractive('df-34e38f84-0831-4022-a422-18d57847c3aa')\"\n",
              "            title=\"Convert this dataframe to an interactive table.\"\n",
              "            style=\"display:none;\">\n",
              "\n",
              "  <svg xmlns=\"http://www.w3.org/2000/svg\" height=\"24px\" viewBox=\"0 -960 960 960\">\n",
              "    <path d=\"M120-120v-720h720v720H120Zm60-500h600v-160H180v160Zm220 220h160v-160H400v160Zm0 220h160v-160H400v160ZM180-400h160v-160H180v160Zm440 0h160v-160H620v160ZM180-180h160v-160H180v160Zm440 0h160v-160H620v160Z\"/>\n",
              "  </svg>\n",
              "    </button>\n",
              "\n",
              "  <style>\n",
              "    .colab-df-container {\n",
              "      display:flex;\n",
              "      gap: 12px;\n",
              "    }\n",
              "\n",
              "    .colab-df-convert {\n",
              "      background-color: #E8F0FE;\n",
              "      border: none;\n",
              "      border-radius: 50%;\n",
              "      cursor: pointer;\n",
              "      display: none;\n",
              "      fill: #1967D2;\n",
              "      height: 32px;\n",
              "      padding: 0 0 0 0;\n",
              "      width: 32px;\n",
              "    }\n",
              "\n",
              "    .colab-df-convert:hover {\n",
              "      background-color: #E2EBFA;\n",
              "      box-shadow: 0px 1px 2px rgba(60, 64, 67, 0.3), 0px 1px 3px 1px rgba(60, 64, 67, 0.15);\n",
              "      fill: #174EA6;\n",
              "    }\n",
              "\n",
              "    .colab-df-buttons div {\n",
              "      margin-bottom: 4px;\n",
              "    }\n",
              "\n",
              "    [theme=dark] .colab-df-convert {\n",
              "      background-color: #3B4455;\n",
              "      fill: #D2E3FC;\n",
              "    }\n",
              "\n",
              "    [theme=dark] .colab-df-convert:hover {\n",
              "      background-color: #434B5C;\n",
              "      box-shadow: 0px 1px 3px 1px rgba(0, 0, 0, 0.15);\n",
              "      filter: drop-shadow(0px 1px 2px rgba(0, 0, 0, 0.3));\n",
              "      fill: #FFFFFF;\n",
              "    }\n",
              "  </style>\n",
              "\n",
              "    <script>\n",
              "      const buttonEl =\n",
              "        document.querySelector('#df-34e38f84-0831-4022-a422-18d57847c3aa button.colab-df-convert');\n",
              "      buttonEl.style.display =\n",
              "        google.colab.kernel.accessAllowed ? 'block' : 'none';\n",
              "\n",
              "      async function convertToInteractive(key) {\n",
              "        const element = document.querySelector('#df-34e38f84-0831-4022-a422-18d57847c3aa');\n",
              "        const dataTable =\n",
              "          await google.colab.kernel.invokeFunction('convertToInteractive',\n",
              "                                                    [key], {});\n",
              "        if (!dataTable) return;\n",
              "\n",
              "        const docLinkHtml = 'Like what you see? Visit the ' +\n",
              "          '<a target=\"_blank\" href=https://colab.research.google.com/notebooks/data_table.ipynb>data table notebook</a>'\n",
              "          + ' to learn more about interactive tables.';\n",
              "        element.innerHTML = '';\n",
              "        dataTable['output_type'] = 'display_data';\n",
              "        await google.colab.output.renderOutput(dataTable, element);\n",
              "        const docLink = document.createElement('div');\n",
              "        docLink.innerHTML = docLinkHtml;\n",
              "        element.appendChild(docLink);\n",
              "      }\n",
              "    </script>\n",
              "  </div>\n",
              "\n",
              "\n",
              "<div id=\"df-4bf073e1-47d4-4b0a-9d41-c93ddd17a238\">\n",
              "  <button class=\"colab-df-quickchart\" onclick=\"quickchart('df-4bf073e1-47d4-4b0a-9d41-c93ddd17a238')\"\n",
              "            title=\"Suggest charts\"\n",
              "            style=\"display:none;\">\n",
              "\n",
              "<svg xmlns=\"http://www.w3.org/2000/svg\" height=\"24px\"viewBox=\"0 0 24 24\"\n",
              "     width=\"24px\">\n",
              "    <g>\n",
              "        <path d=\"M19 3H5c-1.1 0-2 .9-2 2v14c0 1.1.9 2 2 2h14c1.1 0 2-.9 2-2V5c0-1.1-.9-2-2-2zM9 17H7v-7h2v7zm4 0h-2V7h2v10zm4 0h-2v-4h2v4z\"/>\n",
              "    </g>\n",
              "</svg>\n",
              "  </button>\n",
              "\n",
              "<style>\n",
              "  .colab-df-quickchart {\n",
              "      --bg-color: #E8F0FE;\n",
              "      --fill-color: #1967D2;\n",
              "      --hover-bg-color: #E2EBFA;\n",
              "      --hover-fill-color: #174EA6;\n",
              "      --disabled-fill-color: #AAA;\n",
              "      --disabled-bg-color: #DDD;\n",
              "  }\n",
              "\n",
              "  [theme=dark] .colab-df-quickchart {\n",
              "      --bg-color: #3B4455;\n",
              "      --fill-color: #D2E3FC;\n",
              "      --hover-bg-color: #434B5C;\n",
              "      --hover-fill-color: #FFFFFF;\n",
              "      --disabled-bg-color: #3B4455;\n",
              "      --disabled-fill-color: #666;\n",
              "  }\n",
              "\n",
              "  .colab-df-quickchart {\n",
              "    background-color: var(--bg-color);\n",
              "    border: none;\n",
              "    border-radius: 50%;\n",
              "    cursor: pointer;\n",
              "    display: none;\n",
              "    fill: var(--fill-color);\n",
              "    height: 32px;\n",
              "    padding: 0;\n",
              "    width: 32px;\n",
              "  }\n",
              "\n",
              "  .colab-df-quickchart:hover {\n",
              "    background-color: var(--hover-bg-color);\n",
              "    box-shadow: 0 1px 2px rgba(60, 64, 67, 0.3), 0 1px 3px 1px rgba(60, 64, 67, 0.15);\n",
              "    fill: var(--button-hover-fill-color);\n",
              "  }\n",
              "\n",
              "  .colab-df-quickchart-complete:disabled,\n",
              "  .colab-df-quickchart-complete:disabled:hover {\n",
              "    background-color: var(--disabled-bg-color);\n",
              "    fill: var(--disabled-fill-color);\n",
              "    box-shadow: none;\n",
              "  }\n",
              "\n",
              "  .colab-df-spinner {\n",
              "    border: 2px solid var(--fill-color);\n",
              "    border-color: transparent;\n",
              "    border-bottom-color: var(--fill-color);\n",
              "    animation:\n",
              "      spin 1s steps(1) infinite;\n",
              "  }\n",
              "\n",
              "  @keyframes spin {\n",
              "    0% {\n",
              "      border-color: transparent;\n",
              "      border-bottom-color: var(--fill-color);\n",
              "      border-left-color: var(--fill-color);\n",
              "    }\n",
              "    20% {\n",
              "      border-color: transparent;\n",
              "      border-left-color: var(--fill-color);\n",
              "      border-top-color: var(--fill-color);\n",
              "    }\n",
              "    30% {\n",
              "      border-color: transparent;\n",
              "      border-left-color: var(--fill-color);\n",
              "      border-top-color: var(--fill-color);\n",
              "      border-right-color: var(--fill-color);\n",
              "    }\n",
              "    40% {\n",
              "      border-color: transparent;\n",
              "      border-right-color: var(--fill-color);\n",
              "      border-top-color: var(--fill-color);\n",
              "    }\n",
              "    60% {\n",
              "      border-color: transparent;\n",
              "      border-right-color: var(--fill-color);\n",
              "    }\n",
              "    80% {\n",
              "      border-color: transparent;\n",
              "      border-right-color: var(--fill-color);\n",
              "      border-bottom-color: var(--fill-color);\n",
              "    }\n",
              "    90% {\n",
              "      border-color: transparent;\n",
              "      border-bottom-color: var(--fill-color);\n",
              "    }\n",
              "  }\n",
              "</style>\n",
              "\n",
              "  <script>\n",
              "    async function quickchart(key) {\n",
              "      const quickchartButtonEl =\n",
              "        document.querySelector('#' + key + ' button');\n",
              "      quickchartButtonEl.disabled = true;  // To prevent multiple clicks.\n",
              "      quickchartButtonEl.classList.add('colab-df-spinner');\n",
              "      try {\n",
              "        const charts = await google.colab.kernel.invokeFunction(\n",
              "            'suggestCharts', [key], {});\n",
              "      } catch (error) {\n",
              "        console.error('Error during call to suggestCharts:', error);\n",
              "      }\n",
              "      quickchartButtonEl.classList.remove('colab-df-spinner');\n",
              "      quickchartButtonEl.classList.add('colab-df-quickchart-complete');\n",
              "    }\n",
              "    (() => {\n",
              "      let quickchartButtonEl =\n",
              "        document.querySelector('#df-4bf073e1-47d4-4b0a-9d41-c93ddd17a238 button');\n",
              "      quickchartButtonEl.style.display =\n",
              "        google.colab.kernel.accessAllowed ? 'block' : 'none';\n",
              "    })();\n",
              "  </script>\n",
              "</div>\n",
              "\n",
              "  <div id=\"id_ee352e0c-4a56-4492-85da-d992615492e1\">\n",
              "    <style>\n",
              "      .colab-df-generate {\n",
              "        background-color: #E8F0FE;\n",
              "        border: none;\n",
              "        border-radius: 50%;\n",
              "        cursor: pointer;\n",
              "        display: none;\n",
              "        fill: #1967D2;\n",
              "        height: 32px;\n",
              "        padding: 0 0 0 0;\n",
              "        width: 32px;\n",
              "      }\n",
              "\n",
              "      .colab-df-generate:hover {\n",
              "        background-color: #E2EBFA;\n",
              "        box-shadow: 0px 1px 2px rgba(60, 64, 67, 0.3), 0px 1px 3px 1px rgba(60, 64, 67, 0.15);\n",
              "        fill: #174EA6;\n",
              "      }\n",
              "\n",
              "      [theme=dark] .colab-df-generate {\n",
              "        background-color: #3B4455;\n",
              "        fill: #D2E3FC;\n",
              "      }\n",
              "\n",
              "      [theme=dark] .colab-df-generate:hover {\n",
              "        background-color: #434B5C;\n",
              "        box-shadow: 0px 1px 3px 1px rgba(0, 0, 0, 0.15);\n",
              "        filter: drop-shadow(0px 1px 2px rgba(0, 0, 0, 0.3));\n",
              "        fill: #FFFFFF;\n",
              "      }\n",
              "    </style>\n",
              "    <button class=\"colab-df-generate\" onclick=\"generateWithVariable('returns_1')\"\n",
              "            title=\"Generate code using this dataframe.\"\n",
              "            style=\"display:none;\">\n",
              "\n",
              "  <svg xmlns=\"http://www.w3.org/2000/svg\" height=\"24px\"viewBox=\"0 0 24 24\"\n",
              "       width=\"24px\">\n",
              "    <path d=\"M7,19H8.4L18.45,9,17,7.55,7,17.6ZM5,21V16.75L18.45,3.32a2,2,0,0,1,2.83,0l1.4,1.43a1.91,1.91,0,0,1,.58,1.4,1.91,1.91,0,0,1-.58,1.4L9.25,21ZM18.45,9,17,7.55Zm-12,3A5.31,5.31,0,0,0,4.9,8.1,5.31,5.31,0,0,0,1,6.5,5.31,5.31,0,0,0,4.9,4.9,5.31,5.31,0,0,0,6.5,1,5.31,5.31,0,0,0,8.1,4.9,5.31,5.31,0,0,0,12,6.5,5.46,5.46,0,0,0,6.5,12Z\"/>\n",
              "  </svg>\n",
              "    </button>\n",
              "    <script>\n",
              "      (() => {\n",
              "      const buttonEl =\n",
              "        document.querySelector('#id_ee352e0c-4a56-4492-85da-d992615492e1 button.colab-df-generate');\n",
              "      buttonEl.style.display =\n",
              "        google.colab.kernel.accessAllowed ? 'block' : 'none';\n",
              "\n",
              "      buttonEl.onclick = () => {\n",
              "        google.colab.notebook.generateWithVariable('returns_1');\n",
              "      }\n",
              "      })();\n",
              "    </script>\n",
              "  </div>\n",
              "\n",
              "    </div>\n",
              "  </div>\n"
            ],
            "application/vnd.google.colaboratory.intrinsic+json": {
              "type": "dataframe",
              "variable_name": "returns_1",
              "summary": "{\n  \"name\": \"returns_1\",\n  \"rows\": 2048,\n  \"fields\": [\n    {\n      \"column\": \"Asset_APPL\",\n      \"properties\": {\n        \"dtype\": \"number\",\n        \"std\": 0.018384437605115395,\n        \"min\": -0.13770811787705173,\n        \"max\": 0.11315735832163604,\n        \"num_unique_values\": 2044,\n        \"samples\": [\n          0.011235134880111986,\n          -0.0019224191964404018,\n          0.005912921098201867\n        ],\n        \"semantic_type\": \"\",\n        \"description\": \"\"\n      }\n    },\n    {\n      \"column\": \"Market\",\n      \"properties\": {\n        \"dtype\": \"number\",\n        \"std\": 0.01171927392205747,\n        \"min\": -0.12765219747281742,\n        \"max\": 0.08968323251796326,\n        \"num_unique_values\": 2048,\n        \"samples\": [\n          0.007196697564130407,\n          -0.008203035421009815,\n          0.004277694939439437\n        ],\n        \"semantic_type\": \"\",\n        \"description\": \"\"\n      }\n    }\n  ]\n}"
            }
          },
          "metadata": {},
          "execution_count": 630
        }
      ]
    },
    {
      "source": [
        "# @title Asset_APPL vs Market\n",
        "\n",
        "from matplotlib import pyplot as plt\n",
        "returns_1.plot(kind='scatter', x='Asset_APPL', y='Market', s=32, alpha=.8)\n",
        "plt.gca().spines[['top', 'right',]].set_visible(False)"
      ],
      "cell_type": "code",
      "execution_count": 631,
      "outputs": [
        {
          "output_type": "display_data",
          "data": {
            "text/plain": [
              "<Figure size 640x480 with 1 Axes>"
            ],
            "image/png": "[encoded data removed]"
          },
          "metadata": {}
        }
      ],
      "metadata": {
        "id": "ipjN0pU0ggoy",
        "outputId": "8f34f99b-a095-450b-eb2a-f2bfaa68bf6c",
        "colab": {
          "base_uri": "https://localhost:8080/",
          "height": 454
        }
      }
    },
    {
      "source": [
        "# @title Market\n",
        "\n",
        "from matplotlib import pyplot as plt\n",
        "returns_1['Market'].plot(kind='hist', bins=20, title='Market')\n",
        "plt.gca().spines[['top', 'right',]].set_visible(False)"
      ],
      "cell_type": "code",
      "execution_count": 632,
      "outputs": [
        {
          "output_type": "display_data",
          "data": {
            "text/plain": [
              "<Figure size 640x480 with 1 Axes>"
            ],
            "image/png": "[encoded data removed]"
          },
          "metadata": {}
        }
      ],
      "metadata": {
        "id": "279EpfQpfZOS",
        "outputId": "ee3e2d62-adc1-4192-a1c1-9463d5f960ac",
        "colab": {
          "base_uri": "https://localhost:8080/",
          "height": 452
        }
      }
    },
    {
      "source": [
        "# @title Asset_APPL\n",
        "\n",
        "from matplotlib import pyplot as plt\n",
        "returns_1['Asset_APPL'].plot(kind='hist', bins=20, title='Asset_APPL')\n",
        "plt.gca().spines[['top', 'right',]].set_visible(False)"
      ],
      "cell_type": "code",
      "execution_count": 633,
      "outputs": [
        {
          "output_type": "display_data",
          "data": {
            "text/plain": [
              "<Figure size 640x480 with 1 Axes>"
            ],
            "image/png": "[encoded data removed]"
          },
          "metadata": {}
        }
      ],
      "metadata": {
        "id": "5d1KTK0HfRaW",
        "outputId": "1b387cbc-5f6d-4843-98dd-037efd922bd4",
        "colab": {
          "base_uri": "https://localhost:8080/",
          "height": 452
        }
      }
    },
    {
      "cell_type": "code",
      "source": [
        "from scipy.stats import stats"
      ],
      "metadata": {
        "id": "5G4TaJg1foUP"
      },
      "execution_count": 634,
      "outputs": []
    },
    {
      "cell_type": "code",
      "source": [
        "slope, intercept, r_value, p_value, std_err = stats.linregress(returns_1['Asset_APPL'], returns_1['Market'])\n",
        "beta= slope"
      ],
      "metadata": {
        "id": "gzzIU3LLfbnr",
        "outputId": "0779ef8b-3c30-4065-9bc1-7c405fc86ce9",
        "colab": {
          "base_uri": "https://localhost:8080/"
        }
      },
      "execution_count": 635,
      "outputs": [
        {
          "output_type": "stream",
          "name": "stderr",
          "text": [
            "<ipython-input-635-3dced111df95>:1: DeprecationWarning: Please use `linregress` from the `scipy.stats` namespace, the `scipy.stats.stats` namespace is deprecated.\n",
            "  slope, intercept, r_value, p_value, std_err = stats.linregress(returns_1['Asset_APPL'], returns_1['Market'])\n"
          ]
        }
      ]
    },
    {
      "cell_type": "code",
      "source": [
        "beta"
      ],
      "metadata": {
        "id": "c9adPGjTf-C1",
        "outputId": "4f14eef7-76b2-4a3e-c3d5-58fbaba7ccdd",
        "colab": {
          "base_uri": "https://localhost:8080/"
        }
      },
      "execution_count": 636,
      "outputs": [
        {
          "output_type": "execute_result",
          "data": {
            "text/plain": [
              "0.4903374277055118"
            ]
          },
          "metadata": {},
          "execution_count": 636
        }
      ]
    },
    {
      "cell_type": "code",
      "source": [
        "data_T = data['TSLA']\n"
      ],
      "metadata": {
        "id": "OGiFvGcQgSPV"
      },
      "execution_count": 637,
      "outputs": []
    },
    {
      "cell_type": "code",
      "source": [
        "data_2 = pd.concat([data_T, market_data], axis=1)"
      ],
      "metadata": {
        "id": "83RXSUSCoZjU"
      },
      "execution_count": 638,
      "outputs": []
    },
    {
      "cell_type": "code",
      "source": [
        "data_2"
      ],
      "metadata": {
        "id": "dtUbJGzxou3W",
        "outputId": "5d33764a-20f6-43f0-bb2d-82ca8ea7b878",
        "colab": {
          "base_uri": "https://localhost:8080/",
          "height": 455
        }
      },
      "execution_count": 639,
      "outputs": [
        {
          "output_type": "execute_result",
          "data": {
            "text/plain": [
              "                  TSLA    Adj Close\n",
              "Date                               \n",
              "2016-01-04   14.894000  2012.660034\n",
              "2016-01-05   14.895333  2016.709961\n",
              "2016-01-06   14.602667  1990.260010\n",
              "2016-01-07   14.376667  1943.089966\n",
              "2016-01-08   14.066667  1922.030029\n",
              "...                ...          ...\n",
              "2024-02-16  199.949997  5005.569824\n",
              "2024-02-20  193.759995  4975.509766\n",
              "2024-02-21  194.770004  4981.799805\n",
              "2024-02-22  197.410004  5087.029785\n",
              "2024-02-23  191.970001  5088.799805\n",
              "\n",
              "[2049 rows x 2 columns]"
            ],
            "text/html": [
              "\n",
              "  <div id=\"df-70ef6870-a3dd-4775-ac7d-25d2a003480a\" class=\"colab-df-container\">\n",
              "    <div>\n",
              "<style scoped>\n",
              "    .dataframe tbody tr th:only-of-type {\n",
              "        vertical-align: middle;\n",
              "    }\n",
              "\n",
              "    .dataframe tbody tr th {\n",
              "        vertical-align: top;\n",
              "    }\n",
              "\n",
              "    .dataframe thead th {\n",
              "        text-align: right;\n",
              "    }\n",
              "</style>\n",
              "<table border=\"1\" class=\"dataframe\">\n",
              "  <thead>\n",
              "    <tr style=\"text-align: right;\">\n",
              "      <th></th>\n",
              "      <th>TSLA</th>\n",
              "      <th>Adj Close</th>\n",
              "    </tr>\n",
              "    <tr>\n",
              "      <th>Date</th>\n",
              "      <th></th>\n",
              "      <th></th>\n",
              "    </tr>\n",
              "  </thead>\n",
              "  <tbody>\n",
              "    <tr>\n",
              "      <th>2016-01-04</th>\n",
              "      <td>14.894000</td>\n",
              "      <td>2012.660034</td>\n",
              "    </tr>\n",
              "    <tr>\n",
              "      <th>2016-01-05</th>\n",
              "      <td>14.895333</td>\n",
              "      <td>2016.709961</td>\n",
              "    </tr>\n",
              "    <tr>\n",
              "      <th>2016-01-06</th>\n",
              "      <td>14.602667</td>\n",
              "      <td>1990.260010</td>\n",
              "    </tr>\n",
              "    <tr>\n",
              "      <th>2016-01-07</th>\n",
              "      <td>14.376667</td>\n",
              "      <td>1943.089966</td>\n",
              "    </tr>\n",
              "    <tr>\n",
              "      <th>2016-01-08</th>\n",
              "      <td>14.066667</td>\n",
              "      <td>1922.030029</td>\n",
              "    </tr>\n",
              "    <tr>\n",
              "      <th>...</th>\n",
              "      <td>...</td>\n",
              "      <td>...</td>\n",
              "    </tr>\n",
              "    <tr>\n",
              "      <th>2024-02-16</th>\n",
              "      <td>199.949997</td>\n",
              "      <td>5005.569824</td>\n",
              "    </tr>\n",
              "    <tr>\n",
              "      <th>2024-02-20</th>\n",
              "      <td>193.759995</td>\n",
              "      <td>4975.509766</td>\n",
              "    </tr>\n",
              "    <tr>\n",
              "      <th>2024-02-21</th>\n",
              "      <td>194.770004</td>\n",
              "      <td>4981.799805</td>\n",
              "    </tr>\n",
              "    <tr>\n",
              "      <th>2024-02-22</th>\n",
              "      <td>197.410004</td>\n",
              "      <td>5087.029785</td>\n",
              "    </tr>\n",
              "    <tr>\n",
              "      <th>2024-02-23</th>\n",
              "      <td>191.970001</td>\n",
              "      <td>5088.799805</td>\n",
              "    </tr>\n",
              "  </tbody>\n",
              "</table>\n",
              "<p>2049 rows × 2 columns</p>\n",
              "</div>\n",
              "    <div class=\"colab-df-buttons\">\n",
              "\n",
              "  <div class=\"colab-df-container\">\n",
              "    <button class=\"colab-df-convert\" onclick=\"convertToInteractive('df-70ef6870-a3dd-4775-ac7d-25d2a003480a')\"\n",
              "            title=\"Convert this dataframe to an interactive table.\"\n",
              "            style=\"display:none;\">\n",
              "\n",
              "  <svg xmlns=\"http://www.w3.org/2000/svg\" height=\"24px\" viewBox=\"0 -960 960 960\">\n",
              "    <path d=\"M120-120v-720h720v720H120Zm60-500h600v-160H180v160Zm220 220h160v-160H400v160Zm0 220h160v-160H400v160ZM180-400h160v-160H180v160Zm440 0h160v-160H620v160ZM180-180h160v-160H180v160Zm440 0h160v-160H620v160Z\"/>\n",
              "  </svg>\n",
              "    </button>\n",
              "\n",
              "  <style>\n",
              "    .colab-df-container {\n",
              "      display:flex;\n",
              "      gap: 12px;\n",
              "    }\n",
              "\n",
              "    .colab-df-convert {\n",
              "      background-color: #E8F0FE;\n",
              "      border: none;\n",
              "      border-radius: 50%;\n",
              "      cursor: pointer;\n",
              "      display: none;\n",
              "      fill: #1967D2;\n",
              "      height: 32px;\n",
              "      padding: 0 0 0 0;\n",
              "      width: 32px;\n",
              "    }\n",
              "\n",
              "    .colab-df-convert:hover {\n",
              "      background-color: #E2EBFA;\n",
              "      box-shadow: 0px 1px 2px rgba(60, 64, 67, 0.3), 0px 1px 3px 1px rgba(60, 64, 67, 0.15);\n",
              "      fill: #174EA6;\n",
              "    }\n",
              "\n",
              "    .colab-df-buttons div {\n",
              "      margin-bottom: 4px;\n",
              "    }\n",
              "\n",
              "    [theme=dark] .colab-df-convert {\n",
              "      background-color: #3B4455;\n",
              "      fill: #D2E3FC;\n",
              "    }\n",
              "\n",
              "    [theme=dark] .colab-df-convert:hover {\n",
              "      background-color: #434B5C;\n",
              "      box-shadow: 0px 1px 3px 1px rgba(0, 0, 0, 0.15);\n",
              "      filter: drop-shadow(0px 1px 2px rgba(0, 0, 0, 0.3));\n",
              "      fill: #FFFFFF;\n",
              "    }\n",
              "  </style>\n",
              "\n",
              "    <script>\n",
              "      const buttonEl =\n",
              "        document.querySelector('#df-70ef6870-a3dd-4775-ac7d-25d2a003480a button.colab-df-convert');\n",
              "      buttonEl.style.display =\n",
              "        google.colab.kernel.accessAllowed ? 'block' : 'none';\n",
              "\n",
              "      async function convertToInteractive(key) {\n",
              "        const element = document.querySelector('#df-70ef6870-a3dd-4775-ac7d-25d2a003480a');\n",
              "        const dataTable =\n",
              "          await google.colab.kernel.invokeFunction('convertToInteractive',\n",
              "                                                    [key], {});\n",
              "        if (!dataTable) return;\n",
              "\n",
              "        const docLinkHtml = 'Like what you see? Visit the ' +\n",
              "          '<a target=\"_blank\" href=https://colab.research.google.com/notebooks/data_table.ipynb>data table notebook</a>'\n",
              "          + ' to learn more about interactive tables.';\n",
              "        element.innerHTML = '';\n",
              "        dataTable['output_type'] = 'display_data';\n",
              "        await google.colab.output.renderOutput(dataTable, element);\n",
              "        const docLink = document.createElement('div');\n",
              "        docLink.innerHTML = docLinkHtml;\n",
              "        element.appendChild(docLink);\n",
              "      }\n",
              "    </script>\n",
              "  </div>\n",
              "\n",
              "\n",
              "<div id=\"df-26d71f10-917b-4359-aa8d-cf3ff22d9663\">\n",
              "  <button class=\"colab-df-quickchart\" onclick=\"quickchart('df-26d71f10-917b-4359-aa8d-cf3ff22d9663')\"\n",
              "            title=\"Suggest charts\"\n",
              "            style=\"display:none;\">\n",
              "\n",
              "<svg xmlns=\"http://www.w3.org/2000/svg\" height=\"24px\"viewBox=\"0 0 24 24\"\n",
              "     width=\"24px\">\n",
              "    <g>\n",
              "        <path d=\"M19 3H5c-1.1 0-2 .9-2 2v14c0 1.1.9 2 2 2h14c1.1 0 2-.9 2-2V5c0-1.1-.9-2-2-2zM9 17H7v-7h2v7zm4 0h-2V7h2v10zm4 0h-2v-4h2v4z\"/>\n",
              "    </g>\n",
              "</svg>\n",
              "  </button>\n",
              "\n",
              "<style>\n",
              "  .colab-df-quickchart {\n",
              "      --bg-color: #E8F0FE;\n",
              "      --fill-color: #1967D2;\n",
              "      --hover-bg-color: #E2EBFA;\n",
              "      --hover-fill-color: #174EA6;\n",
              "      --disabled-fill-color: #AAA;\n",
              "      --disabled-bg-color: #DDD;\n",
              "  }\n",
              "\n",
              "  [theme=dark] .colab-df-quickchart {\n",
              "      --bg-color: #3B4455;\n",
              "      --fill-color: #D2E3FC;\n",
              "      --hover-bg-color: #434B5C;\n",
              "      --hover-fill-color: #FFFFFF;\n",
              "      --disabled-bg-color: #3B4455;\n",
              "      --disabled-fill-color: #666;\n",
              "  }\n",
              "\n",
              "  .colab-df-quickchart {\n",
              "    background-color: var(--bg-color);\n",
              "    border: none;\n",
              "    border-radius: 50%;\n",
              "    cursor: pointer;\n",
              "    display: none;\n",
              "    fill: var(--fill-color);\n",
              "    height: 32px;\n",
              "    padding: 0;\n",
              "    width: 32px;\n",
              "  }\n",
              "\n",
              "  .colab-df-quickchart:hover {\n",
              "    background-color: var(--hover-bg-color);\n",
              "    box-shadow: 0 1px 2px rgba(60, 64, 67, 0.3), 0 1px 3px 1px rgba(60, 64, 67, 0.15);\n",
              "    fill: var(--button-hover-fill-color);\n",
              "  }\n",
              "\n",
              "  .colab-df-quickchart-complete:disabled,\n",
              "  .colab-df-quickchart-complete:disabled:hover {\n",
              "    background-color: var(--disabled-bg-color);\n",
              "    fill: var(--disabled-fill-color);\n",
              "    box-shadow: none;\n",
              "  }\n",
              "\n",
              "  .colab-df-spinner {\n",
              "    border: 2px solid var(--fill-color);\n",
              "    border-color: transparent;\n",
              "    border-bottom-color: var(--fill-color);\n",
              "    animation:\n",
              "      spin 1s steps(1) infinite;\n",
              "  }\n",
              "\n",
              "  @keyframes spin {\n",
              "    0% {\n",
              "      border-color: transparent;\n",
              "      border-bottom-color: var(--fill-color);\n",
              "      border-left-color: var(--fill-color);\n",
              "    }\n",
              "    20% {\n",
              "      border-color: transparent;\n",
              "      border-left-color: var(--fill-color);\n",
              "      border-top-color: var(--fill-color);\n",
              "    }\n",
              "    30% {\n",
              "      border-color: transparent;\n",
              "      border-left-color: var(--fill-color);\n",
              "      border-top-color: var(--fill-color);\n",
              "      border-right-color: var(--fill-color);\n",
              "    }\n",
              "    40% {\n",
              "      border-color: transparent;\n",
              "      border-right-color: var(--fill-color);\n",
              "      border-top-color: var(--fill-color);\n",
              "    }\n",
              "    60% {\n",
              "      border-color: transparent;\n",
              "      border-right-color: var(--fill-color);\n",
              "    }\n",
              "    80% {\n",
              "      border-color: transparent;\n",
              "      border-right-color: var(--fill-color);\n",
              "      border-bottom-color: var(--fill-color);\n",
              "    }\n",
              "    90% {\n",
              "      border-color: transparent;\n",
              "      border-bottom-color: var(--fill-color);\n",
              "    }\n",
              "  }\n",
              "</style>\n",
              "\n",
              "  <script>\n",
              "    async function quickchart(key) {\n",
              "      const quickchartButtonEl =\n",
              "        document.querySelector('#' + key + ' button');\n",
              "      quickchartButtonEl.disabled = true;  // To prevent multiple clicks.\n",
              "      quickchartButtonEl.classList.add('colab-df-spinner');\n",
              "      try {\n",
              "        const charts = await google.colab.kernel.invokeFunction(\n",
              "            'suggestCharts', [key], {});\n",
              "      } catch (error) {\n",
              "        console.error('Error during call to suggestCharts:', error);\n",
              "      }\n",
              "      quickchartButtonEl.classList.remove('colab-df-spinner');\n",
              "      quickchartButtonEl.classList.add('colab-df-quickchart-complete');\n",
              "    }\n",
              "    (() => {\n",
              "      let quickchartButtonEl =\n",
              "        document.querySelector('#df-26d71f10-917b-4359-aa8d-cf3ff22d9663 button');\n",
              "      quickchartButtonEl.style.display =\n",
              "        google.colab.kernel.accessAllowed ? 'block' : 'none';\n",
              "    })();\n",
              "  </script>\n",
              "</div>\n",
              "\n",
              "  <div id=\"id_e4c91ada-30a8-4ae5-8c90-185be84c2a42\">\n",
              "    <style>\n",
              "      .colab-df-generate {\n",
              "        background-color: #E8F0FE;\n",
              "        border: none;\n",
              "        border-radius: 50%;\n",
              "        cursor: pointer;\n",
              "        display: none;\n",
              "        fill: #1967D2;\n",
              "        height: 32px;\n",
              "        padding: 0 0 0 0;\n",
              "        width: 32px;\n",
              "      }\n",
              "\n",
              "      .colab-df-generate:hover {\n",
              "        background-color: #E2EBFA;\n",
              "        box-shadow: 0px 1px 2px rgba(60, 64, 67, 0.3), 0px 1px 3px 1px rgba(60, 64, 67, 0.15);\n",
              "        fill: #174EA6;\n",
              "      }\n",
              "\n",
              "      [theme=dark] .colab-df-generate {\n",
              "        background-color: #3B4455;\n",
              "        fill: #D2E3FC;\n",
              "      }\n",
              "\n",
              "      [theme=dark] .colab-df-generate:hover {\n",
              "        background-color: #434B5C;\n",
              "        box-shadow: 0px 1px 3px 1px rgba(0, 0, 0, 0.15);\n",
              "        filter: drop-shadow(0px 1px 2px rgba(0, 0, 0, 0.3));\n",
              "        fill: #FFFFFF;\n",
              "      }\n",
              "    </style>\n",
              "    <button class=\"colab-df-generate\" onclick=\"generateWithVariable('data_2')\"\n",
              "            title=\"Generate code using this dataframe.\"\n",
              "            style=\"display:none;\">\n",
              "\n",
              "  <svg xmlns=\"http://www.w3.org/2000/svg\" height=\"24px\"viewBox=\"0 0 24 24\"\n",
              "       width=\"24px\">\n",
              "    <path d=\"M7,19H8.4L18.45,9,17,7.55,7,17.6ZM5,21V16.75L18.45,3.32a2,2,0,0,1,2.83,0l1.4,1.43a1.91,1.91,0,0,1,.58,1.4,1.91,1.91,0,0,1-.58,1.4L9.25,21ZM18.45,9,17,7.55Zm-12,3A5.31,5.31,0,0,0,4.9,8.1,5.31,5.31,0,0,0,1,6.5,5.31,5.31,0,0,0,4.9,4.9,5.31,5.31,0,0,0,6.5,1,5.31,5.31,0,0,0,8.1,4.9,5.31,5.31,0,0,0,12,6.5,5.46,5.46,0,0,0,6.5,12Z\"/>\n",
              "  </svg>\n",
              "    </button>\n",
              "    <script>\n",
              "      (() => {\n",
              "      const buttonEl =\n",
              "        document.querySelector('#id_e4c91ada-30a8-4ae5-8c90-185be84c2a42 button.colab-df-generate');\n",
              "      buttonEl.style.display =\n",
              "        google.colab.kernel.accessAllowed ? 'block' : 'none';\n",
              "\n",
              "      buttonEl.onclick = () => {\n",
              "        google.colab.notebook.generateWithVariable('data_2');\n",
              "      }\n",
              "      })();\n",
              "    </script>\n",
              "  </div>\n",
              "\n",
              "    </div>\n",
              "  </div>\n"
            ],
            "application/vnd.google.colaboratory.intrinsic+json": {
              "type": "dataframe",
              "variable_name": "data_2",
              "summary": "{\n  \"name\": \"data_2\",\n  \"rows\": 2049,\n  \"fields\": [\n    {\n      \"column\": \"TSLA\",\n      \"properties\": {\n        \"dtype\": \"number\",\n        \"std\": 112.66048828783681,\n        \"min\": 9.57800006866455,\n        \"max\": 409.9700012207031,\n        \"num_unique_values\": 2016,\n        \"samples\": [\n          136.7866668701172,\n          22.219999313354492,\n          23.139333724975586\n        ],\n        \"semantic_type\": \"\",\n        \"description\": \"\"\n      }\n    },\n    {\n      \"column\": \"Adj Close\",\n      \"properties\": {\n        \"dtype\": \"number\",\n        \"std\": 853.8300713277048,\n        \"min\": 1829.0799560546875,\n        \"max\": 5088.7998046875,\n        \"num_unique_values\": 2041,\n        \"samples\": [\n          4079.949951171875,\n          3234.85009765625,\n          2761.6298828125\n        ],\n        \"semantic_type\": \"\",\n        \"description\": \"\"\n      }\n    }\n  ]\n}"
            }
          },
          "metadata": {},
          "execution_count": 639
        }
      ]
    },
    {
      "cell_type": "code",
      "source": [
        "data_2.columns= ['Asset_TSLA', 'Market_2']"
      ],
      "metadata": {
        "id": "C-l_pbuMozBE"
      },
      "execution_count": 640,
      "outputs": []
    },
    {
      "cell_type": "code",
      "source": [
        "returns_2 = np.log(data_2 / data_2.shift(1)).dropna()"
      ],
      "metadata": {
        "id": "DkRoDKelpBm9"
      },
      "execution_count": 642,
      "outputs": []
    },
    {
      "cell_type": "code",
      "source": [
        "returns_2"
      ],
      "metadata": {
        "id": "965UsSJ8pI7r",
        "outputId": "bf8c6aed-1874-47a0-fe2f-df99c49631f8",
        "colab": {
          "base_uri": "https://localhost:8080/",
          "height": 455
        }
      },
      "execution_count": 643,
      "outputs": [
        {
          "output_type": "execute_result",
          "data": {
            "text/plain": [
              "            Asset_TSLA  Market_2\n",
              "Date                            \n",
              "2016-01-05    0.000090  0.002010\n",
              "2016-01-06   -0.019844 -0.013202\n",
              "2016-01-07   -0.015598 -0.023986\n",
              "2016-01-08   -0.021799 -0.010898\n",
              "2016-01-11   -0.015041  0.000853\n",
              "...                ...       ...\n",
              "2024-02-16   -0.002498 -0.004815\n",
              "2024-02-20   -0.031447 -0.006023\n",
              "2024-02-21    0.005199  0.001263\n",
              "2024-02-22    0.013463  0.020903\n",
              "2024-02-23   -0.027944  0.000348\n",
              "\n",
              "[2048 rows x 2 columns]"
            ],
            "text/html": [
              "\n",
              "  <div id=\"df-4797750d-c9d8-48b2-a43e-276f10e4e484\" class=\"colab-df-container\">\n",
              "    <div>\n",
              "<style scoped>\n",
              "    .dataframe tbody tr th:only-of-type {\n",
              "        vertical-align: middle;\n",
              "    }\n",
              "\n",
              "    .dataframe tbody tr th {\n",
              "        vertical-align: top;\n",
              "    }\n",
              "\n",
              "    .dataframe thead th {\n",
              "        text-align: right;\n",
              "    }\n",
              "</style>\n",
              "<table border=\"1\" class=\"dataframe\">\n",
              "  <thead>\n",
              "    <tr style=\"text-align: right;\">\n",
              "      <th></th>\n",
              "      <th>Asset_TSLA</th>\n",
              "      <th>Market_2</th>\n",
              "    </tr>\n",
              "    <tr>\n",
              "      <th>Date</th>\n",
              "      <th></th>\n",
              "      <th></th>\n",
              "    </tr>\n",
              "  </thead>\n",
              "  <tbody>\n",
              "    <tr>\n",
              "      <th>2016-01-05</th>\n",
              "      <td>0.000090</td>\n",
              "      <td>0.002010</td>\n",
              "    </tr>\n",
              "    <tr>\n",
              "      <th>2016-01-06</th>\n",
              "      <td>-0.019844</td>\n",
              "      <td>-0.013202</td>\n",
              "    </tr>\n",
              "    <tr>\n",
              "      <th>2016-01-07</th>\n",
              "      <td>-0.015598</td>\n",
              "      <td>-0.023986</td>\n",
              "    </tr>\n",
              "    <tr>\n",
              "      <th>2016-01-08</th>\n",
              "      <td>-0.021799</td>\n",
              "      <td>-0.010898</td>\n",
              "    </tr>\n",
              "    <tr>\n",
              "      <th>2016-01-11</th>\n",
              "      <td>-0.015041</td>\n",
              "      <td>0.000853</td>\n",
              "    </tr>\n",
              "    <tr>\n",
              "      <th>...</th>\n",
              "      <td>...</td>\n",
              "      <td>...</td>\n",
              "    </tr>\n",
              "    <tr>\n",
              "      <th>2024-02-16</th>\n",
              "      <td>-0.002498</td>\n",
              "      <td>-0.004815</td>\n",
              "    </tr>\n",
              "    <tr>\n",
              "      <th>2024-02-20</th>\n",
              "      <td>-0.031447</td>\n",
              "      <td>-0.006023</td>\n",
              "    </tr>\n",
              "    <tr>\n",
              "      <th>2024-02-21</th>\n",
              "      <td>0.005199</td>\n",
              "      <td>0.001263</td>\n",
              "    </tr>\n",
              "    <tr>\n",
              "      <th>2024-02-22</th>\n",
              "      <td>0.013463</td>\n",
              "      <td>0.020903</td>\n",
              "    </tr>\n",
              "    <tr>\n",
              "      <th>2024-02-23</th>\n",
              "      <td>-0.027944</td>\n",
              "      <td>0.000348</td>\n",
              "    </tr>\n",
              "  </tbody>\n",
              "</table>\n",
              "<p>2048 rows × 2 columns</p>\n",
              "</div>\n",
              "    <div class=\"colab-df-buttons\">\n",
              "\n",
              "  <div class=\"colab-df-container\">\n",
              "    <button class=\"colab-df-convert\" onclick=\"convertToInteractive('df-4797750d-c9d8-48b2-a43e-276f10e4e484')\"\n",
              "            title=\"Convert this dataframe to an interactive table.\"\n",
              "            style=\"display:none;\">\n",
              "\n",
              "  <svg xmlns=\"http://www.w3.org/2000/svg\" height=\"24px\" viewBox=\"0 -960 960 960\">\n",
              "    <path d=\"M120-120v-720h720v720H120Zm60-500h600v-160H180v160Zm220 220h160v-160H400v160Zm0 220h160v-160H400v160ZM180-400h160v-160H180v160Zm440 0h160v-160H620v160ZM180-180h160v-160H180v160Zm440 0h160v-160H620v160Z\"/>\n",
              "  </svg>\n",
              "    </button>\n",
              "\n",
              "  <style>\n",
              "    .colab-df-container {\n",
              "      display:flex;\n",
              "      gap: 12px;\n",
              "    }\n",
              "\n",
              "    .colab-df-convert {\n",
              "      background-color: #E8F0FE;\n",
              "      border: none;\n",
              "      border-radius: 50%;\n",
              "      cursor: pointer;\n",
              "      display: none;\n",
              "      fill: #1967D2;\n",
              "      height: 32px;\n",
              "      padding: 0 0 0 0;\n",
              "      width: 32px;\n",
              "    }\n",
              "\n",
              "    .colab-df-convert:hover {\n",
              "      background-color: #E2EBFA;\n",
              "      box-shadow: 0px 1px 2px rgba(60, 64, 67, 0.3), 0px 1px 3px 1px rgba(60, 64, 67, 0.15);\n",
              "      fill: #174EA6;\n",
              "    }\n",
              "\n",
              "    .colab-df-buttons div {\n",
              "      margin-bottom: 4px;\n",
              "    }\n",
              "\n",
              "    [theme=dark] .colab-df-convert {\n",
              "      background-color: #3B4455;\n",
              "      fill: #D2E3FC;\n",
              "    }\n",
              "\n",
              "    [theme=dark] .colab-df-convert:hover {\n",
              "      background-color: #434B5C;\n",
              "      box-shadow: 0px 1px 3px 1px rgba(0, 0, 0, 0.15);\n",
              "      filter: drop-shadow(0px 1px 2px rgba(0, 0, 0, 0.3));\n",
              "      fill: #FFFFFF;\n",
              "    }\n",
              "  </style>\n",
              "\n",
              "    <script>\n",
              "      const buttonEl =\n",
              "        document.querySelector('#df-4797750d-c9d8-48b2-a43e-276f10e4e484 button.colab-df-convert');\n",
              "      buttonEl.style.display =\n",
              "        google.colab.kernel.accessAllowed ? 'block' : 'none';\n",
              "\n",
              "      async function convertToInteractive(key) {\n",
              "        const element = document.querySelector('#df-4797750d-c9d8-48b2-a43e-276f10e4e484');\n",
              "        const dataTable =\n",
              "          await google.colab.kernel.invokeFunction('convertToInteractive',\n",
              "                                                    [key], {});\n",
              "        if (!dataTable) return;\n",
              "\n",
              "        const docLinkHtml = 'Like what you see? Visit the ' +\n",
              "          '<a target=\"_blank\" href=https://colab.research.google.com/notebooks/data_table.ipynb>data table notebook</a>'\n",
              "          + ' to learn more about interactive tables.';\n",
              "        element.innerHTML = '';\n",
              "        dataTable['output_type'] = 'display_data';\n",
              "        await google.colab.output.renderOutput(dataTable, element);\n",
              "        const docLink = document.createElement('div');\n",
              "        docLink.innerHTML = docLinkHtml;\n",
              "        element.appendChild(docLink);\n",
              "      }\n",
              "    </script>\n",
              "  </div>\n",
              "\n",
              "\n",
              "<div id=\"df-f967a210-49a9-41c6-b37e-71a4c99788db\">\n",
              "  <button class=\"colab-df-quickchart\" onclick=\"quickchart('df-f967a210-49a9-41c6-b37e-71a4c99788db')\"\n",
              "            title=\"Suggest charts\"\n",
              "            style=\"display:none;\">\n",
              "\n",
              "<svg xmlns=\"http://www.w3.org/2000/svg\" height=\"24px\"viewBox=\"0 0 24 24\"\n",
              "     width=\"24px\">\n",
              "    <g>\n",
              "        <path d=\"M19 3H5c-1.1 0-2 .9-2 2v14c0 1.1.9 2 2 2h14c1.1 0 2-.9 2-2V5c0-1.1-.9-2-2-2zM9 17H7v-7h2v7zm4 0h-2V7h2v10zm4 0h-2v-4h2v4z\"/>\n",
              "    </g>\n",
              "</svg>\n",
              "  </button>\n",
              "\n",
              "<style>\n",
              "  .colab-df-quickchart {\n",
              "      --bg-color: #E8F0FE;\n",
              "      --fill-color: #1967D2;\n",
              "      --hover-bg-color: #E2EBFA;\n",
              "      --hover-fill-color: #174EA6;\n",
              "      --disabled-fill-color: #AAA;\n",
              "      --disabled-bg-color: #DDD;\n",
              "  }\n",
              "\n",
              "  [theme=dark] .colab-df-quickchart {\n",
              "      --bg-color: #3B4455;\n",
              "      --fill-color: #D2E3FC;\n",
              "      --hover-bg-color: #434B5C;\n",
              "      --hover-fill-color: #FFFFFF;\n",
              "      --disabled-bg-color: #3B4455;\n",
              "      --disabled-fill-color: #666;\n",
              "  }\n",
              "\n",
              "  .colab-df-quickchart {\n",
              "    background-color: var(--bg-color);\n",
              "    border: none;\n",
              "    border-radius: 50%;\n",
              "    cursor: pointer;\n",
              "    display: none;\n",
              "    fill: var(--fill-color);\n",
              "    height: 32px;\n",
              "    padding: 0;\n",
              "    width: 32px;\n",
              "  }\n",
              "\n",
              "  .colab-df-quickchart:hover {\n",
              "    background-color: var(--hover-bg-color);\n",
              "    box-shadow: 0 1px 2px rgba(60, 64, 67, 0.3), 0 1px 3px 1px rgba(60, 64, 67, 0.15);\n",
              "    fill: var(--button-hover-fill-color);\n",
              "  }\n",
              "\n",
              "  .colab-df-quickchart-complete:disabled,\n",
              "  .colab-df-quickchart-complete:disabled:hover {\n",
              "    background-color: var(--disabled-bg-color);\n",
              "    fill: var(--disabled-fill-color);\n",
              "    box-shadow: none;\n",
              "  }\n",
              "\n",
              "  .colab-df-spinner {\n",
              "    border: 2px solid var(--fill-color);\n",
              "    border-color: transparent;\n",
              "    border-bottom-color: var(--fill-color);\n",
              "    animation:\n",
              "      spin 1s steps(1) infinite;\n",
              "  }\n",
              "\n",
              "  @keyframes spin {\n",
              "    0% {\n",
              "      border-color: transparent;\n",
              "      border-bottom-color: var(--fill-color);\n",
              "      border-left-color: var(--fill-color);\n",
              "    }\n",
              "    20% {\n",
              "      border-color: transparent;\n",
              "      border-left-color: var(--fill-color);\n",
              "      border-top-color: var(--fill-color);\n",
              "    }\n",
              "    30% {\n",
              "      border-color: transparent;\n",
              "      border-left-color: var(--fill-color);\n",
              "      border-top-color: var(--fill-color);\n",
              "      border-right-color: var(--fill-color);\n",
              "    }\n",
              "    40% {\n",
              "      border-color: transparent;\n",
              "      border-right-color: var(--fill-color);\n",
              "      border-top-color: var(--fill-color);\n",
              "    }\n",
              "    60% {\n",
              "      border-color: transparent;\n",
              "      border-right-color: var(--fill-color);\n",
              "    }\n",
              "    80% {\n",
              "      border-color: transparent;\n",
              "      border-right-color: var(--fill-color);\n",
              "      border-bottom-color: var(--fill-color);\n",
              "    }\n",
              "    90% {\n",
              "      border-color: transparent;\n",
              "      border-bottom-color: var(--fill-color);\n",
              "    }\n",
              "  }\n",
              "</style>\n",
              "\n",
              "  <script>\n",
              "    async function quickchart(key) {\n",
              "      const quickchartButtonEl =\n",
              "        document.querySelector('#' + key + ' button');\n",
              "      quickchartButtonEl.disabled = true;  // To prevent multiple clicks.\n",
              "      quickchartButtonEl.classList.add('colab-df-spinner');\n",
              "      try {\n",
              "        const charts = await google.colab.kernel.invokeFunction(\n",
              "            'suggestCharts', [key], {});\n",
              "      } catch (error) {\n",
              "        console.error('Error during call to suggestCharts:', error);\n",
              "      }\n",
              "      quickchartButtonEl.classList.remove('colab-df-spinner');\n",
              "      quickchartButtonEl.classList.add('colab-df-quickchart-complete');\n",
              "    }\n",
              "    (() => {\n",
              "      let quickchartButtonEl =\n",
              "        document.querySelector('#df-f967a210-49a9-41c6-b37e-71a4c99788db button');\n",
              "      quickchartButtonEl.style.display =\n",
              "        google.colab.kernel.accessAllowed ? 'block' : 'none';\n",
              "    })();\n",
              "  </script>\n",
              "</div>\n",
              "\n",
              "  <div id=\"id_d3e4167a-f2b3-4497-89f3-a87c338a9600\">\n",
              "    <style>\n",
              "      .colab-df-generate {\n",
              "        background-color: #E8F0FE;\n",
              "        border: none;\n",
              "        border-radius: 50%;\n",
              "        cursor: pointer;\n",
              "        display: none;\n",
              "        fill: #1967D2;\n",
              "        height: 32px;\n",
              "        padding: 0 0 0 0;\n",
              "        width: 32px;\n",
              "      }\n",
              "\n",
              "      .colab-df-generate:hover {\n",
              "        background-color: #E2EBFA;\n",
              "        box-shadow: 0px 1px 2px rgba(60, 64, 67, 0.3), 0px 1px 3px 1px rgba(60, 64, 67, 0.15);\n",
              "        fill: #174EA6;\n",
              "      }\n",
              "\n",
              "      [theme=dark] .colab-df-generate {\n",
              "        background-color: #3B4455;\n",
              "        fill: #D2E3FC;\n",
              "      }\n",
              "\n",
              "      [theme=dark] .colab-df-generate:hover {\n",
              "        background-color: #434B5C;\n",
              "        box-shadow: 0px 1px 3px 1px rgba(0, 0, 0, 0.15);\n",
              "        filter: drop-shadow(0px 1px 2px rgba(0, 0, 0, 0.3));\n",
              "        fill: #FFFFFF;\n",
              "      }\n",
              "    </style>\n",
              "    <button class=\"colab-df-generate\" onclick=\"generateWithVariable('returns_2')\"\n",
              "            title=\"Generate code using this dataframe.\"\n",
              "            style=\"display:none;\">\n",
              "\n",
              "  <svg xmlns=\"http://www.w3.org/2000/svg\" height=\"24px\"viewBox=\"0 0 24 24\"\n",
              "       width=\"24px\">\n",
              "    <path d=\"M7,19H8.4L18.45,9,17,7.55,7,17.6ZM5,21V16.75L18.45,3.32a2,2,0,0,1,2.83,0l1.4,1.43a1.91,1.91,0,0,1,.58,1.4,1.91,1.91,0,0,1-.58,1.4L9.25,21ZM18.45,9,17,7.55Zm-12,3A5.31,5.31,0,0,0,4.9,8.1,5.31,5.31,0,0,0,1,6.5,5.31,5.31,0,0,0,4.9,4.9,5.31,5.31,0,0,0,6.5,1,5.31,5.31,0,0,0,8.1,4.9,5.31,5.31,0,0,0,12,6.5,5.46,5.46,0,0,0,6.5,12Z\"/>\n",
              "  </svg>\n",
              "    </button>\n",
              "    <script>\n",
              "      (() => {\n",
              "      const buttonEl =\n",
              "        document.querySelector('#id_d3e4167a-f2b3-4497-89f3-a87c338a9600 button.colab-df-generate');\n",
              "      buttonEl.style.display =\n",
              "        google.colab.kernel.accessAllowed ? 'block' : 'none';\n",
              "\n",
              "      buttonEl.onclick = () => {\n",
              "        google.colab.notebook.generateWithVariable('returns_2');\n",
              "      }\n",
              "      })();\n",
              "    </script>\n",
              "  </div>\n",
              "\n",
              "    </div>\n",
              "  </div>\n"
            ],
            "application/vnd.google.colaboratory.intrinsic+json": {
              "type": "dataframe",
              "variable_name": "returns_2",
              "summary": "{\n  \"name\": \"returns_2\",\n  \"rows\": 2048,\n  \"fields\": [\n    {\n      \"column\": \"Asset_TSLA\",\n      \"properties\": {\n        \"dtype\": \"number\",\n        \"std\": 0.03654077458189624,\n        \"min\": -0.23651789445767657,\n        \"max\": 0.18144500086765858,\n        \"num_unique_values\": 2047,\n        \"samples\": [\n          -0.0041661953768667185,\n          -0.020879570125520365,\n          -0.009282495150154764\n        ],\n        \"semantic_type\": \"\",\n        \"description\": \"\"\n      }\n    },\n    {\n      \"column\": \"Market_2\",\n      \"properties\": {\n        \"dtype\": \"number\",\n        \"std\": 0.01171927392205747,\n        \"min\": -0.12765219747281742,\n        \"max\": 0.08968323251796326,\n        \"num_unique_values\": 2048,\n        \"samples\": [\n          0.007196697564130407,\n          -0.008203035421009815,\n          0.004277694939439437\n        ],\n        \"semantic_type\": \"\",\n        \"description\": \"\"\n      }\n    }\n  ]\n}"
            }
          },
          "metadata": {},
          "execution_count": 643
        }
      ]
    },
    {
      "source": [
        "# @title Asset_TSLA\n",
        "\n",
        "from matplotlib import pyplot as plt\n",
        "returns_2['Asset_TSLA'].plot(kind='line', figsize=(8, 4), title='Asset_TSLA')\n",
        "plt.gca().spines[['top', 'right']].set_visible(False)"
      ],
      "cell_type": "code",
      "execution_count": 644,
      "outputs": [
        {
          "output_type": "display_data",
          "data": {
            "text/plain": [
              "<Figure size 800x400 with 1 Axes>"
            ],
            "image/png": "[encoded data removed]"
          },
          "metadata": {}
        }
      ],
      "metadata": {
        "id": "vNNINjGYqJvy",
        "outputId": "bd925a83-c0f8-4364-fedd-aedb68f4ed8e",
        "colab": {
          "base_uri": "https://localhost:8080/",
          "height": 390
        }
      }
    },
    {
      "cell_type": "code",
      "source": [
        "slope, intercept, r_value, p_value, std_err = stats.linregress(returns_2['Market_2'], returns_2['Asset_TSLA'])\n",
        "beta = slope"
      ],
      "metadata": {
        "id": "IYAbUa4bpSsE",
        "outputId": "e6c18dd8-0ce8-4cc5-f475-3e124f703fa9",
        "colab": {
          "base_uri": "https://localhost:8080/"
        }
      },
      "execution_count": 645,
      "outputs": [
        {
          "output_type": "stream",
          "name": "stderr",
          "text": [
            "<ipython-input-645-946886829cd4>:1: DeprecationWarning: Please use `linregress` from the `scipy.stats` namespace, the `scipy.stats.stats` namespace is deprecated.\n",
            "  slope, intercept, r_value, p_value, std_err = stats.linregress(returns_2['Market_2'], returns_2['Asset_TSLA'])\n"
          ]
        }
      ]
    },
    {
      "cell_type": "code",
      "source": [
        "beta"
      ],
      "metadata": {
        "id": "7rtWvqaEpsHU",
        "outputId": "7ec98f03-f966-4b5c-d405-7e509e0d3d95",
        "colab": {
          "base_uri": "https://localhost:8080/"
        }
      },
      "execution_count": 646,
      "outputs": [
        {
          "output_type": "execute_result",
          "data": {
            "text/plain": [
              "1.478464413217018"
            ]
          },
          "metadata": {},
          "execution_count": 646
        }
      ]
    },
    {
      "cell_type": "markdown",
      "source": [
        "# **AAPL Beta WITH** **ARIMA**"
      ],
      "metadata": {
        "id": "xsuHzy1Gwpi_"
      }
    },
    {
      "cell_type": "code",
      "source": [
        "from statsmodels.tsa.arima.model import ARIMA\n",
        "from sklearn.linear_model import LinearRegression"
      ],
      "metadata": {
        "id": "tqhiTOYrqDRV"
      },
      "execution_count": 648,
      "outputs": []
    },
    {
      "cell_type": "code",
      "source": [
        "data_A_returns = np.log(data_A / data_A.shift(1)).dropna()"
      ],
      "metadata": {
        "id": "2uQCR7NsrUDL"
      },
      "execution_count": 649,
      "outputs": []
    },
    {
      "cell_type": "code",
      "source": [
        "data_A_returns"
      ],
      "metadata": {
        "id": "RnVV0jZQrp0x",
        "outputId": "6f426b9a-ddd9-4cdd-fd01-47128f5333fe",
        "colab": {
          "base_uri": "https://localhost:8080/"
        }
      },
      "execution_count": 650,
      "outputs": [
        {
          "output_type": "execute_result",
          "data": {
            "text/plain": [
              "Date\n",
              "2016-01-05   -0.025379\n",
              "2016-01-06   -0.019764\n",
              "2016-01-07   -0.043121\n",
              "2016-01-08    0.005274\n",
              "2016-01-11    0.016063\n",
              "                ...   \n",
              "2024-02-16   -0.008466\n",
              "2024-02-20   -0.004122\n",
              "2024-02-21    0.004177\n",
              "2024-02-22    0.011181\n",
              "2024-02-23   -0.010085\n",
              "Name: AAPL, Length: 2048, dtype: float64"
            ]
          },
          "metadata": {},
          "execution_count": 650
        }
      ]
    },
    {
      "cell_type": "code",
      "source": [
        "market_returns = np.log(market_data / market_data.shift(1)).dropna()"
      ],
      "metadata": {
        "id": "fcJNjE3prs-s"
      },
      "execution_count": 651,
      "outputs": []
    },
    {
      "cell_type": "code",
      "source": [
        "market_returns"
      ],
      "metadata": {
        "id": "TtWfC3anr6Xn",
        "outputId": "caa61364-8950-4c65-a781-80277112a168",
        "colab": {
          "base_uri": "https://localhost:8080/"
        }
      },
      "execution_count": 652,
      "outputs": [
        {
          "output_type": "execute_result",
          "data": {
            "text/plain": [
              "Date\n",
              "2016-01-05    0.002010\n",
              "2016-01-06   -0.013202\n",
              "2016-01-07   -0.023986\n",
              "2016-01-08   -0.010898\n",
              "2016-01-11    0.000853\n",
              "                ...   \n",
              "2024-02-16   -0.004815\n",
              "2024-02-20   -0.006023\n",
              "2024-02-21    0.001263\n",
              "2024-02-22    0.020903\n",
              "2024-02-23    0.000348\n",
              "Name: Adj Close, Length: 2048, dtype: float64"
            ]
          },
          "metadata": {},
          "execution_count": 652
        }
      ]
    },
    {
      "cell_type": "code",
      "source": [
        "model = ARIMA(data_A_returns, order=(1, 1, 1))\n",
        "fitted_model = model.fit()"
      ],
      "metadata": {
        "id": "0Bs6wIKwr8g1",
        "outputId": "f6dd311d-dfe4-4f47-efdf-864c0b59e12d",
        "colab": {
          "base_uri": "https://localhost:8080/"
        }
      },
      "execution_count": 653,
      "outputs": [
        {
          "output_type": "stream",
          "name": "stderr",
          "text": [
            "/usr/local/lib/python3.10/dist-packages/statsmodels/tsa/base/tsa_model.py:473: ValueWarning: A date index has been provided, but it has no associated frequency information and so will be ignored when e.g. forecasting.\n",
            "  self._init_dates(dates, freq)\n"
          ]
        }
      ]
    },
    {
      "cell_type": "code",
      "source": [
        "predicted_Asset_APPL = fitted_model.predict(start=len(data_A_returns), end=len(data_A_returns) + 5)"
      ],
      "metadata": {
        "id": "aTR_fiNdsJlc",
        "outputId": "47c201d5-4d24-4d22-be9a-d7aec1eb6bae",
        "colab": {
          "base_uri": "https://localhost:8080/"
        }
      },
      "execution_count": 655,
      "outputs": [
        {
          "output_type": "stream",
          "name": "stderr",
          "text": [
            "/usr/local/lib/python3.10/dist-packages/statsmodels/tsa/base/tsa_model.py:836: ValueWarning: No supported index is available. Prediction results will be given with an integer index beginning at `start`.\n",
            "  return get_prediction_index(\n",
            "/usr/local/lib/python3.10/dist-packages/statsmodels/tsa/base/tsa_model.py:836: FutureWarning: No supported index is available. In the next version, calling this method in a model without a supported index will result in an exception.\n",
            "  return get_prediction_index(\n"
          ]
        }
      ]
    },
    {
      "cell_type": "code",
      "source": [
        "predicted_Asset_APPL"
      ],
      "metadata": {
        "id": "zrCmBJNosnSD",
        "outputId": "b27bd3f6-51c5-4679-d304-1953775b880b",
        "colab": {
          "base_uri": "https://localhost:8080/"
        }
      },
      "execution_count": 656,
      "outputs": [
        {
          "output_type": "execute_result",
          "data": {
            "text/plain": [
              "2048    0.001702\n",
              "2049    0.000782\n",
              "2050    0.000854\n",
              "2051    0.000848\n",
              "2052    0.000849\n",
              "2053    0.000849\n",
              "Name: predicted_mean, dtype: float64"
            ]
          },
          "metadata": {},
          "execution_count": 656
        }
      ]
    },
    {
      "cell_type": "code",
      "source": [
        "X = market_returns.values.reshape(-1, 1)\n",
        "y = data_A_returns.values.reshape(-1, 1)"
      ],
      "metadata": {
        "id": "nqnWRL_-tCpT"
      },
      "execution_count": 658,
      "outputs": []
    },
    {
      "cell_type": "code",
      "source": [
        "regression_model = LinearRegression()\n",
        "regression_model.fit(X,y)\n",
        "beta = regression_model.coef_[0][0]"
      ],
      "metadata": {
        "id": "tYZSE71ftUtN"
      },
      "execution_count": 659,
      "outputs": []
    },
    {
      "cell_type": "code",
      "source": [
        "print('Estimated Beta Using ARIMA', beta)"
      ],
      "metadata": {
        "id": "uw0c_gb8tmhx",
        "outputId": "a006fb0b-6c58-4e90-bdbe-c1529f5a242e",
        "colab": {
          "base_uri": "https://localhost:8080/"
        }
      },
      "execution_count": 660,
      "outputs": [
        {
          "output_type": "stream",
          "name": "stdout",
          "text": [
            "Estimated Beta Using ARIMA 1.206686159765532\n"
          ]
        }
      ]
    },
    {
      "cell_type": "markdown",
      "source": [
        "# **TESLA ARIMA With Beta**"
      ],
      "metadata": {
        "id": "_p2bYgyEvGfX"
      }
    },
    {
      "cell_type": "code",
      "source": [
        "data_returns_T  = np.log(data_T / data_T.shift(1)).dropna()"
      ],
      "metadata": {
        "id": "zZ38xEkmu2mD"
      },
      "execution_count": 661,
      "outputs": []
    },
    {
      "cell_type": "code",
      "source": [
        "data_returns_T"
      ],
      "metadata": {
        "id": "ms34OXvPvFwF",
        "outputId": "14750ec6-a3b0-4761-8eec-f49b7eda1709",
        "colab": {
          "base_uri": "https://localhost:8080/"
        }
      },
      "execution_count": 662,
      "outputs": [
        {
          "output_type": "execute_result",
          "data": {
            "text/plain": [
              "Date\n",
              "2016-01-05    0.000090\n",
              "2016-01-06   -0.019844\n",
              "2016-01-07   -0.015598\n",
              "2016-01-08   -0.021799\n",
              "2016-01-11   -0.015041\n",
              "                ...   \n",
              "2024-02-16   -0.002498\n",
              "2024-02-20   -0.031447\n",
              "2024-02-21    0.005199\n",
              "2024-02-22    0.013463\n",
              "2024-02-23   -0.027944\n",
              "Name: TSLA, Length: 2048, dtype: float64"
            ]
          },
          "metadata": {},
          "execution_count": 662
        }
      ]
    },
    {
      "cell_type": "code",
      "source": [
        "model = ARIMA(data_returns_T, order=(1, 1, 1))\n",
        "fitted_model = model.fit()"
      ],
      "metadata": {
        "id": "K-YJe8cMvRPN",
        "outputId": "6f1fa703-f529-4d97-b287-89980dbc62ee",
        "colab": {
          "base_uri": "https://localhost:8080/"
        }
      },
      "execution_count": 663,
      "outputs": [
        {
          "output_type": "stream",
          "name": "stderr",
          "text": [
            "/usr/local/lib/python3.10/dist-packages/statsmodels/tsa/base/tsa_model.py:473: ValueWarning: A date index has been provided, but it has no associated frequency information and so will be ignored when e.g. forecasting.\n",
            "  self._init_dates(dates, freq)\n"
          ]
        }
      ]
    },
    {
      "cell_type": "code",
      "source": [
        "predicted_Asset_TSLA = fitted_model.predict(start=len(data_returns_T), end=len(data_returns_T) + 5)"
      ],
      "metadata": {
        "id": "Dk_qbwjPvhSc",
        "outputId": "07990ecf-3bfc-4958-b3fe-2c8dba11b289",
        "colab": {
          "base_uri": "https://localhost:8080/"
        }
      },
      "execution_count": 664,
      "outputs": [
        {
          "output_type": "stream",
          "name": "stderr",
          "text": [
            "/usr/local/lib/python3.10/dist-packages/statsmodels/tsa/base/tsa_model.py:836: ValueWarning: No supported index is available. Prediction results will be given with an integer index beginning at `start`.\n",
            "  return get_prediction_index(\n",
            "/usr/local/lib/python3.10/dist-packages/statsmodels/tsa/base/tsa_model.py:836: FutureWarning: No supported index is available. In the next version, calling this method in a model without a supported index will result in an exception.\n",
            "  return get_prediction_index(\n"
          ]
        }
      ]
    },
    {
      "cell_type": "code",
      "source": [
        "predicted_Asset_TSLA"
      ],
      "metadata": {
        "id": "ZW6Syg6Bv2if",
        "outputId": "f12e7997-65a3-4766-c786-6ef60bbc939f",
        "colab": {
          "base_uri": "https://localhost:8080/"
        }
      },
      "execution_count": 665,
      "outputs": [
        {
          "output_type": "execute_result",
          "data": {
            "text/plain": [
              "2048    0.000062\n",
              "2049   -0.000211\n",
              "2050   -0.000209\n",
              "2051   -0.000209\n",
              "2052   -0.000209\n",
              "2053   -0.000209\n",
              "Name: predicted_mean, dtype: float64"
            ]
          },
          "metadata": {},
          "execution_count": 665
        }
      ]
    },
    {
      "cell_type": "code",
      "source": [
        "X_ = market_returns.values.reshape(-1, 1)\n",
        "y_ = data_returns_T.values.reshape(-1, 1)\n"
      ],
      "metadata": {
        "id": "bdMllbNvv6IA"
      },
      "execution_count": 666,
      "outputs": []
    },
    {
      "cell_type": "code",
      "source": [
        "regression_model = LinearRegression()\n",
        "regression_model.fit(X_, y_)\n",
        "beta = regression_model.coef_[0][0]"
      ],
      "metadata": {
        "id": "gsr67K5gwJ5s"
      },
      "execution_count": 667,
      "outputs": []
    },
    {
      "cell_type": "code",
      "source": [
        "print(\"Estimated Beta Using ARIMA:\", beta)"
      ],
      "metadata": {
        "id": "DZPGkuYUwbgw",
        "outputId": "9ee26545-14a6-4916-fc0d-598a59041b97",
        "colab": {
          "base_uri": "https://localhost:8080/"
        }
      },
      "execution_count": 668,
      "outputs": [
        {
          "output_type": "stream",
          "name": "stdout",
          "text": [
            "Estimated Beta Using ARIMA: 1.4784644132170193\n"
          ]
        }
      ]
    }
  ]
}