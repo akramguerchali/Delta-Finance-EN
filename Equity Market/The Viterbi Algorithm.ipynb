{
 "cells": [
  {
   "cell_type": "code",
   "execution_count": 21,
   "id": "d643b9da",
   "metadata": {},
   "outputs": [
    {
     "name": "stdout",
     "output_type": "stream",
     "text": [
      "Requirement already satisfied: hmmlearn in c:\\users\\akram\\anaconda3\\lib\\site-packages (0.3.0)\n",
      "Requirement already satisfied: scikit-learn!=0.22.0,>=0.16 in c:\\users\\akram\\anaconda3\\lib\\site-packages (from hmmlearn) (1.0.2)\n",
      "Requirement already satisfied: scipy>=0.19 in c:\\users\\akram\\anaconda3\\lib\\site-packages (from hmmlearn) (1.9.1)\n",
      "Requirement already satisfied: numpy>=1.10 in c:\\users\\akram\\anaconda3\\lib\\site-packages (from hmmlearn) (1.21.5)\n",
      "Requirement already satisfied: threadpoolctl>=2.0.0 in c:\\users\\akram\\anaconda3\\lib\\site-packages (from scikit-learn!=0.22.0,>=0.16->hmmlearn) (2.2.0)\n",
      "Requirement already satisfied: joblib>=0.11 in c:\\users\\akram\\anaconda3\\lib\\site-packages (from scikit-learn!=0.22.0,>=0.16->hmmlearn) (1.1.0)\n",
      "Note: you may need to restart the kernel to use updated packages.\n"
     ]
    }
   ],
   "source": [
    "pip install hmmlearn\n"
   ]
  },
  {
   "cell_type": "code",
   "execution_count": 72,
   "id": "586ebccc",
   "metadata": {},
   "outputs": [],
   "source": [
    "import yfinance as yf\n",
    "import numpy as np\n",
    "from hmmlearn import hmm\n",
    "import matplotlib.pyplot as plt\n"
   ]
  },
  {
   "cell_type": "code",
   "execution_count": 73,
   "id": "7b780567",
   "metadata": {},
   "outputs": [
    {
     "name": "stdout",
     "output_type": "stream",
     "text": [
      "[*********************100%%**********************]  1 of 1 completed\n"
     ]
    }
   ],
   "source": [
    "# Fetch historical stock prices\n",
    "ticker = \"BLK\"\n",
    "start_date = \"2023-12-31\"\n",
    "end_date = \"2024-01-31\"\n",
    "\n",
    "data = yf.download(ticker, start=start_date, end=end_date)\n"
   ]
  },
  {
   "cell_type": "code",
   "execution_count": 74,
   "id": "6a2a55ab",
   "metadata": {},
   "outputs": [
    {
     "data": {
      "text/html": [
       "<div>\n",
       "<style scoped>\n",
       "    .dataframe tbody tr th:only-of-type {\n",
       "        vertical-align: middle;\n",
       "    }\n",
       "\n",
       "    .dataframe tbody tr th {\n",
       "        vertical-align: top;\n",
       "    }\n",
       "\n",
       "    .dataframe thead th {\n",
       "        text-align: right;\n",
       "    }\n",
       "</style>\n",
       "<table border=\"1\" class=\"dataframe\">\n",
       "  <thead>\n",
       "    <tr style=\"text-align: right;\">\n",
       "      <th></th>\n",
       "      <th>Open</th>\n",
       "      <th>High</th>\n",
       "      <th>Low</th>\n",
       "      <th>Close</th>\n",
       "      <th>Adj Close</th>\n",
       "      <th>Volume</th>\n",
       "    </tr>\n",
       "    <tr>\n",
       "      <th>Date</th>\n",
       "      <th></th>\n",
       "      <th></th>\n",
       "      <th></th>\n",
       "      <th></th>\n",
       "      <th></th>\n",
       "      <th></th>\n",
       "    </tr>\n",
       "  </thead>\n",
       "  <tbody>\n",
       "    <tr>\n",
       "      <th>2024-01-02</th>\n",
       "      <td>804.150024</td>\n",
       "      <td>808.140015</td>\n",
       "      <td>795.429993</td>\n",
       "      <td>800.299988</td>\n",
       "      <td>800.299988</td>\n",
       "      <td>660000</td>\n",
       "    </tr>\n",
       "    <tr>\n",
       "      <th>2024-01-03</th>\n",
       "      <td>792.409973</td>\n",
       "      <td>792.409973</td>\n",
       "      <td>782.330017</td>\n",
       "      <td>784.150024</td>\n",
       "      <td>784.150024</td>\n",
       "      <td>638700</td>\n",
       "    </tr>\n",
       "    <tr>\n",
       "      <th>2024-01-04</th>\n",
       "      <td>783.260010</td>\n",
       "      <td>792.489990</td>\n",
       "      <td>782.729980</td>\n",
       "      <td>785.950012</td>\n",
       "      <td>785.950012</td>\n",
       "      <td>580200</td>\n",
       "    </tr>\n",
       "    <tr>\n",
       "      <th>2024-01-05</th>\n",
       "      <td>782.809998</td>\n",
       "      <td>788.760010</td>\n",
       "      <td>781.460022</td>\n",
       "      <td>782.830017</td>\n",
       "      <td>782.830017</td>\n",
       "      <td>471000</td>\n",
       "    </tr>\n",
       "    <tr>\n",
       "      <th>2024-01-08</th>\n",
       "      <td>784.429993</td>\n",
       "      <td>798.010010</td>\n",
       "      <td>782.909973</td>\n",
       "      <td>797.190002</td>\n",
       "      <td>797.190002</td>\n",
       "      <td>513200</td>\n",
       "    </tr>\n",
       "    <tr>\n",
       "      <th>2024-01-09</th>\n",
       "      <td>792.650024</td>\n",
       "      <td>795.140015</td>\n",
       "      <td>787.140015</td>\n",
       "      <td>794.520020</td>\n",
       "      <td>794.520020</td>\n",
       "      <td>454700</td>\n",
       "    </tr>\n",
       "    <tr>\n",
       "      <th>2024-01-10</th>\n",
       "      <td>794.890015</td>\n",
       "      <td>799.049988</td>\n",
       "      <td>787.869995</td>\n",
       "      <td>792.359985</td>\n",
       "      <td>792.359985</td>\n",
       "      <td>510800</td>\n",
       "    </tr>\n",
       "    <tr>\n",
       "      <th>2024-01-11</th>\n",
       "      <td>796.960022</td>\n",
       "      <td>799.979980</td>\n",
       "      <td>787.080017</td>\n",
       "      <td>792.609985</td>\n",
       "      <td>792.609985</td>\n",
       "      <td>735800</td>\n",
       "    </tr>\n",
       "    <tr>\n",
       "      <th>2024-01-12</th>\n",
       "      <td>785.000000</td>\n",
       "      <td>802.340027</td>\n",
       "      <td>782.760010</td>\n",
       "      <td>799.599976</td>\n",
       "      <td>799.599976</td>\n",
       "      <td>880500</td>\n",
       "    </tr>\n",
       "    <tr>\n",
       "      <th>2024-01-16</th>\n",
       "      <td>803.789978</td>\n",
       "      <td>808.989990</td>\n",
       "      <td>788.659973</td>\n",
       "      <td>791.380005</td>\n",
       "      <td>791.380005</td>\n",
       "      <td>895200</td>\n",
       "    </tr>\n",
       "    <tr>\n",
       "      <th>2024-01-17</th>\n",
       "      <td>774.369995</td>\n",
       "      <td>787.929993</td>\n",
       "      <td>768.349976</td>\n",
       "      <td>787.429993</td>\n",
       "      <td>787.429993</td>\n",
       "      <td>617100</td>\n",
       "    </tr>\n",
       "    <tr>\n",
       "      <th>2024-01-18</th>\n",
       "      <td>794.559998</td>\n",
       "      <td>795.989990</td>\n",
       "      <td>785.059998</td>\n",
       "      <td>795.260010</td>\n",
       "      <td>795.260010</td>\n",
       "      <td>506700</td>\n",
       "    </tr>\n",
       "    <tr>\n",
       "      <th>2024-01-19</th>\n",
       "      <td>797.750000</td>\n",
       "      <td>808.830017</td>\n",
       "      <td>794.049988</td>\n",
       "      <td>805.440002</td>\n",
       "      <td>805.440002</td>\n",
       "      <td>681500</td>\n",
       "    </tr>\n",
       "    <tr>\n",
       "      <th>2024-01-22</th>\n",
       "      <td>806.409973</td>\n",
       "      <td>807.299988</td>\n",
       "      <td>793.510010</td>\n",
       "      <td>794.020020</td>\n",
       "      <td>794.020020</td>\n",
       "      <td>760500</td>\n",
       "    </tr>\n",
       "    <tr>\n",
       "      <th>2024-01-23</th>\n",
       "      <td>793.270020</td>\n",
       "      <td>795.590027</td>\n",
       "      <td>788.479980</td>\n",
       "      <td>792.559998</td>\n",
       "      <td>792.559998</td>\n",
       "      <td>718300</td>\n",
       "    </tr>\n",
       "    <tr>\n",
       "      <th>2024-01-24</th>\n",
       "      <td>797.859985</td>\n",
       "      <td>797.859985</td>\n",
       "      <td>785.190002</td>\n",
       "      <td>785.750000</td>\n",
       "      <td>785.750000</td>\n",
       "      <td>659700</td>\n",
       "    </tr>\n",
       "    <tr>\n",
       "      <th>2024-01-25</th>\n",
       "      <td>790.919983</td>\n",
       "      <td>794.900024</td>\n",
       "      <td>787.489990</td>\n",
       "      <td>790.460022</td>\n",
       "      <td>790.460022</td>\n",
       "      <td>714374</td>\n",
       "    </tr>\n",
       "  </tbody>\n",
       "</table>\n",
       "</div>"
      ],
      "text/plain": [
       "                  Open        High         Low       Close   Adj Close  Volume\n",
       "Date                                                                          \n",
       "2024-01-02  804.150024  808.140015  795.429993  800.299988  800.299988  660000\n",
       "2024-01-03  792.409973  792.409973  782.330017  784.150024  784.150024  638700\n",
       "2024-01-04  783.260010  792.489990  782.729980  785.950012  785.950012  580200\n",
       "2024-01-05  782.809998  788.760010  781.460022  782.830017  782.830017  471000\n",
       "2024-01-08  784.429993  798.010010  782.909973  797.190002  797.190002  513200\n",
       "2024-01-09  792.650024  795.140015  787.140015  794.520020  794.520020  454700\n",
       "2024-01-10  794.890015  799.049988  787.869995  792.359985  792.359985  510800\n",
       "2024-01-11  796.960022  799.979980  787.080017  792.609985  792.609985  735800\n",
       "2024-01-12  785.000000  802.340027  782.760010  799.599976  799.599976  880500\n",
       "2024-01-16  803.789978  808.989990  788.659973  791.380005  791.380005  895200\n",
       "2024-01-17  774.369995  787.929993  768.349976  787.429993  787.429993  617100\n",
       "2024-01-18  794.559998  795.989990  785.059998  795.260010  795.260010  506700\n",
       "2024-01-19  797.750000  808.830017  794.049988  805.440002  805.440002  681500\n",
       "2024-01-22  806.409973  807.299988  793.510010  794.020020  794.020020  760500\n",
       "2024-01-23  793.270020  795.590027  788.479980  792.559998  792.559998  718300\n",
       "2024-01-24  797.859985  797.859985  785.190002  785.750000  785.750000  659700\n",
       "2024-01-25  790.919983  794.900024  787.489990  790.460022  790.460022  714374"
      ]
     },
     "execution_count": 74,
     "metadata": {},
     "output_type": "execute_result"
    }
   ],
   "source": [
    "data"
   ]
  },
  {
   "cell_type": "code",
   "execution_count": 75,
   "id": "fbdbe87b",
   "metadata": {},
   "outputs": [],
   "source": [
    "# Define observations (e.g., daily returns)\n",
    "observations = np.diff(np.log(data['Close'].values))\n",
    "\n",
    "# Convert to 2D array as required by hmmlearn\n",
    "observations = observations.reshape(-1, 1)"
   ]
  },
  {
   "cell_type": "code",
   "execution_count": 76,
   "id": "7a1d4093",
   "metadata": {},
   "outputs": [],
   "source": [
    "# Define the Hidden Markov Model\n",
    "n_components = 3  # Number of hidden states (you can adjust this based on your problem)\n",
    "model = hmm.GaussianHMM(n_components=n_components, covariance_type=\"full\")\n"
   ]
  },
  {
   "cell_type": "code",
   "execution_count": 77,
   "id": "55ce5cb0",
   "metadata": {},
   "outputs": [
    {
     "name": "stderr",
     "output_type": "stream",
     "text": [
      "Model is not converging.  Current: 35.776589535871835 is not greater than 38.37532254130381. Delta is -2.598733005431974\n"
     ]
    }
   ],
   "source": [
    "# Fit the model to the data\n",
    "model.fit(observations)\n",
    "\n",
    "# Predict the most likely sequence of hidden states\n",
    "hidden_states = model.predict(observations)"
   ]
  },
  {
   "cell_type": "code",
   "execution_count": 78,
   "id": "65e49460",
   "metadata": {},
   "outputs": [
    {
     "data": {
      "text/plain": [
       "array([0, 1, 1, 1, 1, 1, 1, 1, 1, 1, 1, 1, 1, 1, 1, 1], dtype=int64)"
      ]
     },
     "execution_count": 78,
     "metadata": {},
     "output_type": "execute_result"
    }
   ],
   "source": [
    "hidden_states"
   ]
  },
  {
   "cell_type": "code",
   "execution_count": 79,
   "id": "8c7af395",
   "metadata": {},
   "outputs": [
    {
     "data": {
      "image/png": "[encoded data removed]",
      "text/plain": [
       "<Figure size 1200x600 with 1 Axes>"
      ]
     },
     "metadata": {},
     "output_type": "display_data"
    }
   ],
   "source": [
    "# Visualize the results\n",
    "plt.figure(figsize=(12, 6))\n",
    "\n",
    "plt.plot(data.index[1:], hidden_states, label='Inferred States', linestyle='dashed', marker='o')\n",
    "plt.title('Inferred States using Hidden Markov Model')\n",
    "plt.xlabel('Date')\n",
    "plt.ylabel('State')\n",
    "plt.legend()\n",
    "plt.show()"
   ]
  },
  {
   "cell_type": "code",
   "execution_count": 80,
   "id": "858c3ee3",
   "metadata": {},
   "outputs": [],
   "source": [
    "import statsmodels.api as sm"
   ]
  },
  {
   "cell_type": "code",
   "execution_count": 81,
   "id": "6a3a5eb6",
   "metadata": {},
   "outputs": [
    {
     "name": "stderr",
     "output_type": "stream",
     "text": [
      "C:\\Users\\akram\\anaconda3\\lib\\site-packages\\statsmodels\\tsa\\base\\tsa_model.py:471: ValueWarning: A date index has been provided, but it has no associated frequency information and so will be ignored when e.g. forecasting.\n",
      "  self._init_dates(dates, freq)\n",
      "C:\\Users\\akram\\anaconda3\\lib\\site-packages\\statsmodels\\tsa\\base\\tsa_model.py:471: ValueWarning: A date index has been provided, but it has no associated frequency information and so will be ignored when e.g. forecasting.\n",
      "  self._init_dates(dates, freq)\n"
     ]
    }
   ],
   "source": [
    "# Create state-space model\n",
    "model = sm.tsa.statespace.SARIMAX(data['Close'], order=(1, 0, 1), seasonal_order=(0, 0, 0, 0),\n",
    "                                  measurement_error=True)"
   ]
  },
  {
   "cell_type": "code",
   "execution_count": 82,
   "id": "53b2a972",
   "metadata": {},
   "outputs": [
    {
     "name": "stderr",
     "output_type": "stream",
     "text": [
      "C:\\Users\\akram\\anaconda3\\lib\\site-packages\\statsmodels\\tsa\\statespace\\sarimax.py:966: UserWarning: Non-stationary starting autoregressive parameters found. Using zeros as starting parameters.\n",
      "  warn('Non-stationary starting autoregressive parameters'\n",
      "C:\\Users\\akram\\anaconda3\\lib\\site-packages\\statsmodels\\base\\model.py:604: ConvergenceWarning: Maximum Likelihood optimization failed to converge. Check mle_retvals\n",
      "  warnings.warn(\"Maximum Likelihood optimization failed to \"\n"
     ]
    }
   ],
   "source": [
    "results = model.fit(disp=False)"
   ]
  },
  {
   "cell_type": "code",
   "execution_count": 83,
   "id": "a53ccfd1",
   "metadata": {},
   "outputs": [
    {
     "name": "stdout",
     "output_type": "stream",
     "text": [
      "                               SARIMAX Results                                \n",
      "==============================================================================\n",
      "Dep. Variable:                  Close   No. Observations:                   17\n",
      "Model:               SARIMAX(1, 0, 1)   Log Likelihood                 -61.212\n",
      "Date:                Thu, 25 Jan 2024   AIC                            130.424\n",
      "Time:                        22:52:05   BIC                            133.757\n",
      "Sample:                             0   HQIC                           130.755\n",
      "                                 - 17                                         \n",
      "Covariance Type:                  opg                                         \n",
      "=========================================================================================\n",
      "                            coef    std err          z      P>|z|      [0.025      0.975]\n",
      "-----------------------------------------------------------------------------------------\n",
      "ar.L1                     1.0000   2.89e-06   3.46e+05      0.000       1.000       1.000\n",
      "ma.L1                     0.9993      0.023     43.250      0.000       0.954       1.045\n",
      "var.measurement_error    37.9374     19.287      1.967      0.049       0.136      75.739\n",
      "sigma2                    0.0326      0.705      0.046      0.963      -1.349       1.415\n",
      "===================================================================================\n",
      "Ljung-Box (L1) (Q):                   0.23   Jarque-Bera (JB):                 0.23\n",
      "Prob(Q):                              0.63   Prob(JB):                         0.89\n",
      "Heteroskedasticity (H):               0.73   Skew:                             0.06\n",
      "Prob(H) (two-sided):                  0.71   Kurtosis:                         2.44\n",
      "===================================================================================\n",
      "\n",
      "Warnings:\n",
      "[1] Covariance matrix calculated using the outer product of gradients (complex-step).\n",
      "[2] Covariance matrix is singular or near-singular, with condition number 2.27e+19. Standard errors may be unstable.\n"
     ]
    }
   ],
   "source": [
    "print(results.summary())"
   ]
  },
  {
   "cell_type": "code",
   "execution_count": 84,
   "id": "4631f376",
   "metadata": {},
   "outputs": [
    {
     "data": {
      "image/png": "[encoded data removed]",
      "text/plain": [
       "<Figure size 640x480 with 1 Axes>"
      ]
     },
     "metadata": {},
     "output_type": "display_data"
    }
   ],
   "source": [
    "plt.plot(data.index, data['Close'], label='Observed')\n",
    "plt.plot(data.index, results.fittedvalues, label='Fitted', color='red')\n",
    "plt.legend()\n",
    "plt.show()"
   ]
  },
  {
   "cell_type": "code",
   "execution_count": null,
   "id": "00006979",
   "metadata": {},
   "outputs": [],
   "source": []
  }
 ],
 "metadata": {
  "kernelspec": {
   "display_name": "Python 3 (ipykernel)",
   "language": "python",
   "name": "python3"
  },
  "language_info": {
   "codemirror_mode": {
    "name": "ipython",
    "version": 3
   },
   "file_extension": ".py",
   "mimetype": "text/x-python",
   "name": "python",
   "nbconvert_exporter": "python",
   "pygments_lexer": "ipython3",
   "version": "3.9.13"
  }
 },
 "nbformat": 4,
 "nbformat_minor": 5
}
