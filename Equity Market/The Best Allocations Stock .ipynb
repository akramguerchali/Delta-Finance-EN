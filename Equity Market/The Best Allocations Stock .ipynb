{
 "cells": [
  {
   "cell_type": "code",
   "execution_count": 15,
   "id": "d1518185",
   "metadata": {},
   "outputs": [],
   "source": [
    "import yfinance as yf \n",
    "import pandas as pd \n",
    "import numpy as np"
   ]
  },
  {
   "cell_type": "code",
   "execution_count": 16,
   "id": "ec4bed42",
   "metadata": {},
   "outputs": [
    {
     "name": "stdout",
     "output_type": "stream",
     "text": [
      "Allocation for AAPL: $19.12\n",
      "Allocation for MSFT: $15.96\n",
      "Allocation for TSLA: $28.81\n",
      "\n",
      "Total Allocated Amount: 10000.0\n"
     ]
    }
   ],
   "source": [
    "# Define stock tickers\n",
    "stock_tickers = ['AAPL', 'MSFT', 'TSLA']\n",
    "\n",
    "# Download historical stock price data from Yahoo Finance\n",
    "stock_data = yf.download(stock_tickers, start='2023-01-01', end='2024-03-31', progress=False)\n",
    "\n",
    "# Extract adjusted closing prices\n",
    "adj_close_prices = stock_data['Adj Close']\n",
    "\n",
    "# Calculate daily returns\n",
    "daily_returns = adj_close_prices.pct_change().dropna()\n",
    "\n",
    "# Apply Min-Max Scaling\n",
    "def min_max_scaling(data):\n",
    "    return (data - np.min(data)) / (np.max(data) - np.min(data))\n",
    "\n",
    "scaled_returns = daily_returns.apply(min_max_scaling)\n",
    "\n",
    "# Define initial investment amount\n",
    "initial_investment = 10000  # $10,000\n",
    "\n",
    "# Calculate allocation based on scaled returns\n",
    "allocation = (scaled_returns.sum(axis=1) / scaled_returns.sum(axis=1).sum()) * initial_investment\n",
    "\n",
    "# Print allocation\n",
    "for stock, allocated_amount in zip(stock_tickers, allocation.tail()):\n",
    "    print(f\"Allocation for {stock}: ${allocated_amount:.2f}\")\n",
    "\n",
    "# Total allocated amount\n",
    "total_allocated_amount = allocation.sum()\n",
    "print(\"\\nTotal Allocated Amount:\", total_allocated_amount)"
   ]
  },
  {
   "cell_type": "code",
   "execution_count": 17,
   "id": "b98f7cc8",
   "metadata": {},
   "outputs": [
    {
     "data": {
      "text/plain": [
       "Date\n",
       "2024-03-04    191233.381325\n",
       "2024-03-05    159570.761707\n",
       "2024-03-06    288128.852398\n",
       "2024-03-07    374526.919821\n",
       "2024-03-08    321012.354373\n",
       "dtype: float64"
      ]
     },
     "execution_count": 17,
     "metadata": {},
     "output_type": "execute_result"
    }
   ],
   "source": [
    " total_allocated_amount * allocation.tail()"
   ]
  },
  {
   "cell_type": "code",
   "execution_count": null,
   "id": "de3e1d2b",
   "metadata": {},
   "outputs": [],
   "source": []
  }
 ],
 "metadata": {
  "kernelspec": {
   "display_name": "Python 3 (ipykernel)",
   "language": "python",
   "name": "python3"
  },
  "language_info": {
   "codemirror_mode": {
    "name": "ipython",
    "version": 3
   },
   "file_extension": ".py",
   "mimetype": "text/x-python",
   "name": "python",
   "nbconvert_exporter": "python",
   "pygments_lexer": "ipython3",
   "version": "3.9.13"
  }
 },
 "nbformat": 4,
 "nbformat_minor": 5
}
