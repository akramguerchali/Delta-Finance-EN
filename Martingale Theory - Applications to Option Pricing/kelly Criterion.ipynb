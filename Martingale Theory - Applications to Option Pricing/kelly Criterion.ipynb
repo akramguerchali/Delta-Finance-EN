{
 "cells": [
  {
   "cell_type": "code",
   "execution_count": 38,
   "id": "d33b3aa0",
   "metadata": {},
   "outputs": [],
   "source": [
    "import yfinance as yf\n",
    "import QuantLib as ql\n",
    "import numpy as np\n",
    "import pandas as pd"
   ]
  },
  {
   "cell_type": "code",
   "execution_count": 39,
   "id": "26ba0a79",
   "metadata": {},
   "outputs": [],
   "source": [
    "def calculate_probability(data):\n",
    "    # Example: Use historical data to estimate the probability of a positive return\n",
    "    returns = data['Close'].pct_change().dropna()\n",
    "    positive_returns = returns[returns > 0]\n",
    "    \n",
    "    probability = len(positive_returns) / len(returns)\n",
    "    return probability\n",
    "\n",
    "def kelly_criterion(odds, probability):\n",
    "    b = odds - 1  # Convert odds to decimal format\n",
    "    p = probability\n",
    "    q = 1 - p\n",
    "\n",
    "    f_star = (b * p - q) / b\n",
    "    return f_star"
   ]
  },
  {
   "cell_type": "code",
   "execution_count": 40,
   "id": "7d079e7c",
   "metadata": {},
   "outputs": [
    {
     "name": "stdout",
     "output_type": "stream",
     "text": [
      "[*********************100%%**********************]  1 of 1 completed\n",
      "The fraction to invest according to Kelly Criterion: 9.38%\n"
     ]
    }
   ],
   "source": [
    "# Fetch historical stock prices using yfinance\n",
    "ticker = \"AAPL\"\n",
    "start_date = \"2023-01-01\"\n",
    "end_date = \"2024-01-31\"\n",
    "stock_data = yf.download(ticker, start=start_date, end=end_date)\n",
    "\n",
    "# Calculate the probability of a positive return\n",
    "estimated_probability = calculate_probability(stock_data)\n",
    "\n",
    "# Example: Assume odds of 2.0 (even money bet)\n",
    "odds = 2.0\n",
    "\n",
    "# Apply the Kelly Criterion\n",
    "fraction_to_invest = kelly_criterion(odds, estimated_probability)\n",
    "\n",
    "print(f\"The fraction to invest according to Kelly Criterion: {fraction_to_invest:.2%}\")"
   ]
  },
  {
   "cell_type": "code",
   "execution_count": 37,
   "id": "6d4b9b60",
   "metadata": {},
   "outputs": [
    {
     "data": {
      "text/plain": [
       "0.546875"
      ]
     },
     "execution_count": 37,
     "metadata": {},
     "output_type": "execute_result"
    }
   ],
   "source": [
    "estimated_probability"
   ]
  },
  {
   "cell_type": "code",
   "execution_count": null,
   "id": "124aa366",
   "metadata": {},
   "outputs": [],
   "source": []
  }
 ],
 "metadata": {
  "kernelspec": {
   "display_name": "Python 3 (ipykernel)",
   "language": "python",
   "name": "python3"
  },
  "language_info": {
   "codemirror_mode": {
    "name": "ipython",
    "version": 3
   },
   "file_extension": ".py",
   "mimetype": "text/x-python",
   "name": "python",
   "nbconvert_exporter": "python",
   "pygments_lexer": "ipython3",
   "version": "3.9.13"
  }
 },
 "nbformat": 4,
 "nbformat_minor": 5
}
