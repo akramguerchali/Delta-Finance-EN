{
 "cells": [
  {
   "cell_type": "code",
   "execution_count": 1,
   "id": "3e97f884",
   "metadata": {},
   "outputs": [],
   "source": [
    "import pandas as pd \n",
    "import numpy as np \n",
    "import matplotlib.pyplot as plt \n",
    "import yfinance as yf "
   ]
  },
  {
   "cell_type": "code",
   "execution_count": 2,
   "id": "e8c42379",
   "metadata": {},
   "outputs": [
    {
     "name": "stdout",
     "output_type": "stream",
     "text": [
      "[*********************100%%**********************]  1 of 1 completed\n"
     ]
    }
   ],
   "source": [
    "bond = '^IRX'\n",
    "start= '2023-01-01'\n",
    "end= '2024-01-31'\n",
    "dt = yf.download(bond, start, end)"
   ]
  },
  {
   "cell_type": "code",
   "execution_count": 3,
   "id": "bcce6308",
   "metadata": {},
   "outputs": [
    {
     "data": {
      "text/html": [
       "<div>\n",
       "<style scoped>\n",
       "    .dataframe tbody tr th:only-of-type {\n",
       "        vertical-align: middle;\n",
       "    }\n",
       "\n",
       "    .dataframe tbody tr th {\n",
       "        vertical-align: top;\n",
       "    }\n",
       "\n",
       "    .dataframe thead th {\n",
       "        text-align: right;\n",
       "    }\n",
       "</style>\n",
       "<table border=\"1\" class=\"dataframe\">\n",
       "  <thead>\n",
       "    <tr style=\"text-align: right;\">\n",
       "      <th></th>\n",
       "      <th>Open</th>\n",
       "      <th>High</th>\n",
       "      <th>Low</th>\n",
       "      <th>Close</th>\n",
       "      <th>Adj Close</th>\n",
       "      <th>Volume</th>\n",
       "    </tr>\n",
       "    <tr>\n",
       "      <th>Date</th>\n",
       "      <th></th>\n",
       "      <th></th>\n",
       "      <th></th>\n",
       "      <th></th>\n",
       "      <th></th>\n",
       "      <th></th>\n",
       "    </tr>\n",
       "  </thead>\n",
       "  <tbody>\n",
       "    <tr>\n",
       "      <th>2023-01-03</th>\n",
       "      <td>4.260</td>\n",
       "      <td>4.260</td>\n",
       "      <td>4.225</td>\n",
       "      <td>4.255</td>\n",
       "      <td>4.255</td>\n",
       "      <td>0</td>\n",
       "    </tr>\n",
       "    <tr>\n",
       "      <th>2023-01-04</th>\n",
       "      <td>4.390</td>\n",
       "      <td>4.400</td>\n",
       "      <td>4.378</td>\n",
       "      <td>4.400</td>\n",
       "      <td>4.400</td>\n",
       "      <td>0</td>\n",
       "    </tr>\n",
       "    <tr>\n",
       "      <th>2023-01-05</th>\n",
       "      <td>4.408</td>\n",
       "      <td>4.500</td>\n",
       "      <td>4.400</td>\n",
       "      <td>4.498</td>\n",
       "      <td>4.498</td>\n",
       "      <td>0</td>\n",
       "    </tr>\n",
       "    <tr>\n",
       "      <th>2023-01-06</th>\n",
       "      <td>4.510</td>\n",
       "      <td>4.520</td>\n",
       "      <td>4.455</td>\n",
       "      <td>4.493</td>\n",
       "      <td>4.493</td>\n",
       "      <td>0</td>\n",
       "    </tr>\n",
       "    <tr>\n",
       "      <th>2023-01-09</th>\n",
       "      <td>4.490</td>\n",
       "      <td>4.503</td>\n",
       "      <td>4.458</td>\n",
       "      <td>4.483</td>\n",
       "      <td>4.483</td>\n",
       "      <td>0</td>\n",
       "    </tr>\n",
       "    <tr>\n",
       "      <th>...</th>\n",
       "      <td>...</td>\n",
       "      <td>...</td>\n",
       "      <td>...</td>\n",
       "      <td>...</td>\n",
       "      <td>...</td>\n",
       "      <td>...</td>\n",
       "    </tr>\n",
       "    <tr>\n",
       "      <th>2024-01-18</th>\n",
       "      <td>5.205</td>\n",
       "      <td>5.208</td>\n",
       "      <td>5.195</td>\n",
       "      <td>5.200</td>\n",
       "      <td>5.200</td>\n",
       "      <td>0</td>\n",
       "    </tr>\n",
       "    <tr>\n",
       "      <th>2024-01-19</th>\n",
       "      <td>5.195</td>\n",
       "      <td>5.200</td>\n",
       "      <td>5.190</td>\n",
       "      <td>5.198</td>\n",
       "      <td>5.198</td>\n",
       "      <td>0</td>\n",
       "    </tr>\n",
       "    <tr>\n",
       "      <th>2024-01-22</th>\n",
       "      <td>5.198</td>\n",
       "      <td>5.208</td>\n",
       "      <td>5.195</td>\n",
       "      <td>5.200</td>\n",
       "      <td>5.200</td>\n",
       "      <td>0</td>\n",
       "    </tr>\n",
       "    <tr>\n",
       "      <th>2024-01-23</th>\n",
       "      <td>5.213</td>\n",
       "      <td>5.213</td>\n",
       "      <td>5.210</td>\n",
       "      <td>5.210</td>\n",
       "      <td>5.210</td>\n",
       "      <td>0</td>\n",
       "    </tr>\n",
       "    <tr>\n",
       "      <th>2024-01-24</th>\n",
       "      <td>5.210</td>\n",
       "      <td>5.210</td>\n",
       "      <td>5.203</td>\n",
       "      <td>5.210</td>\n",
       "      <td>5.210</td>\n",
       "      <td>0</td>\n",
       "    </tr>\n",
       "  </tbody>\n",
       "</table>\n",
       "<p>266 rows × 6 columns</p>\n",
       "</div>"
      ],
      "text/plain": [
       "             Open   High    Low  Close  Adj Close  Volume\n",
       "Date                                                     \n",
       "2023-01-03  4.260  4.260  4.225  4.255      4.255       0\n",
       "2023-01-04  4.390  4.400  4.378  4.400      4.400       0\n",
       "2023-01-05  4.408  4.500  4.400  4.498      4.498       0\n",
       "2023-01-06  4.510  4.520  4.455  4.493      4.493       0\n",
       "2023-01-09  4.490  4.503  4.458  4.483      4.483       0\n",
       "...           ...    ...    ...    ...        ...     ...\n",
       "2024-01-18  5.205  5.208  5.195  5.200      5.200       0\n",
       "2024-01-19  5.195  5.200  5.190  5.198      5.198       0\n",
       "2024-01-22  5.198  5.208  5.195  5.200      5.200       0\n",
       "2024-01-23  5.213  5.213  5.210  5.210      5.210       0\n",
       "2024-01-24  5.210  5.210  5.203  5.210      5.210       0\n",
       "\n",
       "[266 rows x 6 columns]"
      ]
     },
     "execution_count": 3,
     "metadata": {},
     "output_type": "execute_result"
    }
   ],
   "source": [
    "dt"
   ]
  },
  {
   "cell_type": "code",
   "execution_count": 5,
   "id": "ba4a7b67",
   "metadata": {},
   "outputs": [
    {
     "name": "stdout",
     "output_type": "stream",
     "text": [
      "[*********************100%%**********************]  1 of 1 completed\n"
     ]
    }
   ],
   "source": [
    "Stock = 'AAPL'\n",
    "start_ = '2023-01-01'\n",
    "end_ = '2024-01-31'\n",
    "data = yf.download(Stock, start_, end_)\n"
   ]
  },
  {
   "cell_type": "code",
   "execution_count": 6,
   "id": "9d317f34",
   "metadata": {},
   "outputs": [
    {
     "data": {
      "text/html": [
       "<div>\n",
       "<style scoped>\n",
       "    .dataframe tbody tr th:only-of-type {\n",
       "        vertical-align: middle;\n",
       "    }\n",
       "\n",
       "    .dataframe tbody tr th {\n",
       "        vertical-align: top;\n",
       "    }\n",
       "\n",
       "    .dataframe thead th {\n",
       "        text-align: right;\n",
       "    }\n",
       "</style>\n",
       "<table border=\"1\" class=\"dataframe\">\n",
       "  <thead>\n",
       "    <tr style=\"text-align: right;\">\n",
       "      <th></th>\n",
       "      <th>Open</th>\n",
       "      <th>High</th>\n",
       "      <th>Low</th>\n",
       "      <th>Close</th>\n",
       "      <th>Adj Close</th>\n",
       "      <th>Volume</th>\n",
       "    </tr>\n",
       "    <tr>\n",
       "      <th>Date</th>\n",
       "      <th></th>\n",
       "      <th></th>\n",
       "      <th></th>\n",
       "      <th></th>\n",
       "      <th></th>\n",
       "      <th></th>\n",
       "    </tr>\n",
       "  </thead>\n",
       "  <tbody>\n",
       "    <tr>\n",
       "      <th>2023-01-03</th>\n",
       "      <td>130.279999</td>\n",
       "      <td>130.899994</td>\n",
       "      <td>124.169998</td>\n",
       "      <td>125.070000</td>\n",
       "      <td>124.374802</td>\n",
       "      <td>112117500</td>\n",
       "    </tr>\n",
       "    <tr>\n",
       "      <th>2023-01-04</th>\n",
       "      <td>126.889999</td>\n",
       "      <td>128.660004</td>\n",
       "      <td>125.080002</td>\n",
       "      <td>126.360001</td>\n",
       "      <td>125.657639</td>\n",
       "      <td>89113600</td>\n",
       "    </tr>\n",
       "    <tr>\n",
       "      <th>2023-01-05</th>\n",
       "      <td>127.129997</td>\n",
       "      <td>127.769997</td>\n",
       "      <td>124.760002</td>\n",
       "      <td>125.019997</td>\n",
       "      <td>124.325081</td>\n",
       "      <td>80962700</td>\n",
       "    </tr>\n",
       "    <tr>\n",
       "      <th>2023-01-06</th>\n",
       "      <td>126.010002</td>\n",
       "      <td>130.289993</td>\n",
       "      <td>124.889999</td>\n",
       "      <td>129.619995</td>\n",
       "      <td>128.899506</td>\n",
       "      <td>87754700</td>\n",
       "    </tr>\n",
       "    <tr>\n",
       "      <th>2023-01-09</th>\n",
       "      <td>130.470001</td>\n",
       "      <td>133.410004</td>\n",
       "      <td>129.889999</td>\n",
       "      <td>130.149994</td>\n",
       "      <td>129.426559</td>\n",
       "      <td>70790800</td>\n",
       "    </tr>\n",
       "    <tr>\n",
       "      <th>...</th>\n",
       "      <td>...</td>\n",
       "      <td>...</td>\n",
       "      <td>...</td>\n",
       "      <td>...</td>\n",
       "      <td>...</td>\n",
       "      <td>...</td>\n",
       "    </tr>\n",
       "    <tr>\n",
       "      <th>2024-01-18</th>\n",
       "      <td>186.089996</td>\n",
       "      <td>189.139999</td>\n",
       "      <td>185.830002</td>\n",
       "      <td>188.630005</td>\n",
       "      <td>188.630005</td>\n",
       "      <td>78005800</td>\n",
       "    </tr>\n",
       "    <tr>\n",
       "      <th>2024-01-19</th>\n",
       "      <td>189.330002</td>\n",
       "      <td>191.949997</td>\n",
       "      <td>188.820007</td>\n",
       "      <td>191.559998</td>\n",
       "      <td>191.559998</td>\n",
       "      <td>68741000</td>\n",
       "    </tr>\n",
       "    <tr>\n",
       "      <th>2024-01-22</th>\n",
       "      <td>192.300003</td>\n",
       "      <td>195.330002</td>\n",
       "      <td>192.259995</td>\n",
       "      <td>193.889999</td>\n",
       "      <td>193.889999</td>\n",
       "      <td>60133900</td>\n",
       "    </tr>\n",
       "    <tr>\n",
       "      <th>2024-01-23</th>\n",
       "      <td>195.020004</td>\n",
       "      <td>195.750000</td>\n",
       "      <td>193.830002</td>\n",
       "      <td>195.179993</td>\n",
       "      <td>195.179993</td>\n",
       "      <td>42300900</td>\n",
       "    </tr>\n",
       "    <tr>\n",
       "      <th>2024-01-24</th>\n",
       "      <td>195.419998</td>\n",
       "      <td>196.380005</td>\n",
       "      <td>194.664993</td>\n",
       "      <td>195.744995</td>\n",
       "      <td>195.744995</td>\n",
       "      <td>11994897</td>\n",
       "    </tr>\n",
       "  </tbody>\n",
       "</table>\n",
       "<p>266 rows × 6 columns</p>\n",
       "</div>"
      ],
      "text/plain": [
       "                  Open        High         Low       Close   Adj Close  \\\n",
       "Date                                                                     \n",
       "2023-01-03  130.279999  130.899994  124.169998  125.070000  124.374802   \n",
       "2023-01-04  126.889999  128.660004  125.080002  126.360001  125.657639   \n",
       "2023-01-05  127.129997  127.769997  124.760002  125.019997  124.325081   \n",
       "2023-01-06  126.010002  130.289993  124.889999  129.619995  128.899506   \n",
       "2023-01-09  130.470001  133.410004  129.889999  130.149994  129.426559   \n",
       "...                ...         ...         ...         ...         ...   \n",
       "2024-01-18  186.089996  189.139999  185.830002  188.630005  188.630005   \n",
       "2024-01-19  189.330002  191.949997  188.820007  191.559998  191.559998   \n",
       "2024-01-22  192.300003  195.330002  192.259995  193.889999  193.889999   \n",
       "2024-01-23  195.020004  195.750000  193.830002  195.179993  195.179993   \n",
       "2024-01-24  195.419998  196.380005  194.664993  195.744995  195.744995   \n",
       "\n",
       "               Volume  \n",
       "Date                   \n",
       "2023-01-03  112117500  \n",
       "2023-01-04   89113600  \n",
       "2023-01-05   80962700  \n",
       "2023-01-06   87754700  \n",
       "2023-01-09   70790800  \n",
       "...               ...  \n",
       "2024-01-18   78005800  \n",
       "2024-01-19   68741000  \n",
       "2024-01-22   60133900  \n",
       "2024-01-23   42300900  \n",
       "2024-01-24   11994897  \n",
       "\n",
       "[266 rows x 6 columns]"
      ]
     },
     "execution_count": 6,
     "metadata": {},
     "output_type": "execute_result"
    }
   ],
   "source": [
    "data"
   ]
  },
  {
   "cell_type": "markdown",
   "id": "c8d6b1a9",
   "metadata": {},
   "source": [
    "# S0 = Stock B0 = Bond"
   ]
  },
  {
   "cell_type": "code",
   "execution_count": 7,
   "id": "9e0c2daa",
   "metadata": {},
   "outputs": [],
   "source": [
    "S0 = 195.74\n",
    "B0 = 5.210 "
   ]
  },
  {
   "cell_type": "code",
   "execution_count": 8,
   "id": "11581e19",
   "metadata": {},
   "outputs": [],
   "source": [
    "S1 = np.array((20, 5)) \n",
    "B1 = np.array((11, 11))"
   ]
  },
  {
   "cell_type": "code",
   "execution_count": 9,
   "id": "84480bdf",
   "metadata": {},
   "outputs": [],
   "source": [
    "M0 = np.array((S0, B0))"
   ]
  },
  {
   "cell_type": "code",
   "execution_count": 10,
   "id": "6b7cc281",
   "metadata": {},
   "outputs": [
    {
     "data": {
      "text/plain": [
       "array([195.74,   5.21])"
      ]
     },
     "execution_count": 10,
     "metadata": {},
     "output_type": "execute_result"
    }
   ],
   "source": [
    "M0"
   ]
  },
  {
   "cell_type": "code",
   "execution_count": 11,
   "id": "3a344556",
   "metadata": {},
   "outputs": [],
   "source": [
    "M1 = np.array((S1, B1)).T"
   ]
  },
  {
   "cell_type": "code",
   "execution_count": 12,
   "id": "d658e3fe",
   "metadata": {},
   "outputs": [
    {
     "data": {
      "text/plain": [
       "array([[20, 11],\n",
       "       [ 5, 11]])"
      ]
     },
     "execution_count": 12,
     "metadata": {},
     "output_type": "execute_result"
    }
   ],
   "source": [
    "M1"
   ]
  },
  {
   "cell_type": "code",
   "execution_count": 13,
   "id": "c2770777",
   "metadata": {},
   "outputs": [],
   "source": [
    " K = 14.5 "
   ]
  },
  {
   "cell_type": "code",
   "execution_count": 14,
   "id": "24be88e5",
   "metadata": {},
   "outputs": [],
   "source": [
    "C1 = np.maximum(S1 - K, 0)"
   ]
  },
  {
   "cell_type": "code",
   "execution_count": 15,
   "id": "5cf850ae",
   "metadata": {},
   "outputs": [
    {
     "data": {
      "text/plain": [
       "array([5.5, 0. ])"
      ]
     },
     "execution_count": 15,
     "metadata": {},
     "output_type": "execute_result"
    }
   ],
   "source": [
    "C1"
   ]
  },
  {
   "cell_type": "code",
   "execution_count": 16,
   "id": "82c88b71",
   "metadata": {},
   "outputs": [],
   "source": [
    "phi = np.linalg.solve(M1, C1)"
   ]
  },
  {
   "cell_type": "code",
   "execution_count": 17,
   "id": "a7cba2ff",
   "metadata": {},
   "outputs": [
    {
     "data": {
      "text/plain": [
       "array([ 0.36666667, -0.16666667])"
      ]
     },
     "execution_count": 17,
     "metadata": {},
     "output_type": "execute_result"
    }
   ],
   "source": [
    "phi"
   ]
  },
  {
   "cell_type": "code",
   "execution_count": 18,
   "id": "0b5c15b5",
   "metadata": {},
   "outputs": [
    {
     "data": {
      "text/plain": [
       "True"
      ]
     },
     "execution_count": 18,
     "metadata": {},
     "output_type": "execute_result"
    }
   ],
   "source": [
    "np.allclose(C1, np.dot(M1, phi))"
   ]
  },
  {
   "cell_type": "code",
   "execution_count": 19,
   "id": "b3071fcf",
   "metadata": {},
   "outputs": [],
   "source": [
    " C0 = np.dot(M0, phi) "
   ]
  },
  {
   "cell_type": "code",
   "execution_count": 20,
   "id": "ceed443b",
   "metadata": {},
   "outputs": [
    {
     "data": {
      "text/plain": [
       "70.90299999999999"
      ]
     },
     "execution_count": 20,
     "metadata": {},
     "output_type": "execute_result"
    }
   ],
   "source": [
    "C0"
   ]
  },
  {
   "cell_type": "markdown",
   "id": "b387369c",
   "metadata": {},
   "source": [
    "# Expected Utility Theory"
   ]
  },
  {
   "cell_type": "code",
   "execution_count": 21,
   "id": "01fa0a70",
   "metadata": {},
   "outputs": [],
   "source": [
    "def u(x):\n",
    "    return np.sqrt(x)"
   ]
  },
  {
   "cell_type": "code",
   "execution_count": 22,
   "id": "09be5eba",
   "metadata": {},
   "outputs": [],
   "source": [
    "phi_A = np.array((0.75, 0.25)) \n",
    "phi_D = np.array((0.25, 0.75))"
   ]
  },
  {
   "cell_type": "code",
   "execution_count": 23,
   "id": "8ac4cf62",
   "metadata": {},
   "outputs": [
    {
     "data": {
      "text/plain": [
       "False"
      ]
     },
     "execution_count": 23,
     "metadata": {},
     "output_type": "execute_result"
    }
   ],
   "source": [
    "np.dot(M0, phi_A) == np.dot(M0, phi_D)"
   ]
  },
  {
   "cell_type": "code",
   "execution_count": 24,
   "id": "c93b577a",
   "metadata": {},
   "outputs": [],
   "source": [
    "A1 = np.dot(M1, phi_A)"
   ]
  },
  {
   "cell_type": "code",
   "execution_count": 25,
   "id": "ab0ea8e1",
   "metadata": {},
   "outputs": [
    {
     "data": {
      "text/plain": [
       "array([17.75,  6.5 ])"
      ]
     },
     "execution_count": 25,
     "metadata": {},
     "output_type": "execute_result"
    }
   ],
   "source": [
    "A1"
   ]
  },
  {
   "cell_type": "code",
   "execution_count": 26,
   "id": "798fc6e6",
   "metadata": {},
   "outputs": [],
   "source": [
    "D1 = np.dot(M1, phi_D)"
   ]
  },
  {
   "cell_type": "code",
   "execution_count": 27,
   "id": "0187aa27",
   "metadata": {},
   "outputs": [
    {
     "data": {
      "text/plain": [
       "array([13.25,  9.5 ])"
      ]
     },
     "execution_count": 27,
     "metadata": {},
     "output_type": "execute_result"
    }
   ],
   "source": [
    "D1"
   ]
  },
  {
   "cell_type": "code",
   "execution_count": 28,
   "id": "02eb735c",
   "metadata": {},
   "outputs": [],
   "source": [
    "P = np.array((0.5, 0.5))"
   ]
  },
  {
   "cell_type": "code",
   "execution_count": 29,
   "id": "a4e35b41",
   "metadata": {},
   "outputs": [],
   "source": [
    "def EUT(x):\n",
    "    return np.dot(P, u(x))"
   ]
  },
  {
   "cell_type": "code",
   "execution_count": 30,
   "id": "f0aec5ed",
   "metadata": {},
   "outputs": [
    {
     "data": {
      "text/plain": [
       "3.381292321692286"
      ]
     },
     "execution_count": 30,
     "metadata": {},
     "output_type": "execute_result"
    }
   ],
   "source": [
    "EUT(A1) "
   ]
  },
  {
   "cell_type": "code",
   "execution_count": 31,
   "id": "494bcdda",
   "metadata": {},
   "outputs": [
    {
     "data": {
      "text/plain": [
       "3.3611309730623735"
      ]
     },
     "execution_count": 31,
     "metadata": {},
     "output_type": "execute_result"
    }
   ],
   "source": [
    "EUT(D1) "
   ]
  },
  {
   "cell_type": "code",
   "execution_count": 32,
   "id": "c97b0b4c",
   "metadata": {},
   "outputs": [],
   "source": [
    "from scipy.optimize import minimize"
   ]
  },
  {
   "cell_type": "code",
   "execution_count": 33,
   "id": "4f56c4f0",
   "metadata": {},
   "outputs": [],
   "source": [
    "w = 10"
   ]
  },
  {
   "cell_type": "code",
   "execution_count": 34,
   "id": "0407ab53",
   "metadata": {},
   "outputs": [],
   "source": [
    "cons = {'type': 'eq', 'fun': lambda phi: np.dot(M0, phi) - w}"
   ]
  },
  {
   "cell_type": "code",
   "execution_count": 35,
   "id": "49a83b64",
   "metadata": {},
   "outputs": [],
   "source": [
    "def EUT_(phi):\n",
    "    x = np.dot(M1, phi) \n",
    "    return EUT(x)"
   ]
  },
  {
   "cell_type": "code",
   "execution_count": 36,
   "id": "8971b3be",
   "metadata": {},
   "outputs": [],
   "source": [
    "opt = minimize(lambda phi: -EUT_(phi),  x0=phi_A, constraints=cons)"
   ]
  },
  {
   "cell_type": "code",
   "execution_count": 37,
   "id": "1eaaa5be",
   "metadata": {},
   "outputs": [
    {
     "data": {
      "text/plain": [
       "     fun: -18996.799596741148\n",
       "     jac: array([-0.00024414,  0.        ])\n",
       " message: 'Iteration limit reached'\n",
       "    nfev: 400\n",
       "     nit: 100\n",
       "    njev: 100\n",
       "  status: 9\n",
       " success: False\n",
       "       x: array([ -900539.97280755, 33833340.55226021])"
      ]
     },
     "execution_count": 37,
     "metadata": {},
     "output_type": "execute_result"
    }
   ],
   "source": [
    "opt"
   ]
  },
  {
   "cell_type": "code",
   "execution_count": 38,
   "id": "e320a0d5",
   "metadata": {},
   "outputs": [
    {
     "data": {
      "text/plain": [
       "18996.799596741148"
      ]
     },
     "execution_count": 38,
     "metadata": {},
     "output_type": "execute_result"
    }
   ],
   "source": [
    "EUT_(opt['x']) "
   ]
  },
  {
   "cell_type": "markdown",
   "id": "056ff62c",
   "metadata": {},
   "source": [
    "# Mean-Variance Portfolio Theory"
   ]
  },
  {
   "cell_type": "code",
   "execution_count": 39,
   "id": "6953f258",
   "metadata": {},
   "outputs": [],
   "source": [
    " rS = S1 / S0 - 1"
   ]
  },
  {
   "cell_type": "code",
   "execution_count": 40,
   "id": "d5fa3253",
   "metadata": {},
   "outputs": [
    {
     "data": {
      "text/plain": [
       "array([-0.89782364, -0.97445591])"
      ]
     },
     "execution_count": 40,
     "metadata": {},
     "output_type": "execute_result"
    }
   ],
   "source": [
    "rS"
   ]
  },
  {
   "cell_type": "code",
   "execution_count": 41,
   "id": "fd91623f",
   "metadata": {},
   "outputs": [],
   "source": [
    "rB = B1 / B0 - 1"
   ]
  },
  {
   "cell_type": "code",
   "execution_count": 42,
   "id": "a0cb3544",
   "metadata": {},
   "outputs": [
    {
     "data": {
      "text/plain": [
       "array([1.11132438, 1.11132438])"
      ]
     },
     "execution_count": 42,
     "metadata": {},
     "output_type": "execute_result"
    }
   ],
   "source": [
    "rB"
   ]
  },
  {
   "cell_type": "code",
   "execution_count": 43,
   "id": "aeba140b",
   "metadata": {},
   "outputs": [],
   "source": [
    "def mu(rX):\n",
    "    return np.dot(P, rX)"
   ]
  },
  {
   "cell_type": "code",
   "execution_count": 44,
   "id": "862ce46f",
   "metadata": {},
   "outputs": [
    {
     "data": {
      "text/plain": [
       "-0.9361397772555431"
      ]
     },
     "execution_count": 44,
     "metadata": {},
     "output_type": "execute_result"
    }
   ],
   "source": [
    "mu(rS)"
   ]
  },
  {
   "cell_type": "code",
   "execution_count": 45,
   "id": "9b4941a5",
   "metadata": {},
   "outputs": [
    {
     "data": {
      "text/plain": [
       "1.111324376199616"
      ]
     },
     "execution_count": 45,
     "metadata": {},
     "output_type": "execute_result"
    }
   ],
   "source": [
    "mu(rB)"
   ]
  },
  {
   "cell_type": "code",
   "execution_count": 46,
   "id": "0866bdcf",
   "metadata": {},
   "outputs": [],
   "source": [
    "rM = M1 / M0 - 1"
   ]
  },
  {
   "cell_type": "code",
   "execution_count": 47,
   "id": "7223c2b1",
   "metadata": {},
   "outputs": [
    {
     "data": {
      "text/plain": [
       "array([[-0.89782364,  1.11132438],\n",
       "       [-0.97445591,  1.11132438]])"
      ]
     },
     "execution_count": 47,
     "metadata": {},
     "output_type": "execute_result"
    }
   ],
   "source": [
    "rM"
   ]
  },
  {
   "cell_type": "code",
   "execution_count": 48,
   "id": "bb3e1325",
   "metadata": {},
   "outputs": [
    {
     "data": {
      "text/plain": [
       "array([-0.93613978,  1.11132438])"
      ]
     },
     "execution_count": 48,
     "metadata": {},
     "output_type": "execute_result"
    }
   ],
   "source": [
    "mu(rM)"
   ]
  },
  {
   "cell_type": "code",
   "execution_count": 49,
   "id": "063d9a39",
   "metadata": {},
   "outputs": [],
   "source": [
    "def var(rX):\n",
    "    return ((rX - mu(rX)) ** 2).mean()"
   ]
  },
  {
   "cell_type": "markdown",
   "id": "42acfdfd",
   "metadata": {},
   "source": [
    "# The variance function"
   ]
  },
  {
   "cell_type": "code",
   "execution_count": 51,
   "id": "6185cb79",
   "metadata": {},
   "outputs": [
    {
     "data": {
      "text/plain": [
       "0.0014681260976297978"
      ]
     },
     "execution_count": 51,
     "metadata": {},
     "output_type": "execute_result"
    }
   ],
   "source": [
    "var(rS)"
   ]
  },
  {
   "cell_type": "code",
   "execution_count": 52,
   "id": "1a51aa6b",
   "metadata": {},
   "outputs": [
    {
     "data": {
      "text/plain": [
       "0.0"
      ]
     },
     "execution_count": 52,
     "metadata": {},
     "output_type": "execute_result"
    }
   ],
   "source": [
    "var(rB)"
   ]
  },
  {
   "cell_type": "markdown",
   "id": "68e8e9ef",
   "metadata": {},
   "source": [
    "# The volatility function"
   ]
  },
  {
   "cell_type": "code",
   "execution_count": 53,
   "id": "1fe8f844",
   "metadata": {},
   "outputs": [],
   "source": [
    "def sigma(rX):\n",
    "    return np.sqrt(var(rX))"
   ]
  },
  {
   "cell_type": "code",
   "execution_count": 54,
   "id": "e0d0fa1b",
   "metadata": {},
   "outputs": [
    {
     "data": {
      "text/plain": [
       "0.03831613364667419"
      ]
     },
     "execution_count": 54,
     "metadata": {},
     "output_type": "execute_result"
    }
   ],
   "source": [
    "sigma(rS)"
   ]
  },
  {
   "cell_type": "code",
   "execution_count": 55,
   "id": "fc616ac8",
   "metadata": {},
   "outputs": [
    {
     "data": {
      "text/plain": [
       "0.0"
      ]
     },
     "execution_count": 55,
     "metadata": {},
     "output_type": "execute_result"
    }
   ],
   "source": [
    "sigma(rB)"
   ]
  },
  {
   "cell_type": "markdown",
   "id": "398334d9",
   "metadata": {},
   "source": [
    "# The covariance matrix"
   ]
  },
  {
   "cell_type": "code",
   "execution_count": 56,
   "id": "3c533083",
   "metadata": {},
   "outputs": [
    {
     "data": {
      "text/plain": [
       "array([[0.00146813, 0.        ],\n",
       "       [0.        , 0.        ]])"
      ]
     },
     "execution_count": 56,
     "metadata": {},
     "output_type": "execute_result"
    }
   ],
   "source": [
    "np.cov(rM.T, aweights=P, ddof=0) "
   ]
  },
  {
   "cell_type": "code",
   "execution_count": 57,
   "id": "af4cc332",
   "metadata": {},
   "outputs": [],
   "source": [
    "phi = np.array((0.5, 0.5))"
   ]
  },
  {
   "cell_type": "code",
   "execution_count": 58,
   "id": "3939e5af",
   "metadata": {},
   "outputs": [],
   "source": [
    "def mu_phi(phi):\n",
    "    return np.dot(phi, mu(rM))"
   ]
  },
  {
   "cell_type": "code",
   "execution_count": 59,
   "id": "2a4145a4",
   "metadata": {},
   "outputs": [
    {
     "data": {
      "text/plain": [
       "0.0875922994720365"
      ]
     },
     "execution_count": 59,
     "metadata": {},
     "output_type": "execute_result"
    }
   ],
   "source": [
    "mu_phi(phi)"
   ]
  },
  {
   "cell_type": "code",
   "execution_count": 60,
   "id": "e721cdf6",
   "metadata": {},
   "outputs": [],
   "source": [
    "def var_phi(phi):\n",
    "    cv = np.cov(rM.T, aweights=P, ddof=0)\n",
    "    return np.dot(phi, np.dot(cv, phi))"
   ]
  },
  {
   "cell_type": "code",
   "execution_count": 61,
   "id": "8044e2fe",
   "metadata": {},
   "outputs": [
    {
     "data": {
      "text/plain": [
       "0.00036703152440744946"
      ]
     },
     "execution_count": 61,
     "metadata": {},
     "output_type": "execute_result"
    }
   ],
   "source": [
    "var_phi(phi)"
   ]
  },
  {
   "cell_type": "code",
   "execution_count": 62,
   "id": "ea5bb0bd",
   "metadata": {},
   "outputs": [],
   "source": [
    "def sigma_phi(phi):\n",
    "    return var_phi(phi) ** 0.5 "
   ]
  },
  {
   "cell_type": "code",
   "execution_count": 63,
   "id": "64b25ef7",
   "metadata": {},
   "outputs": [
    {
     "data": {
      "text/plain": [
       "0.019158066823337094"
      ]
     },
     "execution_count": 63,
     "metadata": {},
     "output_type": "execute_result"
    }
   ],
   "source": [
    " sigma_phi(phi)"
   ]
  },
  {
   "cell_type": "code",
   "execution_count": 64,
   "id": "f5860a7c",
   "metadata": {},
   "outputs": [],
   "source": [
    " phi_mcs = np.random.random((2, 200))"
   ]
  },
  {
   "cell_type": "code",
   "execution_count": 65,
   "id": "e3b5f11f",
   "metadata": {},
   "outputs": [],
   "source": [
    " phi_mcs = (phi_mcs / phi_mcs.sum(axis=0)).T"
   ]
  },
  {
   "cell_type": "code",
   "execution_count": 66,
   "id": "934c11c4",
   "metadata": {},
   "outputs": [],
   "source": [
    "mcs = np.array([(sigma_phi(phi), mu_phi(phi))\n",
    "                 for phi in phi_mcs])"
   ]
  },
  {
   "cell_type": "code",
   "execution_count": 67,
   "id": "959119ed",
   "metadata": {},
   "outputs": [
    {
     "data": {
      "image/png": "[encoded data removed]",
      "text/plain": [
       "<Figure size 1000x600 with 1 Axes>"
      ]
     },
     "metadata": {},
     "output_type": "display_data"
    }
   ],
   "source": [
    "plt.figure(figsize=(10, 6))\n",
    "plt.plot(mcs[:, 0], mcs[:, 1], 'ro')\n",
    "plt.xlabel('expected volatility')\n",
    "plt.ylabel('expected return');"
   ]
  },
  {
   "cell_type": "code",
   "execution_count": 68,
   "id": "4f5cb1e5",
   "metadata": {},
   "outputs": [],
   "source": [
    "P = np.ones(3) / 3 "
   ]
  },
  {
   "cell_type": "code",
   "execution_count": 70,
   "id": "bdfa3c4e",
   "metadata": {},
   "outputs": [
    {
     "data": {
      "text/plain": [
       "array([0.33333333, 0.33333333, 0.33333333])"
      ]
     },
     "execution_count": 70,
     "metadata": {},
     "output_type": "execute_result"
    }
   ],
   "source": [
    "P"
   ]
  },
  {
   "cell_type": "code",
   "execution_count": 71,
   "id": "790079ae",
   "metadata": {},
   "outputs": [],
   "source": [
    "S1 = np.array((20, 10, 5))"
   ]
  },
  {
   "cell_type": "code",
   "execution_count": 72,
   "id": "85bf26a7",
   "metadata": {},
   "outputs": [],
   "source": [
    "T0 = 10\n",
    "T1 = np.array((1, 12, 13))"
   ]
  },
  {
   "cell_type": "code",
   "execution_count": 73,
   "id": "424d823b",
   "metadata": {},
   "outputs": [
    {
     "data": {
      "text/plain": [
       "array([195.74,  10.  ])"
      ]
     },
     "execution_count": 73,
     "metadata": {},
     "output_type": "execute_result"
    }
   ],
   "source": [
    "M0 = np.array((S0, T0))\n",
    "M0\n"
   ]
  },
  {
   "cell_type": "code",
   "execution_count": 74,
   "id": "acc05738",
   "metadata": {},
   "outputs": [],
   "source": [
    " M1 = np.array((S1, T1)).T"
   ]
  },
  {
   "cell_type": "code",
   "execution_count": 75,
   "id": "a6cd3b2b",
   "metadata": {},
   "outputs": [
    {
     "data": {
      "text/plain": [
       "array([[20,  1],\n",
       "       [10, 12],\n",
       "       [ 5, 13]])"
      ]
     },
     "execution_count": 75,
     "metadata": {},
     "output_type": "execute_result"
    }
   ],
   "source": [
    "M1"
   ]
  },
  {
   "cell_type": "code",
   "execution_count": 76,
   "id": "4e466351",
   "metadata": {},
   "outputs": [
    {
     "data": {
      "text/plain": [
       "array([[-0.89782364, -0.9       ],\n",
       "       [-0.94891182,  0.2       ],\n",
       "       [-0.97445591,  0.3       ]])"
      ]
     },
     "execution_count": 76,
     "metadata": {},
     "output_type": "execute_result"
    }
   ],
   "source": [
    "rM = M1 / M0 - 1\n",
    "rM"
   ]
  },
  {
   "cell_type": "code",
   "execution_count": 77,
   "id": "36e086c7",
   "metadata": {},
   "outputs": [],
   "source": [
    "mcs = np.array([(sigma_phi(phi), mu_phi(phi))\n",
    "                 for phi in phi_mcs])\n"
   ]
  },
  {
   "cell_type": "code",
   "execution_count": 78,
   "id": "c8fced75",
   "metadata": {},
   "outputs": [
    {
     "data": {
      "image/png": "[encoded data removed]",
      "text/plain": [
       "<Figure size 1000x600 with 1 Axes>"
      ]
     },
     "metadata": {},
     "output_type": "display_data"
    }
   ],
   "source": [
    "plt.figure(figsize=(10, 6))\n",
    "plt.plot(mcs[:, 0], mcs[:, 1], 'ro')\n",
    "plt.xlabel('expected volatility')\n",
    "plt.ylabel('expected return');\n"
   ]
  },
  {
   "cell_type": "markdown",
   "id": "e7ee2857",
   "metadata": {},
   "source": [
    "# Minimum volatility and maximum Sharpe ratio"
   ]
  },
  {
   "cell_type": "code",
   "execution_count": 79,
   "id": "dc472215",
   "metadata": {},
   "outputs": [],
   "source": [
    "cons = {'type': 'eq', 'fun': lambda phi: np.sum(phi) - 1}"
   ]
  },
  {
   "cell_type": "code",
   "execution_count": 80,
   "id": "28379da3",
   "metadata": {},
   "outputs": [],
   "source": [
    "bnds = ((0, 1), (0, 1))\n"
   ]
  },
  {
   "cell_type": "code",
   "execution_count": 81,
   "id": "cd926a0e",
   "metadata": {},
   "outputs": [],
   "source": [
    "min_var = minimize(sigma_phi, (0.5, 0.5),\n",
    "                   constraints=cons, bounds=bnds)"
   ]
  },
  {
   "cell_type": "code",
   "execution_count": 82,
   "id": "0f751f27",
   "metadata": {
    "scrolled": true
   },
   "outputs": [
    {
     "data": {
      "text/plain": [
       "     fun: 0.007701133241917548\n",
       "     jac: array([0.00762987, 0.00895386])\n",
       " message: 'Optimization terminated successfully'\n",
       "    nfev: 13\n",
       "     nit: 4\n",
       "    njev: 4\n",
       "  status: 0\n",
       " success: True\n",
       "       x: array([0.94615926, 0.05384074])"
      ]
     },
     "execution_count": 82,
     "metadata": {},
     "output_type": "execute_result"
    }
   ],
   "source": [
    "min_var"
   ]
  },
  {
   "cell_type": "code",
   "execution_count": 84,
   "id": "2a3c2d45",
   "metadata": {},
   "outputs": [],
   "source": [
    "def sharpe(phi):\n",
    "    return mu_phi(phi) / sigma_phi(phi)"
   ]
  },
  {
   "cell_type": "code",
   "execution_count": 85,
   "id": "02c7d774",
   "metadata": {},
   "outputs": [],
   "source": [
    " max_sharpe = minimize(lambda phi: -sharpe(phi), (0.5, 0.5),constraints=cons, bounds=bnds) "
   ]
  },
  {
   "cell_type": "code",
   "execution_count": 86,
   "id": "0db0cfe3",
   "metadata": {},
   "outputs": [
    {
     "data": {
      "text/plain": [
       "     fun: 0.24525573579398635\n",
       "     jac: array([ 1.7436791, -0.       ])\n",
       " message: 'Optimization terminated successfully'\n",
       "    nfev: 6\n",
       "     nit: 2\n",
       "    njev: 2\n",
       "  status: 0\n",
       " success: True\n",
       "       x: array([0., 1.])"
      ]
     },
     "execution_count": 86,
     "metadata": {},
     "output_type": "execute_result"
    }
   ],
   "source": [
    "max_sharpe"
   ]
  },
  {
   "cell_type": "code",
   "execution_count": 87,
   "id": "88a2bf45",
   "metadata": {},
   "outputs": [
    {
     "data": {
      "image/png": "[encoded data removed]",
      "text/plain": [
       "<Figure size 1000x600 with 1 Axes>"
      ]
     },
     "metadata": {},
     "output_type": "display_data"
    }
   ],
   "source": [
    "plt.figure(figsize=(10, 6))\n",
    "plt.plot(mcs[:, 0], mcs[:, 1], 'ro', ms=5)\n",
    "plt.plot(sigma_phi(min_var['x']), mu_phi(min_var['x']),'^', ms=12.5, label='minimum volatility')\n",
    "plt.plot(sigma_phi(max_sharpe['x']), mu_phi(max_sharpe['x']),'v', ms=12.5, label='maximum Sharpe ratio')\n",
    "plt.xlabel('expected volatility')\n",
    "plt.ylabel('expected return')\n",
    "plt.legend();\n"
   ]
  },
  {
   "cell_type": "markdown",
   "id": "e4761c0d",
   "metadata": {},
   "source": [
    "# Efficient frontier"
   ]
  },
  {
   "cell_type": "code",
   "execution_count": 88,
   "id": "525fd400",
   "metadata": {},
   "outputs": [],
   "source": [
    "cons = [{'type': 'eq', 'fun': lambda phi: np.sum(phi) - 1},{'type': 'eq', 'fun': lambda phi: mu_phi(phi) - target}]"
   ]
  },
  {
   "cell_type": "code",
   "execution_count": 89,
   "id": "919a7e65",
   "metadata": {},
   "outputs": [],
   "source": [
    "bnds = ((0, 1), (0, 1))\n"
   ]
  },
  {
   "cell_type": "code",
   "execution_count": 90,
   "id": "77457fa0",
   "metadata": {},
   "outputs": [],
   "source": [
    "targets = np.linspace(mu_phi(min_var['x']), 0.16)"
   ]
  },
  {
   "cell_type": "code",
   "execution_count": 91,
   "id": "a03feab8",
   "metadata": {},
   "outputs": [],
   "source": [
    "frontier = []\n",
    "for target in targets:\n",
    "    phi_eff = minimize(sigma_phi, (0.5, 0.5),\n",
    "                       constraints=cons, bounds=bnds)['x'] \n",
    "    frontier.append((sigma_phi(phi_eff), mu_phi(phi_eff)))\n",
    "frontier = np.array(frontier)"
   ]
  },
  {
   "cell_type": "code",
   "execution_count": 92,
   "id": "e51f7b12",
   "metadata": {},
   "outputs": [
    {
     "data": {
      "image/png": "[encoded data removed]",
      "text/plain": [
       "<Figure size 1000x600 with 1 Axes>"
      ]
     },
     "metadata": {},
     "output_type": "display_data"
    }
   ],
   "source": [
    "plt.figure(figsize=(10, 6))\n",
    "plt.plot(frontier[:, 0], frontier[:, 1], 'mo', ms=5,label='efficient frontier')\n",
    "plt.plot(sigma_phi(min_var['x']), mu_phi(min_var['x']),'^', ms=12.5, label='minimum volatility')\n",
    "plt.plot(sigma_phi(max_sharpe['x']), mu_phi(max_sharpe['x']),'v', ms=12.5, label='maximum Sharpe ratio')\n",
    "plt.xlabel('expected volatility')\n",
    "plt.ylabel('expected return')\n",
    "plt.legend();"
   ]
  },
  {
   "cell_type": "code",
   "execution_count": 93,
   "id": "2d7892be",
   "metadata": {},
   "outputs": [
    {
     "data": {
      "image/png": "[encoded data removed]",
      "text/plain": [
       "<Figure size 1000x600 with 1 Axes>"
      ]
     },
     "metadata": {},
     "output_type": "display_data"
    }
   ],
   "source": [
    "plt.figure(figsize=(10, 6))\n",
    "plt.plot((0, 0.3), (0.01, 0.22), label='capital market line')\n",
    "plt.plot(0, 0.01, 'o', ms=9, label='risk-less asset')\n",
    "plt.plot(0.2, 0.15, '^', ms=9, label='market portfolio')\n",
    "plt.annotate('$(0, \\\\bar{r})$', (0, 0.01), (-0.01, 0.02))\n",
    "plt.annotate('$(\\sigma_M, \\mu_M)$', (0.2, 0.15), (0.19, 0.16))\n",
    "plt.xlabel('expected volatility')\n",
    "plt.ylabel('expected return')\n",
    "plt.legend();\n"
   ]
  },
  {
   "cell_type": "markdown",
   "id": "62161ef0",
   "metadata": {},
   "source": [
    "# Capital market line"
   ]
  },
  {
   "cell_type": "code",
   "execution_count": 94,
   "id": "4ae335fe",
   "metadata": {},
   "outputs": [],
   "source": [
    "phi_M = np.array((0.8, 0.2))"
   ]
  },
  {
   "cell_type": "code",
   "execution_count": 95,
   "id": "22864d09",
   "metadata": {},
   "outputs": [],
   "source": [
    "mu_M = mu_phi(phi_M)\n"
   ]
  },
  {
   "cell_type": "code",
   "execution_count": 96,
   "id": "d647ef1b",
   "metadata": {},
   "outputs": [
    {
     "data": {
      "text/plain": [
       "-0.7789843670174721"
      ]
     },
     "execution_count": 96,
     "metadata": {},
     "output_type": "execute_result"
    }
   ],
   "source": [
    "mu_M"
   ]
  },
  {
   "cell_type": "code",
   "execution_count": 97,
   "id": "7381ea38",
   "metadata": {},
   "outputs": [],
   "source": [
    "sigma_M = sigma_phi(phi_M)"
   ]
  },
  {
   "cell_type": "code",
   "execution_count": 98,
   "id": "470a9655",
   "metadata": {},
   "outputs": [
    {
     "data": {
      "text/plain": [
       "0.08434002882142676"
      ]
     },
     "execution_count": 98,
     "metadata": {},
     "output_type": "execute_result"
    }
   ],
   "source": [
    "sigma_M"
   ]
  },
  {
   "cell_type": "code",
   "execution_count": 99,
   "id": "58d42b20",
   "metadata": {},
   "outputs": [],
   "source": [
    "r = 0.0025\n"
   ]
  },
  {
   "cell_type": "code",
   "execution_count": 100,
   "id": "e6f713dc",
   "metadata": {},
   "outputs": [
    {
     "data": {
      "image/png": "[encoded data removed]",
      "text/plain": [
       "<Figure size 1000x600 with 1 Axes>"
      ]
     },
     "metadata": {},
     "output_type": "display_data"
    }
   ],
   "source": [
    "plt.figure(figsize=(10, 6))\n",
    "plt.plot(frontier[:, 0], frontier[:, 1], 'm.', ms=5,label='efficient frontier')\n",
    "plt.plot(0, r, 'o', ms=9, label='risk-less asset')\n",
    "plt.plot(sigma_M, mu_M, '^', ms=9, label='market portfolio')\n",
    "plt.plot((0, 0.6), (r, r + ((mu_M - r) / sigma_M) * 0.6),'r', label='capital market line', lw=2.0)\n",
    "plt.annotate('$(0, \\\\bar{r})$', (0, r), (-0.015, r + 0.01))\n",
    "plt.annotate('$(\\sigma_M, \\mu_M)$', (sigma_M, mu_M),(sigma_M - 0.025, mu_M + 0.01))\n",
    "plt.xlabel('expected volatility')\n",
    "plt.ylabel('expected return')\n",
    "plt.legend();"
   ]
  },
  {
   "cell_type": "code",
   "execution_count": null,
   "id": "864cce14",
   "metadata": {},
   "outputs": [],
   "source": []
  }
 ],
 "metadata": {
  "kernelspec": {
   "display_name": "Python 3 (ipykernel)",
   "language": "python",
   "name": "python3"
  },
  "language_info": {
   "codemirror_mode": {
    "name": "ipython",
    "version": 3
   },
   "file_extension": ".py",
   "mimetype": "text/x-python",
   "name": "python",
   "nbconvert_exporter": "python",
   "pygments_lexer": "ipython3",
   "version": "3.9.13"
  }
 },
 "nbformat": 4,
 "nbformat_minor": 5
}
